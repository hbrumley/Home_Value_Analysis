{
 "cells": [
  {
   "cell_type": "code",
   "execution_count": 1,
   "metadata": {},
   "outputs": [],
   "source": [
    "import pandas as pd\n",
    "import numpy as np\n",
    "import matplotlib.pyplot as plt\n",
    "from matplotlib import mlab\n",
    "from scipy import stats"
   ]
  },
  {
   "cell_type": "markdown",
   "metadata": {},
   "source": [
    "We have created our classes for the value of the home in this project's main notebook rather arbitrarily. The goal of this notebook is to determine if the data supports that these classes are in fact different."
   ]
  },
  {
   "cell_type": "code",
   "execution_count": 2,
   "metadata": {},
   "outputs": [
    {
     "name": "stderr",
     "output_type": "stream",
     "text": [
      "/Users/hunter/anaconda/lib/python3.6/site-packages/ipykernel/__main__.py:15: SettingWithCopyWarning: \n",
      "A value is trying to be set on a copy of a slice from a DataFrame\n",
      "\n",
      "See the caveats in the documentation: http://pandas.pydata.org/pandas-docs/stable/indexing.html#indexing-view-versus-copy\n",
      "/Users/hunter/anaconda/lib/python3.6/site-packages/ipykernel/__main__.py:26: SettingWithCopyWarning: \n",
      "A value is trying to be set on a copy of a slice from a DataFrame\n",
      "\n",
      "See the caveats in the documentation: http://pandas.pydata.org/pandas-docs/stable/indexing.html#indexing-view-versus-copy\n"
     ]
    }
   ],
   "source": [
    "dat = pd.concat([pd.read_csv('ss15hnd.csv'), pd.read_csv('ss15hny.csv'),\n",
    "                 pd.read_csv('ss15hwy.csv'),\n",
    "                 pd.read_csv('ss15htx.csv')], ignore_index = True)\n",
    "dat.rename(columns = {\"insp\": \"INSP\"}, inplace = True)\n",
    "\n",
    "colnames = [\"ST\", \"NP\", \"ACR\", \"BATH\", \"BDSP\", \"ELEP\", \"GASP\", \"INSP\",\n",
    "              \"RMSP\", \"RWAT\", \"SINK\", \"VALP\", \"VEH\", \"WATP\", \"YBL\", \"HINCP\"]\n",
    "readable_names = [\"State\", \"Num_People\", \"Lot_Size\", \"Has_Bathtub\", \"Num_Bedrooms\",\n",
    "                  \"Monthly_Electric\", \"Monthly_Gas\", \"Yearly_Insurance_Cost\", \"Num_Rooms\",\n",
    "                  \"Has_Hot_Water\", \"Has_Sink\", \"Price\", \"Num_Vehicles\",\n",
    "                  \"Yearly_Water\", \"Year_Built\", \"Household_Income\"]\n",
    "\n",
    "cols = dat[colnames]\n",
    "cols.columns = readable_names\n",
    "cols.dropna(inplace = True)\n",
    "\n",
    "cols = pd.get_dummies(cols, columns = [\"State\"])\n",
    "readable_names = readable_names[1:]\n",
    "states =[\"NY\", \"ND\", \"TX\", \"WY\"]\n",
    "readable_names.extend(states)\n",
    "cols.columns = readable_names\n",
    "\n",
    "codes = list(range(1,20))\n",
    "ages = [90] + [i*10 for i in reversed(range(2,8))] + [13] + list(reversed(range(11)))\n",
    "for code, age in zip(codes, ages):\n",
    "    cols.Year_Built[cols.Year_Built == code] = age\n",
    "cols.rename(columns={\"Year_Built\":\"Age\"}, inplace = True)\n",
    "\n",
    "for col in [\"Monthly_Electric\", \"Monthly_Gas\", \"Yearly_Insurance_Cost\", \"Yearly_Water\"]:\n",
    "    cols.loc[:,col] *= dat.loc[cols.index, 'ADJHSG'] * 10**-6\n",
    "    \n",
    "cols.Household_Income *= dat.loc[cols.index, 'ADJINC'] * 10**-6\n",
    "\n",
    "cols['Mobile_Home'] = pd.Series(dat.BLD == 1, dtype = 'int')\n",
    "\n",
    "cols['Crowding'] = cols.Num_People / cols.Num_Rooms\n",
    "\n",
    "cols.Num_Rooms -= cols.Num_Bedrooms\n",
    "\n",
    "X = cols[[col for col in cols if col != 'Price']]\n",
    "Y = cols.Price\n",
    "\n",
    "Yclass = np.zeros(len(Y))\n",
    "Yclass[Y < 10000] = 1\n",
    "Yclass[(Y>=10000) & (Y<100000)] = 2\n",
    "Yclass[(Y>=100000) & (Y<500000)] = 3\n",
    "Yclass[Y>=500000] = 4"
   ]
  },
  {
   "cell_type": "markdown",
   "metadata": {},
   "source": [
    "Plotting the data in a histogram will show if the housing prices appear to be normally distributed."
   ]
  },
  {
   "cell_type": "code",
   "execution_count": 3,
   "metadata": {},
   "outputs": [
    {
     "name": "stdout",
     "output_type": "stream",
     "text": [
      "mean: 237063.62253327988\n"
     ]
    },
    {
     "data": {
      "image/png": "[encoded data removed]",
      "text/plain": [
       "<matplotlib.figure.Figure at 0x1a0f956d68>"
      ]
     },
     "metadata": {},
     "output_type": "display_data"
    }
   ],
   "source": [
    "%matplotlib inline\n",
    "\n",
    "mu = np.mean(Y)\n",
    "sigma = np.std(Y)\n",
    "bins = np.append(np.linspace(100,200000,5, endpoint=False),np.geomspace(200000,Y.max(),20))\n",
    "\n",
    "plt.hist(Y, bins = bins, normed = True)\n",
    "x = np.linspace(0, Y.max(), 500)\n",
    "y = mlab.normpdf(x,mu,sigma)\n",
    "plt.plot(x,y,'r--',linewidth=2)\n",
    "plt.xlim((0,2*10**6))\n",
    "plt.ylim((0,5*10**-6))\n",
    "\n",
    "print(\"mean:\", mu)"
   ]
  },
  {
   "cell_type": "markdown",
   "metadata": {},
   "source": [
    "This observed distribution does not line up with a normal distribution. It is sometimes helpful to transform the target in order to see if the transformed data better fits a normal distribution. We will try to transform the distribution by taking the natural logarithm of the home price."
   ]
  },
  {
   "cell_type": "code",
   "execution_count": 4,
   "metadata": {},
   "outputs": [
    {
     "name": "stdout",
     "output_type": "stream",
     "text": [
      "mean: 11.858877160756318\n"
     ]
    },
    {
     "data": {
      "image/png": "[encoded data removed]",
      "text/plain": [
       "<matplotlib.figure.Figure at 0x10875f3c8>"
      ]
     },
     "metadata": {},
     "output_type": "display_data"
    }
   ],
   "source": [
    "%matplotlib inline\n",
    "\n",
    "Y = np.log(cols.Price)\n",
    "\n",
    "mu = np.mean(Y)\n",
    "sigma = np.std(Y)\n",
    "\n",
    "plt.hist(Y, bins = 25, normed = True)\n",
    "x = np.linspace(4, 17, 500)\n",
    "y = mlab.normpdf(x,mu,sigma)\n",
    "plt.plot(x,y,'r--',linewidth=2)\n",
    "\n",
    "print(\"mean:\", mu)"
   ]
  },
  {
   "cell_type": "markdown",
   "metadata": {},
   "source": [
    "Our goal is to find the features which most highly correlate to price. **Spearman's $\\rho$** is a statistical value that shows the strength of the relationship between two numerical variables. An r value near 1 indicates that the variables are strongly positively correlated, an r value near 0 indicates the variables are very weakly correlated, and an r value near -1 indicates that the variables are strongly negatively correlated.\n",
    "\n",
    "We are using Spearman's correlation coefficient rather than Pearson's r coefficient since some of our variables are ordinal rather than continuous. We lose some statistical power but in addition we also lose the assumption that the variables are correlated linearly.\n",
    "\n",
    "We will want to see if any of the numerical features in this dataset are highly correlated with price."
   ]
  },
  {
   "cell_type": "code",
   "execution_count": 5,
   "metadata": {},
   "outputs": [
    {
     "data": {
      "text/plain": [
       "Yearly_Insurance_Cost    0.588375\n",
       "Household_Income         0.488422\n",
       "Num_Bedrooms             0.357388\n",
       "Num_Rooms                0.317249\n",
       "Monthly_Electric         0.218194\n",
       "Num_Vehicles             0.137571\n",
       "Num_People               0.133119\n",
       "Monthly_Gas              0.105707\n",
       "Age                     -0.098152\n",
       "Crowding                -0.074630\n",
       "Yearly_Water             0.072626\n",
       "Lot_Size                 0.013304\n",
       "Name: truevalues, dtype: float64"
      ]
     },
     "execution_count": 5,
     "metadata": {},
     "output_type": "execute_result"
    }
   ],
   "source": [
    "numericals = pd.Series(index=['Num_People', 'Lot_Size', 'Num_Bedrooms', 'Monthly_Electric', 'Monthly_Gas', 'Yearly_Insurance_Cost',\n",
    "                 'Num_Rooms','Num_Vehicles','Yearly_Water','Age','Household_Income','Crowding'])\n",
    "\n",
    "for index, value in numericals.iteritems():\n",
    "    numericals[index] = stats.spearmanr(X[index],Y)[0]\n",
    "    \n",
    "numerical_df = pd.DataFrame({'truevalues':numericals, 'absvalues':abs(numericals)})\n",
    "    \n",
    "numerical_df.sort_values(by='absvalues', ascending=False).truevalues"
   ]
  },
  {
   "cell_type": "markdown",
   "metadata": {},
   "source": [
    "For the categorical features, correlation is nonsensical. We may not easily have a  For each feature, we will want to perform a hypothesis test with the null and alternate hypotheses as follows:\n",
    "\n",
    "$H_0:$ Mean home value is identical for each group in this feature.  \n",
    "$H_1:$ Mean home value is different for each group in this feature.\n",
    "\n",
    "We will perform a one-way ANOVA."
   ]
  },
  {
   "cell_type": "code",
   "execution_count": 7,
   "metadata": {},
   "outputs": [
    {
     "name": "stdout",
     "output_type": "stream",
     "text": [
      "Home value is dependent of Has_Sink, f = 51643947.23886792, p = 0.0\n",
      "Home value is dependent of NY, f = 48647052.7789896, p = 0.0\n",
      "Home value is dependent of Has_Bathtub, f = 51640555.20996563, p = 0.0\n",
      "Home value is dependent of ND, f = 60457869.039561406, p = 0.0\n",
      "Home value is dependent of TX, f = 46469958.74903725, p = 0.0\n",
      "Home value is dependent of Mobile_Home, f = 58024678.296783365, p = 0.0\n",
      "Home value is dependent of WY, f = 60737093.214808166, p = 0.0\n",
      "Home value is dependent of Has_Hot_Water, f = 51596621.98897229, p = 0.0\n"
     ]
    }
   ],
   "source": [
    "categorical_features  = list(set(X.columns) - set(numericals.index))\n",
    "for feature in categorical_features:\n",
    "    f, p = stats.f_oneway(X[feature], Y)\n",
    "    if p < 0.01:\n",
    "        print(\"Home value is dependent of {}, f = {}, p = {}\".format(feature,f,p))\n",
    "    else:\n",
    "        print(\"Home value is independent of {}, f = {}, p = {}\".format(feature,f,p))"
   ]
  },
  {
   "cell_type": "markdown",
   "metadata": {},
   "source": [
    "These test statistics are high enough that the p values are not rendering. Apparently there is some correlation between each of our categorical features, though we do not know the effect size."
   ]
  }
 ],
 "metadata": {
  "kernelspec": {
   "display_name": "Python [default]",
   "language": "python",
   "name": "python3"
  },
  "language_info": {
   "codemirror_mode": {
    "name": "ipython",
    "version": 3
   },
   "file_extension": ".py",
   "mimetype": "text/x-python",
   "name": "python",
   "nbconvert_exporter": "python",
   "pygments_lexer": "ipython3",
   "version": "3.6.4"
  }
 },
 "nbformat": 4,
 "nbformat_minor": 2
}
