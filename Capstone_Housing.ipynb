{
 "cells": [
  {
   "cell_type": "markdown",
   "metadata": {},
   "source": [
    "# Introduction: PUMS home value analysis\n",
    "\n",
    "I am analyzing the 2011-2015 PUMS housing data, found [here](https://www.census.gov/programs-surveys/acs/data/pums.html). The data dictionary which explains the meaning of each column and the values contained within is available [here.](https://www.census.gov/programs-surveys/acs/technical-documentation/pums/documentation.2015.html) I want to find an algorithm that can predict the value of the home.\n",
    "\n",
    "## Part I: Importing the data\n",
    "\n",
    "We will start by importing some libraries very useful for machine learning including pandas and scikit-learn. It will be helpful to change the column names to be more readable. I have chosen to use data from two states with very low populations (North Dakota and Wyoming) and two states with very high populations (New York and Texas) to get a fairly diverse dataset."
   ]
  },
  {
   "cell_type": "code",
   "execution_count": 1,
   "metadata": {
    "collapsed": true
   },
   "outputs": [],
   "source": [
    "import pandas as pd\n",
    "import numpy as np\n",
    "import matplotlib.pyplot as plt\n",
    "from sklearn import preprocessing\n",
    "from sklearn import model_selection\n",
    "from sklearn import linear_model\n",
    "from sklearn.ensemble import RandomForestClassifier"
   ]
  },
  {
   "cell_type": "code",
   "execution_count": 2,
   "metadata": {
    "collapsed": false,
    "scrolled": true
   },
   "outputs": [],
   "source": [
    "dat = pd.concat([pd.read_csv('ss15hnd.csv'), pd.read_csv('ss15hny.csv'),\n",
    "                 pd.read_csv('ss15hwy.csv'),\n",
    "                 pd.read_csv('ss15htx.csv')], ignore_index = True)\n",
    "dat.rename(columns = {\"insp\": \"INSP\"}, inplace = True)"
   ]
  },
  {
   "cell_type": "code",
   "execution_count": 3,
   "metadata": {
    "collapsed": false,
    "scrolled": false
   },
   "outputs": [
    {
     "name": "stderr",
     "output_type": "stream",
     "text": [
      "/Users/hunter/anaconda/lib/python3.6/site-packages/ipykernel/__main__.py:13: SettingWithCopyWarning: \n",
      "A value is trying to be set on a copy of a slice from a DataFrame\n",
      "\n",
      "See the caveats in the documentation: http://pandas.pydata.org/pandas-docs/stable/indexing.html#indexing-view-versus-copy\n"
     ]
    },
    {
     "data": {
      "text/html": [
       "<div>\n",
       "<table border=\"1\" class=\"dataframe\">\n",
       "  <thead>\n",
       "    <tr style=\"text-align: right;\">\n",
       "      <th></th>\n",
       "      <th>State</th>\n",
       "      <th>Num_People</th>\n",
       "      <th>Lot_Size</th>\n",
       "      <th>Has_Bathtub</th>\n",
       "      <th>Num_Bedrooms</th>\n",
       "      <th>Monthly_Electric</th>\n",
       "      <th>Monthly_Gas</th>\n",
       "      <th>Yearly_Insurance_Cost</th>\n",
       "      <th>Num_Rooms</th>\n",
       "      <th>Has_Hot_Water</th>\n",
       "      <th>Has_Sink</th>\n",
       "      <th>Price</th>\n",
       "      <th>Num_Vehicles</th>\n",
       "      <th>Yearly_Water</th>\n",
       "      <th>Year_Built</th>\n",
       "      <th>Family_Income</th>\n",
       "      <th>Household_Income</th>\n",
       "    </tr>\n",
       "  </thead>\n",
       "  <tbody>\n",
       "    <tr>\n",
       "      <th>count</th>\n",
       "      <td>407700.000000</td>\n",
       "      <td>407700.000000</td>\n",
       "      <td>407700.000000</td>\n",
       "      <td>407700.000000</td>\n",
       "      <td>407700.000000</td>\n",
       "      <td>407700.000000</td>\n",
       "      <td>407700.000000</td>\n",
       "      <td>407700.000000</td>\n",
       "      <td>407700.000000</td>\n",
       "      <td>407700.000000</td>\n",
       "      <td>407700.000000</td>\n",
       "      <td>4.077000e+05</td>\n",
       "      <td>407700.000000</td>\n",
       "      <td>407700.000000</td>\n",
       "      <td>407700.000000</td>\n",
       "      <td>4.077000e+05</td>\n",
       "      <td>4.077000e+05</td>\n",
       "    </tr>\n",
       "    <tr>\n",
       "      <th>mean</th>\n",
       "      <td>43.520216</td>\n",
       "      <td>3.101925</td>\n",
       "      <td>1.299669</td>\n",
       "      <td>1.001683</td>\n",
       "      <td>3.316505</td>\n",
       "      <td>186.376954</td>\n",
       "      <td>59.355973</td>\n",
       "      <td>1134.024498</td>\n",
       "      <td>6.977479</td>\n",
       "      <td>1.002100</td>\n",
       "      <td>1.001688</td>\n",
       "      <td>2.537063e+05</td>\n",
       "      <td>2.255585</td>\n",
       "      <td>558.435847</td>\n",
       "      <td>5.277415</td>\n",
       "      <td>1.047924e+05</td>\n",
       "      <td>1.058923e+05</td>\n",
       "    </tr>\n",
       "    <tr>\n",
       "      <th>std</th>\n",
       "      <td>5.980571</td>\n",
       "      <td>1.356574</td>\n",
       "      <td>0.569388</td>\n",
       "      <td>0.040985</td>\n",
       "      <td>0.934867</td>\n",
       "      <td>106.674852</td>\n",
       "      <td>83.926798</td>\n",
       "      <td>1061.516282</td>\n",
       "      <td>2.264988</td>\n",
       "      <td>0.045773</td>\n",
       "      <td>0.041045</td>\n",
       "      <td>3.562430e+05</td>\n",
       "      <td>0.961443</td>\n",
       "      <td>578.861019</td>\n",
       "      <td>3.101509</td>\n",
       "      <td>1.021289e+05</td>\n",
       "      <td>1.023201e+05</td>\n",
       "    </tr>\n",
       "    <tr>\n",
       "      <th>min</th>\n",
       "      <td>36.000000</td>\n",
       "      <td>2.000000</td>\n",
       "      <td>1.000000</td>\n",
       "      <td>1.000000</td>\n",
       "      <td>0.000000</td>\n",
       "      <td>1.000000</td>\n",
       "      <td>1.000000</td>\n",
       "      <td>0.000000</td>\n",
       "      <td>1.000000</td>\n",
       "      <td>1.000000</td>\n",
       "      <td>1.000000</td>\n",
       "      <td>1.000000e+02</td>\n",
       "      <td>0.000000</td>\n",
       "      <td>1.000000</td>\n",
       "      <td>1.000000</td>\n",
       "      <td>-1.680000e+04</td>\n",
       "      <td>-1.680000e+04</td>\n",
       "    </tr>\n",
       "    <tr>\n",
       "      <th>25%</th>\n",
       "      <td>36.000000</td>\n",
       "      <td>2.000000</td>\n",
       "      <td>1.000000</td>\n",
       "      <td>1.000000</td>\n",
       "      <td>3.000000</td>\n",
       "      <td>110.000000</td>\n",
       "      <td>3.000000</td>\n",
       "      <td>500.000000</td>\n",
       "      <td>5.000000</td>\n",
       "      <td>1.000000</td>\n",
       "      <td>1.000000</td>\n",
       "      <td>9.000000e+04</td>\n",
       "      <td>2.000000</td>\n",
       "      <td>80.000000</td>\n",
       "      <td>3.000000</td>\n",
       "      <td>4.600000e+04</td>\n",
       "      <td>4.710000e+04</td>\n",
       "    </tr>\n",
       "    <tr>\n",
       "      <th>50%</th>\n",
       "      <td>48.000000</td>\n",
       "      <td>3.000000</td>\n",
       "      <td>1.000000</td>\n",
       "      <td>1.000000</td>\n",
       "      <td>3.000000</td>\n",
       "      <td>160.000000</td>\n",
       "      <td>30.000000</td>\n",
       "      <td>980.000000</td>\n",
       "      <td>7.000000</td>\n",
       "      <td>1.000000</td>\n",
       "      <td>1.000000</td>\n",
       "      <td>1.600000e+05</td>\n",
       "      <td>2.000000</td>\n",
       "      <td>450.000000</td>\n",
       "      <td>5.000000</td>\n",
       "      <td>7.960700e+04</td>\n",
       "      <td>8.010000e+04</td>\n",
       "    </tr>\n",
       "    <tr>\n",
       "      <th>75%</th>\n",
       "      <td>48.000000</td>\n",
       "      <td>4.000000</td>\n",
       "      <td>1.000000</td>\n",
       "      <td>1.000000</td>\n",
       "      <td>4.000000</td>\n",
       "      <td>250.000000</td>\n",
       "      <td>80.000000</td>\n",
       "      <td>1500.000000</td>\n",
       "      <td>8.000000</td>\n",
       "      <td>1.000000</td>\n",
       "      <td>1.000000</td>\n",
       "      <td>3.000000e+05</td>\n",
       "      <td>3.000000</td>\n",
       "      <td>840.000000</td>\n",
       "      <td>7.000000</td>\n",
       "      <td>1.264400e+05</td>\n",
       "      <td>1.280000e+05</td>\n",
       "    </tr>\n",
       "    <tr>\n",
       "      <th>max</th>\n",
       "      <td>56.000000</td>\n",
       "      <td>20.000000</td>\n",
       "      <td>3.000000</td>\n",
       "      <td>2.000000</td>\n",
       "      <td>12.000000</td>\n",
       "      <td>650.000000</td>\n",
       "      <td>570.000000</td>\n",
       "      <td>8100.000000</td>\n",
       "      <td>22.000000</td>\n",
       "      <td>2.000000</td>\n",
       "      <td>2.000000</td>\n",
       "      <td>5.216000e+06</td>\n",
       "      <td>6.000000</td>\n",
       "      <td>3600.000000</td>\n",
       "      <td>19.000000</td>\n",
       "      <td>2.060000e+06</td>\n",
       "      <td>2.090000e+06</td>\n",
       "    </tr>\n",
       "  </tbody>\n",
       "</table>\n",
       "</div>"
      ],
      "text/plain": [
       "               State     Num_People       Lot_Size    Has_Bathtub  \\\n",
       "count  407700.000000  407700.000000  407700.000000  407700.000000   \n",
       "mean       43.520216       3.101925       1.299669       1.001683   \n",
       "std         5.980571       1.356574       0.569388       0.040985   \n",
       "min        36.000000       2.000000       1.000000       1.000000   \n",
       "25%        36.000000       2.000000       1.000000       1.000000   \n",
       "50%        48.000000       3.000000       1.000000       1.000000   \n",
       "75%        48.000000       4.000000       1.000000       1.000000   \n",
       "max        56.000000      20.000000       3.000000       2.000000   \n",
       "\n",
       "        Num_Bedrooms  Monthly_Electric    Monthly_Gas  Yearly_Insurance_Cost  \\\n",
       "count  407700.000000     407700.000000  407700.000000          407700.000000   \n",
       "mean        3.316505        186.376954      59.355973            1134.024498   \n",
       "std         0.934867        106.674852      83.926798            1061.516282   \n",
       "min         0.000000          1.000000       1.000000               0.000000   \n",
       "25%         3.000000        110.000000       3.000000             500.000000   \n",
       "50%         3.000000        160.000000      30.000000             980.000000   \n",
       "75%         4.000000        250.000000      80.000000            1500.000000   \n",
       "max        12.000000        650.000000     570.000000            8100.000000   \n",
       "\n",
       "           Num_Rooms  Has_Hot_Water       Has_Sink         Price  \\\n",
       "count  407700.000000  407700.000000  407700.000000  4.077000e+05   \n",
       "mean        6.977479       1.002100       1.001688  2.537063e+05   \n",
       "std         2.264988       0.045773       0.041045  3.562430e+05   \n",
       "min         1.000000       1.000000       1.000000  1.000000e+02   \n",
       "25%         5.000000       1.000000       1.000000  9.000000e+04   \n",
       "50%         7.000000       1.000000       1.000000  1.600000e+05   \n",
       "75%         8.000000       1.000000       1.000000  3.000000e+05   \n",
       "max        22.000000       2.000000       2.000000  5.216000e+06   \n",
       "\n",
       "        Num_Vehicles   Yearly_Water     Year_Built  Family_Income  \\\n",
       "count  407700.000000  407700.000000  407700.000000   4.077000e+05   \n",
       "mean        2.255585     558.435847       5.277415   1.047924e+05   \n",
       "std         0.961443     578.861019       3.101509   1.021289e+05   \n",
       "min         0.000000       1.000000       1.000000  -1.680000e+04   \n",
       "25%         2.000000      80.000000       3.000000   4.600000e+04   \n",
       "50%         2.000000     450.000000       5.000000   7.960700e+04   \n",
       "75%         3.000000     840.000000       7.000000   1.264400e+05   \n",
       "max         6.000000    3600.000000      19.000000   2.060000e+06   \n",
       "\n",
       "       Household_Income  \n",
       "count      4.077000e+05  \n",
       "mean       1.058923e+05  \n",
       "std        1.023201e+05  \n",
       "min       -1.680000e+04  \n",
       "25%        4.710000e+04  \n",
       "50%        8.010000e+04  \n",
       "75%        1.280000e+05  \n",
       "max        2.090000e+06  "
      ]
     },
     "execution_count": 3,
     "metadata": {},
     "output_type": "execute_result"
    }
   ],
   "source": [
    "colnames = [\"ST\", \"NP\", \"ACR\", \"BATH\", \"BDSP\", \"ELEP\", \"GASP\", \"INSP\",\n",
    "              \"RMSP\", \"RWAT\", \"SINK\", \"VALP\", \"VEH\", \"WATP\", \"YBL\",\n",
    "              \"FINCP\", \"HINCP\"]\n",
    "readable_names = [\"State\", \"Num_People\", \"Lot_Size\", \"Has_Bathtub\", \"Num_Bedrooms\",\n",
    "                  \"Monthly_Electric\", \"Monthly_Gas\", \"Yearly_Insurance_Cost\", \"Num_Rooms\",\n",
    "                  \"Has_Hot_Water\", \"Has_Sink\", \"Price\", \"Num_Vehicles\",\n",
    "                  \"Yearly_Water\", \"Year_Built\", \"Family_Income\", \"Household_Income\"]\n",
    "\n",
    "cols = dat[colnames]\n",
    "\n",
    "cols.columns = readable_names\n",
    "\n",
    "cols.dropna(inplace = True)\n",
    "cols.describe()"
   ]
  },
  {
   "cell_type": "markdown",
   "metadata": {},
   "source": [
    "## Part II: Data Wrangling\n",
    "\n",
    "We now have 16 features and a target column (\"Price\") with just over 400,000 observations. We will need to clean the data a little further. The next cell will separate the state column into four columns representing each state a method for representing categorical variables known as one-hot encoding."
   ]
  },
  {
   "cell_type": "code",
   "execution_count": 4,
   "metadata": {
    "collapsed": false
   },
   "outputs": [],
   "source": [
    "cols = pd.get_dummies(cols, columns = [\"State\"])\n",
    "readable_names = readable_names[1:]\n",
    "states =[\"NY\", \"ND\", \"TX\", \"WY\"]\n",
    "readable_names.extend(states)\n",
    "cols.columns = readable_names"
   ]
  },
  {
   "cell_type": "markdown",
   "metadata": {},
   "source": [
    "The documentation tells us that some of the values in the year built column correspond to a year and some of them a range of years. We want to change it to the age of the house in years since it is a more reasonable range to work with. For values corresponding to a range I have put the age in the midpoint of the range."
   ]
  },
  {
   "cell_type": "code",
   "execution_count": 5,
   "metadata": {
    "collapsed": false,
    "scrolled": true
   },
   "outputs": [
    {
     "name": "stderr",
     "output_type": "stream",
     "text": [
      "/Users/hunter/anaconda/lib/python3.6/site-packages/pandas/core/indexing.py:141: SettingWithCopyWarning: \n",
      "A value is trying to be set on a copy of a slice from a DataFrame\n",
      "\n",
      "See the caveats in the documentation: http://pandas.pydata.org/pandas-docs/stable/indexing.html#indexing-view-versus-copy\n",
      "  self._setitem_with_indexer(indexer, value)\n"
     ]
    },
    {
     "data": {
      "text/plain": [
       "0     60.0\n",
       "5     40.0\n",
       "12    60.0\n",
       "15    90.0\n",
       "18     6.0\n",
       "Name: Year_Built, dtype: float64"
      ]
     },
     "execution_count": 5,
     "metadata": {},
     "output_type": "execute_result"
    }
   ],
   "source": [
    "ybl = cols.Year_Built\n",
    "\n",
    "ybl.loc[ybl == 1.0] = 90\n",
    "ybl.loc[ybl == 2.0] = 70\n",
    "ybl.loc[ybl == 3.0] = 60\n",
    "ybl.loc[ybl == 4.0] = 50\n",
    "ybl.loc[ybl == 5.0] = 40\n",
    "ybl.loc[ybl == 6.0] = 30\n",
    "ybl.loc[ybl == 7.0] = 20\n",
    "ybl.loc[ybl == 8.0] = 13\n",
    "ybl.loc[ybl == 9.0] = 10\n",
    "ybl.loc[ybl == 10.0] = 9\n",
    "ybl.loc[ybl == 11.0] = 8\n",
    "ybl.loc[ybl == 12.0] = 7\n",
    "ybl.loc[ybl == 13.0] = 6\n",
    "ybl.loc[ybl == 14.0] = 5\n",
    "ybl.loc[ybl == 15.0] = 4\n",
    "ybl.loc[ybl == 16.0] = 3\n",
    "ybl.loc[ybl == 17.0] = 2\n",
    "ybl.loc[ybl == 18.0] = 1\n",
    "ybl.loc[ybl == 19.0] = 0\n",
    "ybl.head()"
   ]
  },
  {
   "cell_type": "code",
   "execution_count": 6,
   "metadata": {
    "collapsed": false
   },
   "outputs": [],
   "source": [
    "cols.rename(columns={\"Year_Built\":\"Age\"}, inplace = True)"
   ]
  },
  {
   "cell_type": "markdown",
   "metadata": {},
   "source": [
    "The columns 'ADJHSG' and 'ADJINC' in the original dataset adjust monetary values in each record for inflation. We will want to adjust the data accordingly so that each record is given in 2015 dollars."
   ]
  },
  {
   "cell_type": "code",
   "execution_count": 7,
   "metadata": {
    "collapsed": false
   },
   "outputs": [],
   "source": [
    "for col in [\"Monthly_Electric\", \"Monthly_Gas\", \"Yearly_Insurance_Cost\", \"Yearly_Water\"]:\n",
    "    cols.loc[:,col] *= dat.loc[cols.index, 'ADJHSG'] * 10**-6\n",
    "    \n",
    "for col in [\"Family_Income\", \"Household_Income\"]:\n",
    "    cols.loc[:,col] *= dat.loc[cols.index, 'ADJINC'] * 10**-6"
   ]
  },
  {
   "cell_type": "markdown",
   "metadata": {},
   "source": [
    "## Part III: Exploratory Analysis\n",
    "\n",
    "Many machine learning algorithms are improved by normalizing the input data. scikit-learn has a handy function to do this. First we will want to separate the features from our target column."
   ]
  },
  {
   "cell_type": "code",
   "execution_count": 8,
   "metadata": {
    "collapsed": false
   },
   "outputs": [],
   "source": [
    "cols.reset_index(drop=True, inplace=True)\n",
    "Y = cols.Price\n",
    "X_names = [c for c in cols.columns if c != \"Price\"]\n",
    "X = cols[X_names]"
   ]
  },
  {
   "cell_type": "code",
   "execution_count": 9,
   "metadata": {
    "collapsed": false,
    "scrolled": true
   },
   "outputs": [
    {
     "data": {
      "text/html": [
       "<div>\n",
       "<table border=\"1\" class=\"dataframe\">\n",
       "  <thead>\n",
       "    <tr style=\"text-align: right;\">\n",
       "      <th></th>\n",
       "      <th>Num_People</th>\n",
       "      <th>Lot_Size</th>\n",
       "      <th>Has_Bathtub</th>\n",
       "      <th>Num_Bedrooms</th>\n",
       "      <th>Monthly_Electric</th>\n",
       "      <th>Monthly_Gas</th>\n",
       "      <th>Yearly_Insurance_Cost</th>\n",
       "      <th>Num_Rooms</th>\n",
       "      <th>Has_Hot_Water</th>\n",
       "      <th>Has_Sink</th>\n",
       "      <th>Num_Vehicles</th>\n",
       "      <th>Yearly_Water</th>\n",
       "      <th>Age</th>\n",
       "      <th>Family_Income</th>\n",
       "      <th>Household_Income</th>\n",
       "      <th>NY</th>\n",
       "      <th>ND</th>\n",
       "      <th>TX</th>\n",
       "      <th>WY</th>\n",
       "    </tr>\n",
       "  </thead>\n",
       "  <tbody>\n",
       "    <tr>\n",
       "      <th>count</th>\n",
       "      <td>4.077000e+05</td>\n",
       "      <td>4.077000e+05</td>\n",
       "      <td>4.077000e+05</td>\n",
       "      <td>4.077000e+05</td>\n",
       "      <td>4.077000e+05</td>\n",
       "      <td>4.077000e+05</td>\n",
       "      <td>4.077000e+05</td>\n",
       "      <td>4.077000e+05</td>\n",
       "      <td>4.077000e+05</td>\n",
       "      <td>4.077000e+05</td>\n",
       "      <td>4.077000e+05</td>\n",
       "      <td>4.077000e+05</td>\n",
       "      <td>4.077000e+05</td>\n",
       "      <td>4.077000e+05</td>\n",
       "      <td>4.077000e+05</td>\n",
       "      <td>4.077000e+05</td>\n",
       "      <td>4.077000e+05</td>\n",
       "      <td>4.077000e+05</td>\n",
       "      <td>4.077000e+05</td>\n",
       "    </tr>\n",
       "    <tr>\n",
       "      <th>mean</th>\n",
       "      <td>-1.021958e-14</td>\n",
       "      <td>-3.388110e-13</td>\n",
       "      <td>-2.614657e-14</td>\n",
       "      <td>5.171907e-14</td>\n",
       "      <td>1.319594e-14</td>\n",
       "      <td>1.348511e-13</td>\n",
       "      <td>-2.529956e-14</td>\n",
       "      <td>-6.157463e-14</td>\n",
       "      <td>9.060295e-15</td>\n",
       "      <td>-5.833945e-16</td>\n",
       "      <td>-1.084847e-13</td>\n",
       "      <td>3.770523e-14</td>\n",
       "      <td>-5.483500e-14</td>\n",
       "      <td>-1.646544e-15</td>\n",
       "      <td>8.207554e-16</td>\n",
       "      <td>-7.714123e-13</td>\n",
       "      <td>9.903356e-13</td>\n",
       "      <td>1.655999e-13</td>\n",
       "      <td>9.536780e-14</td>\n",
       "    </tr>\n",
       "    <tr>\n",
       "      <th>std</th>\n",
       "      <td>1.000001e+00</td>\n",
       "      <td>1.000001e+00</td>\n",
       "      <td>1.000001e+00</td>\n",
       "      <td>1.000001e+00</td>\n",
       "      <td>1.000001e+00</td>\n",
       "      <td>1.000001e+00</td>\n",
       "      <td>1.000001e+00</td>\n",
       "      <td>1.000001e+00</td>\n",
       "      <td>1.000001e+00</td>\n",
       "      <td>1.000001e+00</td>\n",
       "      <td>1.000001e+00</td>\n",
       "      <td>1.000001e+00</td>\n",
       "      <td>1.000001e+00</td>\n",
       "      <td>1.000001e+00</td>\n",
       "      <td>1.000001e+00</td>\n",
       "      <td>1.000001e+00</td>\n",
       "      <td>1.000001e+00</td>\n",
       "      <td>1.000001e+00</td>\n",
       "      <td>1.000001e+00</td>\n",
       "    </tr>\n",
       "    <tr>\n",
       "      <th>min</th>\n",
       "      <td>-8.122866e-01</td>\n",
       "      <td>-5.263009e-01</td>\n",
       "      <td>-4.105418e-02</td>\n",
       "      <td>-3.547572e+00</td>\n",
       "      <td>-1.738066e+00</td>\n",
       "      <td>-6.954202e-01</td>\n",
       "      <td>-1.070900e+00</td>\n",
       "      <td>-2.639081e+00</td>\n",
       "      <td>-4.586939e-02</td>\n",
       "      <td>-4.111408e-02</td>\n",
       "      <td>-2.346045e+00</td>\n",
       "      <td>-9.632052e-01</td>\n",
       "      <td>-1.569245e+00</td>\n",
       "      <td>-1.193754e+00</td>\n",
       "      <td>-1.202319e+00</td>\n",
       "      <td>-7.609020e-01</td>\n",
       "      <td>-1.442985e-01</td>\n",
       "      <td>-1.218105e+00</td>\n",
       "      <td>-1.256330e-01</td>\n",
       "    </tr>\n",
       "    <tr>\n",
       "      <th>25%</th>\n",
       "      <td>-8.122866e-01</td>\n",
       "      <td>-5.263009e-01</td>\n",
       "      <td>-4.105418e-02</td>\n",
       "      <td>-3.385562e-01</td>\n",
       "      <td>-7.367983e-01</td>\n",
       "      <td>-6.709525e-01</td>\n",
       "      <td>-6.023771e-01</td>\n",
       "      <td>-8.730647e-01</td>\n",
       "      <td>-4.586939e-02</td>\n",
       "      <td>-4.111408e-02</td>\n",
       "      <td>-2.658352e-01</td>\n",
       "      <td>-8.250802e-01</td>\n",
       "      <td>-8.154670e-01</td>\n",
       "      <td>-5.757474e-01</td>\n",
       "      <td>-5.753915e-01</td>\n",
       "      <td>-7.609020e-01</td>\n",
       "      <td>-1.442985e-01</td>\n",
       "      <td>-1.218105e+00</td>\n",
       "      <td>-1.256330e-01</td>\n",
       "    </tr>\n",
       "    <tr>\n",
       "      <th>50%</th>\n",
       "      <td>-7.513454e-02</td>\n",
       "      <td>-5.263009e-01</td>\n",
       "      <td>-4.105418e-02</td>\n",
       "      <td>-3.385562e-01</td>\n",
       "      <td>-2.300062e-01</td>\n",
       "      <td>-3.509025e-01</td>\n",
       "      <td>-1.446626e-01</td>\n",
       "      <td>9.943316e-03</td>\n",
       "      <td>-4.586939e-02</td>\n",
       "      <td>-4.111408e-02</td>\n",
       "      <td>-2.658352e-01</td>\n",
       "      <td>-1.976818e-01</td>\n",
       "      <td>-6.168898e-02</td>\n",
       "      <td>-2.493742e-01</td>\n",
       "      <td>-2.486867e-01</td>\n",
       "      <td>-7.609020e-01</td>\n",
       "      <td>-1.442985e-01</td>\n",
       "      <td>8.209473e-01</td>\n",
       "      <td>-1.256330e-01</td>\n",
       "    </tr>\n",
       "    <tr>\n",
       "      <th>75%</th>\n",
       "      <td>6.620175e-01</td>\n",
       "      <td>-5.263009e-01</td>\n",
       "      <td>-4.105418e-02</td>\n",
       "      <td>7.311155e-01</td>\n",
       "      <td>5.492335e-01</td>\n",
       "      <td>2.427408e-01</td>\n",
       "      <td>3.200538e-01</td>\n",
       "      <td>4.514473e-01</td>\n",
       "      <td>-4.586939e-02</td>\n",
       "      <td>-4.111408e-02</td>\n",
       "      <td>7.742697e-01</td>\n",
       "      <td>4.910944e-01</td>\n",
       "      <td>6.920891e-01</td>\n",
       "      <td>2.138902e-01</td>\n",
       "      <td>2.126729e-01</td>\n",
       "      <td>1.314230e+00</td>\n",
       "      <td>-1.442985e-01</td>\n",
       "      <td>8.209473e-01</td>\n",
       "      <td>-1.256330e-01</td>\n",
       "    </tr>\n",
       "    <tr>\n",
       "      <th>max</th>\n",
       "      <td>1.245645e+01</td>\n",
       "      <td>2.986249e+00</td>\n",
       "      <td>2.435806e+01</td>\n",
       "      <td>9.288490e+00</td>\n",
       "      <td>4.223610e+00</td>\n",
       "      <td>5.943828e+00</td>\n",
       "      <td>6.440249e+00</td>\n",
       "      <td>6.632503e+00</td>\n",
       "      <td>2.180103e+01</td>\n",
       "      <td>2.432257e+01</td>\n",
       "      <td>3.894584e+00</td>\n",
       "      <td>5.458308e+00</td>\n",
       "      <td>1.822756e+00</td>\n",
       "      <td>1.913584e+01</td>\n",
       "      <td>1.938286e+01</td>\n",
       "      <td>1.314230e+00</td>\n",
       "      <td>6.930077e+00</td>\n",
       "      <td>8.209473e-01</td>\n",
       "      <td>7.959695e+00</td>\n",
       "    </tr>\n",
       "  </tbody>\n",
       "</table>\n",
       "</div>"
      ],
      "text/plain": [
       "         Num_People      Lot_Size   Has_Bathtub  Num_Bedrooms  \\\n",
       "count  4.077000e+05  4.077000e+05  4.077000e+05  4.077000e+05   \n",
       "mean  -1.021958e-14 -3.388110e-13 -2.614657e-14  5.171907e-14   \n",
       "std    1.000001e+00  1.000001e+00  1.000001e+00  1.000001e+00   \n",
       "min   -8.122866e-01 -5.263009e-01 -4.105418e-02 -3.547572e+00   \n",
       "25%   -8.122866e-01 -5.263009e-01 -4.105418e-02 -3.385562e-01   \n",
       "50%   -7.513454e-02 -5.263009e-01 -4.105418e-02 -3.385562e-01   \n",
       "75%    6.620175e-01 -5.263009e-01 -4.105418e-02  7.311155e-01   \n",
       "max    1.245645e+01  2.986249e+00  2.435806e+01  9.288490e+00   \n",
       "\n",
       "       Monthly_Electric   Monthly_Gas  Yearly_Insurance_Cost     Num_Rooms  \\\n",
       "count      4.077000e+05  4.077000e+05           4.077000e+05  4.077000e+05   \n",
       "mean       1.319594e-14  1.348511e-13          -2.529956e-14 -6.157463e-14   \n",
       "std        1.000001e+00  1.000001e+00           1.000001e+00  1.000001e+00   \n",
       "min       -1.738066e+00 -6.954202e-01          -1.070900e+00 -2.639081e+00   \n",
       "25%       -7.367983e-01 -6.709525e-01          -6.023771e-01 -8.730647e-01   \n",
       "50%       -2.300062e-01 -3.509025e-01          -1.446626e-01  9.943316e-03   \n",
       "75%        5.492335e-01  2.427408e-01           3.200538e-01  4.514473e-01   \n",
       "max        4.223610e+00  5.943828e+00           6.440249e+00  6.632503e+00   \n",
       "\n",
       "       Has_Hot_Water      Has_Sink  Num_Vehicles  Yearly_Water           Age  \\\n",
       "count   4.077000e+05  4.077000e+05  4.077000e+05  4.077000e+05  4.077000e+05   \n",
       "mean    9.060295e-15 -5.833945e-16 -1.084847e-13  3.770523e-14 -5.483500e-14   \n",
       "std     1.000001e+00  1.000001e+00  1.000001e+00  1.000001e+00  1.000001e+00   \n",
       "min    -4.586939e-02 -4.111408e-02 -2.346045e+00 -9.632052e-01 -1.569245e+00   \n",
       "25%    -4.586939e-02 -4.111408e-02 -2.658352e-01 -8.250802e-01 -8.154670e-01   \n",
       "50%    -4.586939e-02 -4.111408e-02 -2.658352e-01 -1.976818e-01 -6.168898e-02   \n",
       "75%    -4.586939e-02 -4.111408e-02  7.742697e-01  4.910944e-01  6.920891e-01   \n",
       "max     2.180103e+01  2.432257e+01  3.894584e+00  5.458308e+00  1.822756e+00   \n",
       "\n",
       "       Family_Income  Household_Income            NY            ND  \\\n",
       "count   4.077000e+05      4.077000e+05  4.077000e+05  4.077000e+05   \n",
       "mean   -1.646544e-15      8.207554e-16 -7.714123e-13  9.903356e-13   \n",
       "std     1.000001e+00      1.000001e+00  1.000001e+00  1.000001e+00   \n",
       "min    -1.193754e+00     -1.202319e+00 -7.609020e-01 -1.442985e-01   \n",
       "25%    -5.757474e-01     -5.753915e-01 -7.609020e-01 -1.442985e-01   \n",
       "50%    -2.493742e-01     -2.486867e-01 -7.609020e-01 -1.442985e-01   \n",
       "75%     2.138902e-01      2.126729e-01  1.314230e+00 -1.442985e-01   \n",
       "max     1.913584e+01      1.938286e+01  1.314230e+00  6.930077e+00   \n",
       "\n",
       "                 TX            WY  \n",
       "count  4.077000e+05  4.077000e+05  \n",
       "mean   1.655999e-13  9.536780e-14  \n",
       "std    1.000001e+00  1.000001e+00  \n",
       "min   -1.218105e+00 -1.256330e-01  \n",
       "25%   -1.218105e+00 -1.256330e-01  \n",
       "50%    8.209473e-01 -1.256330e-01  \n",
       "75%    8.209473e-01 -1.256330e-01  \n",
       "max    8.209473e-01  7.959695e+00  "
      ]
     },
     "execution_count": 9,
     "metadata": {},
     "output_type": "execute_result"
    }
   ],
   "source": [
    "X = pd.DataFrame(preprocessing.scale(X))\n",
    "X.columns = X_names\n",
    "X.describe()"
   ]
  },
  {
   "cell_type": "code",
   "execution_count": 10,
   "metadata": {
    "collapsed": false
   },
   "outputs": [
    {
     "name": "stdout",
     "output_type": "stream",
     "text": [
      "100.0\n",
      "6108\n"
     ]
    }
   ],
   "source": [
    "print(Y.min())\n",
    "print(sum(Y < 10000))"
   ]
  },
  {
   "cell_type": "markdown",
   "metadata": {},
   "source": [
    "From the last cell, there are quite a few observations where the home is valued at less than 10,000 USD, with the lowest price being only 100 USD. Intuitively that is much lower than we expect the price of a home to be. We will revisit these records soon. Let's split the data into training and testing sets and see how a simple linear regression performs."
   ]
  },
  {
   "cell_type": "code",
   "execution_count": 12,
   "metadata": {
    "collapsed": false
   },
   "outputs": [],
   "source": [
    "#split into test and train\n",
    "ttsplit = model_selection.train_test_split\n",
    "X_train, X_test, y_train, y_test = ttsplit(X, Y, test_size = 0.3, random_state = 4)\n",
    "#the random state here is chosen explicitly so that the code is reproducible"
   ]
  },
  {
   "cell_type": "code",
   "execution_count": 13,
   "metadata": {
    "collapsed": false
   },
   "outputs": [
    {
     "name": "stdout",
     "output_type": "stream",
     "text": [
      "CPU times: user 839 ms, sys: 108 ms, total: 947 ms\n",
      "Wall time: 1.23 s\n"
     ]
    }
   ],
   "source": [
    "%%time\n",
    "\n",
    "lm = linear_model.LinearRegression()\n",
    "lm.fit(X_train, y_train)"
   ]
  },
  {
   "cell_type": "code",
   "execution_count": 14,
   "metadata": {
    "collapsed": false
   },
   "outputs": [
    {
     "name": "stdout",
     "output_type": "stream",
     "text": [
      "CPU times: user 32.4 ms, sys: 9.6 ms, total: 42 ms\n",
      "Wall time: 74.8 ms\n"
     ]
    },
    {
     "data": {
      "text/plain": [
       "0.37621595739879499"
      ]
     },
     "execution_count": 14,
     "metadata": {},
     "output_type": "execute_result"
    }
   ],
   "source": [
    "%%time\n",
    "\n",
    "lm.score(X_test, y_test)"
   ]
  },
  {
   "cell_type": "markdown",
   "metadata": {},
   "source": [
    "The linear classifier is performing poorly, at less than 40% accurate. In order to see where the problem is, I want to see if there is some group of observations with poor predictability.\n",
    "\n",
    "I first want to see if the extremely low priced (< $10,000) homes have any predictive power or if they are possibly reported erroneously. Since extremely low prices are quite low in proportion to the total dataset I am undersampling the larger class."
   ]
  },
  {
   "cell_type": "code",
   "execution_count": 15,
   "metadata": {
    "collapsed": false
   },
   "outputs": [
    {
     "data": {
      "text/plain": [
       "0.91405184174624832"
      ]
     },
     "execution_count": 15,
     "metadata": {},
     "output_type": "execute_result"
    }
   ],
   "source": [
    "ythis = Y[Y < 10000].copy()\n",
    "ythis = pd.concat([ythis, y_train[y_train >= 10000].head(len(ythis)).copy()])\n",
    "ythis[ythis < 10000] = 1\n",
    "ythis[ythis > 1] = 0\n",
    "\n",
    "xthis = X.loc[ythis.index, :]\n",
    "\n",
    "#train/test split\n",
    "xtrainthis, xtestthis, ytrainthis, ytestthis= ttsplit(xthis,\n",
    "                                                      ythis,\n",
    "                                                      test_size = .3,\n",
    "                                                      random_state=4)\n",
    "clf = RandomForestClassifier(n_estimators = 50, n_jobs = -1)\n",
    "clf.fit(xtrainthis, ytrainthis)\n",
    "clf.score(xtestthis, ytestthis)"
   ]
  },
  {
   "cell_type": "code",
   "execution_count": 16,
   "metadata": {
    "collapsed": false
   },
   "outputs": [
    {
     "data": {
      "text/html": [
       "<div>\n",
       "<table border=\"1\" class=\"dataframe\">\n",
       "  <thead>\n",
       "    <tr style=\"text-align: right;\">\n",
       "      <th></th>\n",
       "      <th>NY</th>\n",
       "      <th>ND</th>\n",
       "      <th>TX</th>\n",
       "      <th>WY</th>\n",
       "    </tr>\n",
       "  </thead>\n",
       "  <tbody>\n",
       "    <tr>\n",
       "      <th>count</th>\n",
       "      <td>6108.000000</td>\n",
       "      <td>6108.000000</td>\n",
       "      <td>6108.000000</td>\n",
       "      <td>6108.000000</td>\n",
       "    </tr>\n",
       "    <tr>\n",
       "      <th>mean</th>\n",
       "      <td>0.292731</td>\n",
       "      <td>0.031762</td>\n",
       "      <td>0.650458</td>\n",
       "      <td>0.025049</td>\n",
       "    </tr>\n",
       "    <tr>\n",
       "      <th>std</th>\n",
       "      <td>0.455053</td>\n",
       "      <td>0.175379</td>\n",
       "      <td>0.476864</td>\n",
       "      <td>0.156287</td>\n",
       "    </tr>\n",
       "    <tr>\n",
       "      <th>min</th>\n",
       "      <td>0.000000</td>\n",
       "      <td>0.000000</td>\n",
       "      <td>0.000000</td>\n",
       "      <td>0.000000</td>\n",
       "    </tr>\n",
       "    <tr>\n",
       "      <th>25%</th>\n",
       "      <td>0.000000</td>\n",
       "      <td>0.000000</td>\n",
       "      <td>0.000000</td>\n",
       "      <td>0.000000</td>\n",
       "    </tr>\n",
       "    <tr>\n",
       "      <th>50%</th>\n",
       "      <td>0.000000</td>\n",
       "      <td>0.000000</td>\n",
       "      <td>1.000000</td>\n",
       "      <td>0.000000</td>\n",
       "    </tr>\n",
       "    <tr>\n",
       "      <th>75%</th>\n",
       "      <td>1.000000</td>\n",
       "      <td>0.000000</td>\n",
       "      <td>1.000000</td>\n",
       "      <td>0.000000</td>\n",
       "    </tr>\n",
       "    <tr>\n",
       "      <th>max</th>\n",
       "      <td>1.000000</td>\n",
       "      <td>1.000000</td>\n",
       "      <td>1.000000</td>\n",
       "      <td>1.000000</td>\n",
       "    </tr>\n",
       "  </tbody>\n",
       "</table>\n",
       "</div>"
      ],
      "text/plain": [
       "                NY           ND           TX           WY\n",
       "count  6108.000000  6108.000000  6108.000000  6108.000000\n",
       "mean      0.292731     0.031762     0.650458     0.025049\n",
       "std       0.455053     0.175379     0.476864     0.156287\n",
       "min       0.000000     0.000000     0.000000     0.000000\n",
       "25%       0.000000     0.000000     0.000000     0.000000\n",
       "50%       0.000000     0.000000     1.000000     0.000000\n",
       "75%       1.000000     0.000000     1.000000     0.000000\n",
       "max       1.000000     1.000000     1.000000     1.000000"
      ]
     },
     "execution_count": 16,
     "metadata": {},
     "output_type": "execute_result"
    }
   ],
   "source": [
    "cols.loc[cols.Price < 10000, states].describe()"
   ]
  },
  {
   "cell_type": "markdown",
   "metadata": {},
   "source": [
    "Apparently there is a relatively large level of predictability with the extremely low priced homes, with a correct classification 89.9% of the time. The extremely low priced observations also do not appear to be concentrated in any one state. Compare the distribution of extremely low priced homes above with the next cell showing distribution of all records."
   ]
  },
  {
   "cell_type": "code",
   "execution_count": 17,
   "metadata": {
    "collapsed": false
   },
   "outputs": [
    {
     "data": {
      "text/html": [
       "<div>\n",
       "<table border=\"1\" class=\"dataframe\">\n",
       "  <thead>\n",
       "    <tr style=\"text-align: right;\">\n",
       "      <th></th>\n",
       "      <th>NY</th>\n",
       "      <th>ND</th>\n",
       "      <th>TX</th>\n",
       "      <th>WY</th>\n",
       "    </tr>\n",
       "  </thead>\n",
       "  <tbody>\n",
       "    <tr>\n",
       "      <th>count</th>\n",
       "      <td>407700.000000</td>\n",
       "      <td>407700.000000</td>\n",
       "      <td>407700.000000</td>\n",
       "      <td>407700.000000</td>\n",
       "    </tr>\n",
       "    <tr>\n",
       "      <th>mean</th>\n",
       "      <td>0.366676</td>\n",
       "      <td>0.020397</td>\n",
       "      <td>0.597388</td>\n",
       "      <td>0.015538</td>\n",
       "    </tr>\n",
       "    <tr>\n",
       "      <th>std</th>\n",
       "      <td>0.481898</td>\n",
       "      <td>0.141355</td>\n",
       "      <td>0.490425</td>\n",
       "      <td>0.123681</td>\n",
       "    </tr>\n",
       "    <tr>\n",
       "      <th>min</th>\n",
       "      <td>0.000000</td>\n",
       "      <td>0.000000</td>\n",
       "      <td>0.000000</td>\n",
       "      <td>0.000000</td>\n",
       "    </tr>\n",
       "    <tr>\n",
       "      <th>25%</th>\n",
       "      <td>0.000000</td>\n",
       "      <td>0.000000</td>\n",
       "      <td>0.000000</td>\n",
       "      <td>0.000000</td>\n",
       "    </tr>\n",
       "    <tr>\n",
       "      <th>50%</th>\n",
       "      <td>0.000000</td>\n",
       "      <td>0.000000</td>\n",
       "      <td>1.000000</td>\n",
       "      <td>0.000000</td>\n",
       "    </tr>\n",
       "    <tr>\n",
       "      <th>75%</th>\n",
       "      <td>1.000000</td>\n",
       "      <td>0.000000</td>\n",
       "      <td>1.000000</td>\n",
       "      <td>0.000000</td>\n",
       "    </tr>\n",
       "    <tr>\n",
       "      <th>max</th>\n",
       "      <td>1.000000</td>\n",
       "      <td>1.000000</td>\n",
       "      <td>1.000000</td>\n",
       "      <td>1.000000</td>\n",
       "    </tr>\n",
       "  </tbody>\n",
       "</table>\n",
       "</div>"
      ],
      "text/plain": [
       "                  NY             ND             TX             WY\n",
       "count  407700.000000  407700.000000  407700.000000  407700.000000\n",
       "mean        0.366676       0.020397       0.597388       0.015538\n",
       "std         0.481898       0.141355       0.490425       0.123681\n",
       "min         0.000000       0.000000       0.000000       0.000000\n",
       "25%         0.000000       0.000000       0.000000       0.000000\n",
       "50%         0.000000       0.000000       1.000000       0.000000\n",
       "75%         1.000000       0.000000       1.000000       0.000000\n",
       "max         1.000000       1.000000       1.000000       1.000000"
      ]
     },
     "execution_count": 17,
     "metadata": {},
     "output_type": "execute_result"
    }
   ],
   "source": [
    "cols.loc[:,states].describe()"
   ]
  },
  {
   "cell_type": "markdown",
   "metadata": {},
   "source": [
    "Let's look at how well we can predict low (< 100,000 USD), medium (100,000-500,000 USD), and high (> 500,000 USD) priced homes."
   ]
  },
  {
   "cell_type": "code",
   "execution_count": 18,
   "metadata": {
    "collapsed": false
   },
   "outputs": [
    {
     "data": {
      "text/plain": [
       "0.28621535442727497"
      ]
     },
     "execution_count": 18,
     "metadata": {},
     "output_type": "execute_result"
    }
   ],
   "source": [
    "sum(Y < 100000)/len(Y)"
   ]
  },
  {
   "cell_type": "markdown",
   "metadata": {},
   "source": [
    "Approximately 29% of our dataset contains observations with home value under 10,000."
   ]
  },
  {
   "cell_type": "code",
   "execution_count": 20,
   "metadata": {
    "collapsed": false
   },
   "outputs": [
    {
     "data": {
      "text/plain": [
       "0.81326591824492245"
      ]
     },
     "execution_count": 20,
     "metadata": {},
     "output_type": "execute_result"
    }
   ],
   "source": [
    "ythis = Y[Y < 100000].copy()\n",
    "ythis = pd.concat([ythis, y_train[y_train >= 100000].head(len(ythis)).copy()])\n",
    "ythis[ythis < 100000] = 1\n",
    "ythis[ythis > 1] = 0\n",
    "\n",
    "xthis = X.loc[ythis.index, :]\n",
    "\n",
    "xtrainthis, xtestthis, ytrainthis, ytestthis= ttsplit(xthis,\n",
    "                                                      ythis,\n",
    "                                                      test_size = .3,\n",
    "                                                      random_state=4)\n",
    "clf = RandomForestClassifier(n_estimators = 50, n_jobs = -1)\n",
    "clf.fit(xtrainthis, ytrainthis)\n",
    "clf.score(xtestthis, ytestthis)"
   ]
  },
  {
   "cell_type": "markdown",
   "metadata": {},
   "source": [
    "The low priced homes are correctly classified approximately 81% of the time."
   ]
  },
  {
   "cell_type": "code",
   "execution_count": 21,
   "metadata": {
    "collapsed": false
   },
   "outputs": [
    {
     "data": {
      "text/plain": [
       "0.60302918812852591"
      ]
     },
     "execution_count": 21,
     "metadata": {},
     "output_type": "execute_result"
    }
   ],
   "source": [
    "sum((Y>=100000) & (Y<500000))/len(Y)"
   ]
  },
  {
   "cell_type": "markdown",
   "metadata": {},
   "source": [
    "The majority of the homes are between \\$100,000 and \\$500,000. We will not want to undersample here."
   ]
  },
  {
   "cell_type": "code",
   "execution_count": 22,
   "metadata": {
    "collapsed": false
   },
   "outputs": [
    {
     "data": {
      "text/plain": [
       "0.75061027599658947"
      ]
     },
     "execution_count": 22,
     "metadata": {},
     "output_type": "execute_result"
    }
   ],
   "source": [
    "ythis = y_train.copy()\n",
    "ythis[(ythis>=100000) & (ythis<500000)] = 1\n",
    "ythis[ythis > 1] = 0\n",
    "\n",
    "xthis = X_train.loc[ythis.index, :]\n",
    "\n",
    "xtrainthis, xtestthis, ytrainthis, ytestthis= ttsplit(xthis,\n",
    "                                                      ythis,\n",
    "                                                      test_size = .3,\n",
    "                                                      random_state=4)\n",
    "clf = RandomForestClassifier(n_estimators = 50, n_jobs = -1)\n",
    "clf.fit(xtrainthis, ytrainthis)\n",
    "clf.score(xtestthis, ytestthis)"
   ]
  },
  {
   "cell_type": "code",
   "execution_count": 23,
   "metadata": {
    "collapsed": false
   },
   "outputs": [
    {
     "data": {
      "text/plain": [
       "0.11075545744419917"
      ]
     },
     "execution_count": 23,
     "metadata": {},
     "output_type": "execute_result"
    }
   ],
   "source": [
    "sum(Y >= 500000)/len(Y)"
   ]
  },
  {
   "cell_type": "code",
   "execution_count": 24,
   "metadata": {
    "collapsed": false
   },
   "outputs": [],
   "source": [
    "ythis = Y[Y >= 500000].copy()\n",
    "ythis = pd.concat([ythis, y_train[y_train < 500000].head(len(ythis)).copy()])\n",
    "ythis[ythis >= 500000] = 1\n",
    "ythis[ythis > 1] = 0\n",
    "\n",
    "xthis = X.loc[ythis.index, :]"
   ]
  },
  {
   "cell_type": "code",
   "execution_count": 25,
   "metadata": {
    "collapsed": false
   },
   "outputs": [],
   "source": [
    "xtrainthis, xtestthis, ytrainthis, ytestthis= ttsplit(xthis,\n",
    "                                                      ythis,\n",
    "                                                      test_size = .3,\n",
    "                                                      random_state=4)"
   ]
  },
  {
   "cell_type": "code",
   "execution_count": 26,
   "metadata": {
    "collapsed": false
   },
   "outputs": [
    {
     "name": "stdout",
     "output_type": "stream",
     "text": [
      "CPU times: user 8.69 s, sys: 339 ms, total: 9.03 s\n",
      "Wall time: 5.53 s\n"
     ]
    }
   ],
   "source": [
    "%%time\n",
    "\n",
    "clf = RandomForestClassifier(n_estimators = 50, n_jobs = -1)\n",
    "clf.fit(xtrainthis, ytrainthis)"
   ]
  },
  {
   "cell_type": "code",
   "execution_count": 27,
   "metadata": {
    "collapsed": false,
    "scrolled": false
   },
   "outputs": [
    {
     "name": "stdout",
     "output_type": "stream",
     "text": [
      "CPU times: user 562 ms, sys: 53.5 ms, total: 616 ms\n",
      "Wall time: 441 ms\n"
     ]
    },
    {
     "data": {
      "text/plain": [
       "0.83541874284870632"
      ]
     },
     "execution_count": 27,
     "metadata": {},
     "output_type": "execute_result"
    }
   ],
   "source": [
    "%%time\n",
    "clf.score(xtestthis, ytestthis)"
   ]
  },
  {
   "cell_type": "code",
   "execution_count": 28,
   "metadata": {
    "collapsed": true
   },
   "outputs": [],
   "source": [
    "from sklearn.ensemble import RandomForestRegressor"
   ]
  },
  {
   "cell_type": "code",
   "execution_count": 29,
   "metadata": {
    "collapsed": false
   },
   "outputs": [
    {
     "name": "stdout",
     "output_type": "stream",
     "text": [
      "CPU times: user 44min 25s, sys: 2min 32s, total: 46min 58s\n",
      "Wall time: 36min 51s\n"
     ]
    }
   ],
   "source": [
    "%%time\n",
    "\n",
    "RFreg = RandomForestRegressor(n_jobs = -1)\n",
    "params = {'n_estimators':[10,20,50,100], 'max_features':['sqrt','log2']}\n",
    "reg = model_selection.GridSearchCV(estimator=RFreg, param_grid=params, cv=5)\n",
    "reg.fit(X_train, y_train)"
   ]
  },
  {
   "cell_type": "code",
   "execution_count": 30,
   "metadata": {
    "collapsed": false
   },
   "outputs": [
    {
     "name": "stdout",
     "output_type": "stream",
     "text": [
      "Train score: 0.926673255799\n",
      "Test score: 0.454487999914\n",
      "CPU times: user 44.7 s, sys: 10.6 s, total: 55.4 s\n",
      "Wall time: 44.4 s\n"
     ]
    }
   ],
   "source": [
    "%%time\n",
    "print(\"Train score:\", reg.score(X_train, y_train))\n",
    "print(\"Test score:\", reg.score(X_test, y_test))"
   ]
  },
  {
   "cell_type": "markdown",
   "metadata": {},
   "source": [
    "This regressor is incredibly overfit, as the test score is nearly 50% lower than the train score. Further work is necessary to get a less overfitted model. First I want to see if there are any differences in the class balance in the testing and training sets."
   ]
  },
  {
   "cell_type": "code",
   "execution_count": 31,
   "metadata": {
    "collapsed": false
   },
   "outputs": [
    {
     "name": "stdout",
     "output_type": "stream",
     "text": [
      "Training set extreme lows: 4270\n",
      "Expected test set extreme lows: 1830.0\n",
      "Actual test set extreme lows: 1838\n",
      "Training set lows: 81674\n",
      "Expected test set extreme lows: 35003.1428571\n",
      "Actual test set lows: 35016\n",
      "Training set medium: 249280\n",
      "Expected test set extreme lows: 106834.285714\n",
      "Actual test set medium: 107157\n",
      "Training set high: 31840\n",
      "Expected test set extreme lows: 13645.7142857\n",
      "Actual test set high: 13315\n"
     ]
    }
   ],
   "source": [
    "print(\"Training set extreme lows:\", sum(y_train < 10000))\n",
    "print(\"Expected test set extreme lows:\", sum(y_train < 10000) * 3/7)\n",
    "print(\"Actual test set extreme lows:\", sum(y_test < 10000))\n",
    "print(\"Training set lows:\", sum(y_train < 100000))\n",
    "print(\"Expected test set extreme lows:\", sum(y_train < 100000) * 3/7)\n",
    "print(\"Actual test set lows:\", sum(y_test < 100000))\n",
    "print(\"Training set medium:\", sum((y_train >= 10000) & (y_train < 500000)))\n",
    "print(\"Expected test set extreme lows:\", sum((y_train >= 10000) & (y_train < 500000)) * 3/7)\n",
    "print(\"Actual test set medium:\", sum((y_test >= 10000) & (y_test < 500000)))\n",
    "print(\"Training set high:\", sum(y_train >= 500000))\n",
    "print(\"Expected test set extreme lows:\", sum(y_train >= 500000) * 3/7)\n",
    "print(\"Actual test set high:\", sum(y_test >= 500000))"
   ]
  },
  {
   "cell_type": "markdown",
   "metadata": {},
   "source": [
    "Apparently there is not a class imbalance in the training and test set. Perhaps this problem is not appropriate for regression. Let's try a multiclass regressor to see how well it scores all of the extremely low, low, medium and high price homes."
   ]
  },
  {
   "cell_type": "code",
   "execution_count": 32,
   "metadata": {
    "collapsed": false
   },
   "outputs": [
    {
     "name": "stderr",
     "output_type": "stream",
     "text": [
      "/Users/hunter/anaconda/lib/python3.6/site-packages/ipykernel/__main__.py:1: SettingWithCopyWarning: \n",
      "A value is trying to be set on a copy of a slice from a DataFrame\n",
      "\n",
      "See the caveats in the documentation: http://pandas.pydata.org/pandas-docs/stable/indexing.html#indexing-view-versus-copy\n",
      "  if __name__ == '__main__':\n",
      "/Users/hunter/anaconda/lib/python3.6/site-packages/ipykernel/__main__.py:2: SettingWithCopyWarning: \n",
      "A value is trying to be set on a copy of a slice from a DataFrame\n",
      "\n",
      "See the caveats in the documentation: http://pandas.pydata.org/pandas-docs/stable/indexing.html#indexing-view-versus-copy\n",
      "  from ipykernel import kernelapp as app\n",
      "/Users/hunter/anaconda/lib/python3.6/site-packages/ipykernel/__main__.py:3: SettingWithCopyWarning: \n",
      "A value is trying to be set on a copy of a slice from a DataFrame\n",
      "\n",
      "See the caveats in the documentation: http://pandas.pydata.org/pandas-docs/stable/indexing.html#indexing-view-versus-copy\n",
      "  app.launch_new_instance()\n",
      "/Users/hunter/anaconda/lib/python3.6/site-packages/ipykernel/__main__.py:4: SettingWithCopyWarning: \n",
      "A value is trying to be set on a copy of a slice from a DataFrame\n",
      "\n",
      "See the caveats in the documentation: http://pandas.pydata.org/pandas-docs/stable/indexing.html#indexing-view-versus-copy\n"
     ]
    }
   ],
   "source": [
    "Y[Y < 10000] = 1\n",
    "Y[(Y > 1) & (Y < 100000)] = 2\n",
    "Y[(Y > 2) & (Y < 500000)] = 3\n",
    "Y[Y > 3] = 4"
   ]
  },
  {
   "cell_type": "code",
   "execution_count": 34,
   "metadata": {
    "collapsed": true
   },
   "outputs": [],
   "source": [
    "X_train, X_test, y_train, y_test = ttsplit(X, Y, test_size = 0.3, random_state = 4)"
   ]
  },
  {
   "cell_type": "code",
   "execution_count": 35,
   "metadata": {
    "collapsed": false
   },
   "outputs": [
    {
     "name": "stdout",
     "output_type": "stream",
     "text": [
      "CPU times: user 1min 23s, sys: 1.95 s, total: 1min 25s\n",
      "Wall time: 53.5 s\n"
     ]
    }
   ],
   "source": [
    "%%time\n",
    "\n",
    "clf = RandomForestClassifier(n_estimators = 50, n_jobs = -1)\n",
    "clf.fit(X_train, y_train)"
   ]
  },
  {
   "cell_type": "code",
   "execution_count": 36,
   "metadata": {
    "collapsed": false
   },
   "outputs": [
    {
     "name": "stdout",
     "output_type": "stream",
     "text": [
      "Train score: 0.999772241494\n",
      "Test score: 0.736260322132\n",
      "CPU times: user 17.5 s, sys: 2.11 s, total: 19.6 s\n",
      "Wall time: 14.5 s\n"
     ]
    }
   ],
   "source": [
    "%%time\n",
    "\n",
    "print(\"Train score:\", clf.score(X_train, y_train))\n",
    "print(\"Test score:\", clf.score(X_test, y_test))"
   ]
  },
  {
   "cell_type": "code",
   "execution_count": 43,
   "metadata": {
    "collapsed": false
   },
   "outputs": [
    {
     "name": "stdout",
     "output_type": "stream",
     "text": [
      "Yearly_Insurance_Cost    0.195457\n",
      "Family_Income            0.140632\n",
      "Household_Income         0.120729\n",
      "Yearly_Water             0.092986\n",
      "Monthly_Electric         0.092630\n",
      "Monthly_Gas              0.081120\n",
      "Age                      0.068537\n",
      "Num_Rooms                0.056200\n",
      "Num_People               0.033601\n",
      "Num_Vehicles             0.032230\n",
      "Num_Bedrooms             0.031068\n",
      "Lot_Size                 0.016792\n",
      "NY                       0.016378\n",
      "TX                       0.016297\n",
      "WY                       0.002128\n",
      "ND                       0.002115\n",
      "Has_Hot_Water            0.000452\n",
      "Has_Sink                 0.000342\n",
      "Has_Bathtub              0.000306\n",
      "dtype: float64\n"
     ]
    }
   ],
   "source": [
    "print(pd.Series(clf.feature_importances_, X_names).sort_values(ascending = False))"
   ]
  },
  {
   "cell_type": "markdown",
   "metadata": {},
   "source": []
  }
 ],
 "metadata": {
  "kernelspec": {
   "display_name": "Python [default]",
   "language": "python",
   "name": "python3"
  },
  "language_info": {
   "codemirror_mode": {
    "name": "ipython",
    "version": 3
   },
   "file_extension": ".py",
   "mimetype": "text/x-python",
   "name": "python",
   "nbconvert_exporter": "python",
   "pygments_lexer": "ipython3",
   "version": "3.6.2"
  }
 },
 "nbformat": 4,
 "nbformat_minor": 2
}
