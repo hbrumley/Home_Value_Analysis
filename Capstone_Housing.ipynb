{
 "cells": [
  {
   "cell_type": "markdown",
   "metadata": {},
   "source": [
    "## I am analyzing the 2011-2015 PUMS housing data, found [here](https://www.census.gov/programs-surveys/acs/data/pums.html). The data dictionary which explains the meaning of each column and the values contained within is available [here.](https://www.census.gov/programs-surveys/acs/technical-documentation/pums/documentation.2015.html) I want to find an algorithm that can predict the value of the home."
   ]
  },
  {
   "cell_type": "code",
   "execution_count": 1,
   "metadata": {
    "collapsed": true
   },
   "outputs": [],
   "source": [
    "import pandas as pd\n",
    "import numpy as np\n",
    "import matplotlib.pyplot as plt\n",
    "from sklearn import preprocessing\n",
    "from sklearn.model_selection import train_test_split\n",
    "from sklearn import linear_model\n",
    "from sklearn.ensemble import RandomForestClassifier"
   ]
  },
  {
   "cell_type": "code",
   "execution_count": 2,
   "metadata": {
    "collapsed": true
   },
   "outputs": [],
   "source": [
    "#need to be able to read larger outputs\n",
    "pd.options.display.max_rows = 250"
   ]
  },
  {
   "cell_type": "code",
   "execution_count": 3,
   "metadata": {
    "collapsed": false,
    "scrolled": true
   },
   "outputs": [],
   "source": [
    "dat = pd.read_csv('ss15hnd.csv')\n",
    "dat = pd.concat([dat, pd.read_csv('ss15hny.csv'),\n",
    "                 pd.read_csv('ss15hwy.csv'),\n",
    "                 pd.read_csv('ss15htx.csv')], ignore_index = True)\n",
    "dat.rename(columns = {\"insp\": \"INSP\"}, inplace = True)"
   ]
  },
  {
   "cell_type": "code",
   "execution_count": 4,
   "metadata": {
    "collapsed": false,
    "scrolled": false
   },
   "outputs": [
    {
     "data": {
      "text/html": [
       "<div>\n",
       "<table border=\"1\" class=\"dataframe\">\n",
       "  <thead>\n",
       "    <tr style=\"text-align: right;\">\n",
       "      <th></th>\n",
       "      <th>State</th>\n",
       "      <th>Num_People</th>\n",
       "      <th>Lot_Size</th>\n",
       "      <th>Has_Bathtub</th>\n",
       "      <th>Num_Bedrooms</th>\n",
       "      <th>Monthly_Electric</th>\n",
       "      <th>Monthly_Gas</th>\n",
       "      <th>Yearly_Insurance_Cost</th>\n",
       "      <th>Num_Rooms</th>\n",
       "      <th>Has_Hot_Water</th>\n",
       "      <th>Has_Sink</th>\n",
       "      <th>Value</th>\n",
       "      <th>Num_Vehicles</th>\n",
       "      <th>Yearly_Water</th>\n",
       "      <th>Year_Built</th>\n",
       "      <th>Family_Income</th>\n",
       "      <th>Household_Income</th>\n",
       "    </tr>\n",
       "  </thead>\n",
       "  <tbody>\n",
       "    <tr>\n",
       "      <th>count</th>\n",
       "      <td>407700.000000</td>\n",
       "      <td>407700.000000</td>\n",
       "      <td>407700.000000</td>\n",
       "      <td>407700.000000</td>\n",
       "      <td>407700.000000</td>\n",
       "      <td>407700.000000</td>\n",
       "      <td>407700.000000</td>\n",
       "      <td>407700.000000</td>\n",
       "      <td>407700.000000</td>\n",
       "      <td>407700.000000</td>\n",
       "      <td>407700.000000</td>\n",
       "      <td>4.077000e+05</td>\n",
       "      <td>407700.000000</td>\n",
       "      <td>407700.000000</td>\n",
       "      <td>407700.000000</td>\n",
       "      <td>4.077000e+05</td>\n",
       "      <td>4.077000e+05</td>\n",
       "    </tr>\n",
       "    <tr>\n",
       "      <th>mean</th>\n",
       "      <td>43.520216</td>\n",
       "      <td>3.101925</td>\n",
       "      <td>1.299669</td>\n",
       "      <td>1.001683</td>\n",
       "      <td>3.316505</td>\n",
       "      <td>186.376954</td>\n",
       "      <td>59.355973</td>\n",
       "      <td>1134.024498</td>\n",
       "      <td>6.977479</td>\n",
       "      <td>1.002100</td>\n",
       "      <td>1.001688</td>\n",
       "      <td>2.537063e+05</td>\n",
       "      <td>2.255585</td>\n",
       "      <td>558.435847</td>\n",
       "      <td>5.277415</td>\n",
       "      <td>1.047924e+05</td>\n",
       "      <td>1.058923e+05</td>\n",
       "    </tr>\n",
       "    <tr>\n",
       "      <th>std</th>\n",
       "      <td>5.980571</td>\n",
       "      <td>1.356574</td>\n",
       "      <td>0.569388</td>\n",
       "      <td>0.040985</td>\n",
       "      <td>0.934867</td>\n",
       "      <td>106.674852</td>\n",
       "      <td>83.926798</td>\n",
       "      <td>1061.516282</td>\n",
       "      <td>2.264988</td>\n",
       "      <td>0.045773</td>\n",
       "      <td>0.041045</td>\n",
       "      <td>3.562430e+05</td>\n",
       "      <td>0.961443</td>\n",
       "      <td>578.861019</td>\n",
       "      <td>3.101509</td>\n",
       "      <td>1.021289e+05</td>\n",
       "      <td>1.023201e+05</td>\n",
       "    </tr>\n",
       "    <tr>\n",
       "      <th>min</th>\n",
       "      <td>36.000000</td>\n",
       "      <td>2.000000</td>\n",
       "      <td>1.000000</td>\n",
       "      <td>1.000000</td>\n",
       "      <td>0.000000</td>\n",
       "      <td>1.000000</td>\n",
       "      <td>1.000000</td>\n",
       "      <td>0.000000</td>\n",
       "      <td>1.000000</td>\n",
       "      <td>1.000000</td>\n",
       "      <td>1.000000</td>\n",
       "      <td>1.000000e+02</td>\n",
       "      <td>0.000000</td>\n",
       "      <td>1.000000</td>\n",
       "      <td>1.000000</td>\n",
       "      <td>-1.680000e+04</td>\n",
       "      <td>-1.680000e+04</td>\n",
       "    </tr>\n",
       "    <tr>\n",
       "      <th>25%</th>\n",
       "      <td>36.000000</td>\n",
       "      <td>2.000000</td>\n",
       "      <td>1.000000</td>\n",
       "      <td>1.000000</td>\n",
       "      <td>3.000000</td>\n",
       "      <td>110.000000</td>\n",
       "      <td>3.000000</td>\n",
       "      <td>500.000000</td>\n",
       "      <td>5.000000</td>\n",
       "      <td>1.000000</td>\n",
       "      <td>1.000000</td>\n",
       "      <td>9.000000e+04</td>\n",
       "      <td>2.000000</td>\n",
       "      <td>80.000000</td>\n",
       "      <td>3.000000</td>\n",
       "      <td>4.600000e+04</td>\n",
       "      <td>4.710000e+04</td>\n",
       "    </tr>\n",
       "    <tr>\n",
       "      <th>50%</th>\n",
       "      <td>48.000000</td>\n",
       "      <td>3.000000</td>\n",
       "      <td>1.000000</td>\n",
       "      <td>1.000000</td>\n",
       "      <td>3.000000</td>\n",
       "      <td>160.000000</td>\n",
       "      <td>30.000000</td>\n",
       "      <td>980.000000</td>\n",
       "      <td>7.000000</td>\n",
       "      <td>1.000000</td>\n",
       "      <td>1.000000</td>\n",
       "      <td>1.600000e+05</td>\n",
       "      <td>2.000000</td>\n",
       "      <td>450.000000</td>\n",
       "      <td>5.000000</td>\n",
       "      <td>7.960700e+04</td>\n",
       "      <td>8.010000e+04</td>\n",
       "    </tr>\n",
       "    <tr>\n",
       "      <th>75%</th>\n",
       "      <td>48.000000</td>\n",
       "      <td>4.000000</td>\n",
       "      <td>1.000000</td>\n",
       "      <td>1.000000</td>\n",
       "      <td>4.000000</td>\n",
       "      <td>250.000000</td>\n",
       "      <td>80.000000</td>\n",
       "      <td>1500.000000</td>\n",
       "      <td>8.000000</td>\n",
       "      <td>1.000000</td>\n",
       "      <td>1.000000</td>\n",
       "      <td>3.000000e+05</td>\n",
       "      <td>3.000000</td>\n",
       "      <td>840.000000</td>\n",
       "      <td>7.000000</td>\n",
       "      <td>1.264400e+05</td>\n",
       "      <td>1.280000e+05</td>\n",
       "    </tr>\n",
       "    <tr>\n",
       "      <th>max</th>\n",
       "      <td>56.000000</td>\n",
       "      <td>20.000000</td>\n",
       "      <td>3.000000</td>\n",
       "      <td>2.000000</td>\n",
       "      <td>12.000000</td>\n",
       "      <td>650.000000</td>\n",
       "      <td>570.000000</td>\n",
       "      <td>8100.000000</td>\n",
       "      <td>22.000000</td>\n",
       "      <td>2.000000</td>\n",
       "      <td>2.000000</td>\n",
       "      <td>5.216000e+06</td>\n",
       "      <td>6.000000</td>\n",
       "      <td>3600.000000</td>\n",
       "      <td>19.000000</td>\n",
       "      <td>2.060000e+06</td>\n",
       "      <td>2.090000e+06</td>\n",
       "    </tr>\n",
       "  </tbody>\n",
       "</table>\n",
       "</div>"
      ],
      "text/plain": [
       "               State     Num_People       Lot_Size    Has_Bathtub  \\\n",
       "count  407700.000000  407700.000000  407700.000000  407700.000000   \n",
       "mean       43.520216       3.101925       1.299669       1.001683   \n",
       "std         5.980571       1.356574       0.569388       0.040985   \n",
       "min        36.000000       2.000000       1.000000       1.000000   \n",
       "25%        36.000000       2.000000       1.000000       1.000000   \n",
       "50%        48.000000       3.000000       1.000000       1.000000   \n",
       "75%        48.000000       4.000000       1.000000       1.000000   \n",
       "max        56.000000      20.000000       3.000000       2.000000   \n",
       "\n",
       "        Num_Bedrooms  Monthly_Electric    Monthly_Gas  Yearly_Insurance_Cost  \\\n",
       "count  407700.000000     407700.000000  407700.000000          407700.000000   \n",
       "mean        3.316505        186.376954      59.355973            1134.024498   \n",
       "std         0.934867        106.674852      83.926798            1061.516282   \n",
       "min         0.000000          1.000000       1.000000               0.000000   \n",
       "25%         3.000000        110.000000       3.000000             500.000000   \n",
       "50%         3.000000        160.000000      30.000000             980.000000   \n",
       "75%         4.000000        250.000000      80.000000            1500.000000   \n",
       "max        12.000000        650.000000     570.000000            8100.000000   \n",
       "\n",
       "           Num_Rooms  Has_Hot_Water       Has_Sink         Value  \\\n",
       "count  407700.000000  407700.000000  407700.000000  4.077000e+05   \n",
       "mean        6.977479       1.002100       1.001688  2.537063e+05   \n",
       "std         2.264988       0.045773       0.041045  3.562430e+05   \n",
       "min         1.000000       1.000000       1.000000  1.000000e+02   \n",
       "25%         5.000000       1.000000       1.000000  9.000000e+04   \n",
       "50%         7.000000       1.000000       1.000000  1.600000e+05   \n",
       "75%         8.000000       1.000000       1.000000  3.000000e+05   \n",
       "max        22.000000       2.000000       2.000000  5.216000e+06   \n",
       "\n",
       "        Num_Vehicles   Yearly_Water     Year_Built  Family_Income  \\\n",
       "count  407700.000000  407700.000000  407700.000000   4.077000e+05   \n",
       "mean        2.255585     558.435847       5.277415   1.047924e+05   \n",
       "std         0.961443     578.861019       3.101509   1.021289e+05   \n",
       "min         0.000000       1.000000       1.000000  -1.680000e+04   \n",
       "25%         2.000000      80.000000       3.000000   4.600000e+04   \n",
       "50%         2.000000     450.000000       5.000000   7.960700e+04   \n",
       "75%         3.000000     840.000000       7.000000   1.264400e+05   \n",
       "max         6.000000    3600.000000      19.000000   2.060000e+06   \n",
       "\n",
       "       Household_Income  \n",
       "count      4.077000e+05  \n",
       "mean       1.058923e+05  \n",
       "std        1.023201e+05  \n",
       "min       -1.680000e+04  \n",
       "25%        4.710000e+04  \n",
       "50%        8.010000e+04  \n",
       "75%        1.280000e+05  \n",
       "max        2.090000e+06  "
      ]
     },
     "execution_count": 4,
     "metadata": {},
     "output_type": "execute_result"
    }
   ],
   "source": [
    "colnames = [\"ST\", \"NP\", \"ACR\", \"BATH\", \"BDSP\", \"ELEP\", \"GASP\", \"INSP\",\n",
    "              \"RMSP\", \"RWAT\", \"SINK\", \"VALP\", \"VEH\", \"WATP\", \"YBL\",\n",
    "              \"FINCP\", \"HINCP\"]\n",
    "readable_names = [\"State\", \"Num_People\", \"Lot_Size\", \"Has_Bathtub\", \"Num_Bedrooms\",\n",
    "                  \"Monthly_Electric\", \"Monthly_Gas\", \"Yearly_Insurance_Cost\", \"Num_Rooms\",\n",
    "                  \"Has_Hot_Water\", \"Has_Sink\", \"Value\", \"Num_Vehicles\",\n",
    "                  \"Yearly_Water\", \"Year_Built\", \"Family_Income\", \"Household_Income\"]\n",
    "\n",
    "cols = dat[colnames].copy()\n",
    "\n",
    "cols.columns = readable_names\n",
    "\n",
    "cols.dropna(inplace = True)\n",
    "cols.describe()"
   ]
  },
  {
   "cell_type": "markdown",
   "metadata": {},
   "source": [
    "### We now have 16 features and a target column (\"Value\"). We will need to clean the data a little further. The next cell will separate the state column into a column with each state."
   ]
  },
  {
   "cell_type": "code",
   "execution_count": 5,
   "metadata": {
    "collapsed": false
   },
   "outputs": [],
   "source": [
    "cols = pd.get_dummies(cols, columns = [\"State\"])\n",
    "readable_names = readable_names[1:]\n",
    "readable_names.extend([\"NY\", \"ND\", \"TX\", \"WY\"])\n",
    "cols.columns = readable_names"
   ]
  },
  {
   "cell_type": "markdown",
   "metadata": {},
   "source": [
    "### The documentation tells us that some of the values in the year built column correspond to a year and some of them a range of years. We want to change it to the age of the house in years since it is a more reasonable range to work with."
   ]
  },
  {
   "cell_type": "code",
   "execution_count": 6,
   "metadata": {
    "collapsed": false,
    "scrolled": true
   },
   "outputs": [
    {
     "name": "stderr",
     "output_type": "stream",
     "text": [
      "/Users/hunter/anaconda/lib/python3.6/site-packages/pandas/core/indexing.py:141: SettingWithCopyWarning: \n",
      "A value is trying to be set on a copy of a slice from a DataFrame\n",
      "\n",
      "See the caveats in the documentation: http://pandas.pydata.org/pandas-docs/stable/indexing.html#indexing-view-versus-copy\n",
      "  self._setitem_with_indexer(indexer, value)\n"
     ]
    }
   ],
   "source": [
    "ybl = cols.Year_Built\n",
    "\n",
    "ybl.loc[ybl == 1.0] = 90\n",
    "ybl.loc[ybl == 2.0] = 70\n",
    "ybl.loc[ybl == 3.0] = 60\n",
    "ybl.loc[ybl == 4.0] = 50\n",
    "ybl.loc[ybl == 5.0] = 40\n",
    "ybl.loc[ybl == 6.0] = 30\n",
    "ybl.loc[ybl == 7.0] = 20\n",
    "ybl.loc[ybl == 8.0] = 13\n",
    "ybl.loc[ybl == 9.0] = 10\n",
    "ybl.loc[ybl == 10.0] = 9\n",
    "ybl.loc[ybl == 11.0] = 8\n",
    "ybl.loc[ybl == 12.0] = 7\n",
    "ybl.loc[ybl == 13.0] = 6\n",
    "ybl.loc[ybl == 14.0] = 5\n",
    "ybl.loc[ybl == 15.0] = 4\n",
    "ybl.loc[ybl == 16.0] = 3\n",
    "ybl.loc[ybl == 17.0] = 2\n",
    "ybl.loc[ybl == 18.0] = 1\n",
    "ybl.loc[ybl == 19.0] = 0"
   ]
  },
  {
   "cell_type": "code",
   "execution_count": 7,
   "metadata": {
    "collapsed": false
   },
   "outputs": [],
   "source": [
    "cols.rename(columns={\"Year_Built\":\"Age\"}, inplace = True)"
   ]
  },
  {
   "cell_type": "code",
   "execution_count": 8,
   "metadata": {
    "collapsed": true
   },
   "outputs": [],
   "source": [
    "Y = cols.Value.copy()\n",
    "X_names = [c for c in cols.columns if c != \"Value\"]\n",
    "X = cols[X_names].copy()"
   ]
  },
  {
   "cell_type": "code",
   "execution_count": 9,
   "metadata": {
    "collapsed": false,
    "scrolled": true
   },
   "outputs": [
    {
     "data": {
      "text/html": [
       "<div>\n",
       "<table border=\"1\" class=\"dataframe\">\n",
       "  <thead>\n",
       "    <tr style=\"text-align: right;\">\n",
       "      <th></th>\n",
       "      <th>Num_People</th>\n",
       "      <th>Lot_Size</th>\n",
       "      <th>Has_Bathtub</th>\n",
       "      <th>Num_Bedrooms</th>\n",
       "      <th>Monthly_Electric</th>\n",
       "      <th>Monthly_Gas</th>\n",
       "      <th>Yearly_Insurance_Cost</th>\n",
       "      <th>Num_Rooms</th>\n",
       "      <th>Has_Hot_Water</th>\n",
       "      <th>Has_Sink</th>\n",
       "      <th>Num_Vehicles</th>\n",
       "      <th>Yearly_Water</th>\n",
       "      <th>Age</th>\n",
       "      <th>Family_Income</th>\n",
       "      <th>Household_Income</th>\n",
       "      <th>NY</th>\n",
       "      <th>ND</th>\n",
       "      <th>TX</th>\n",
       "      <th>WY</th>\n",
       "    </tr>\n",
       "  </thead>\n",
       "  <tbody>\n",
       "    <tr>\n",
       "      <th>count</th>\n",
       "      <td>4.077000e+05</td>\n",
       "      <td>4.077000e+05</td>\n",
       "      <td>4.077000e+05</td>\n",
       "      <td>407700.000000</td>\n",
       "      <td>4.077000e+05</td>\n",
       "      <td>4.077000e+05</td>\n",
       "      <td>407700.000000</td>\n",
       "      <td>4.077000e+05</td>\n",
       "      <td>4.077000e+05</td>\n",
       "      <td>4.077000e+05</td>\n",
       "      <td>407700.000000</td>\n",
       "      <td>4.077000e+05</td>\n",
       "      <td>407700.000000</td>\n",
       "      <td>407700.000000</td>\n",
       "      <td>407700.000000</td>\n",
       "      <td>407700.000000</td>\n",
       "      <td>4.077000e+05</td>\n",
       "      <td>407700.000000</td>\n",
       "      <td>4.077000e+05</td>\n",
       "    </tr>\n",
       "    <tr>\n",
       "      <th>mean</th>\n",
       "      <td>6.627692e-05</td>\n",
       "      <td>2.944008e-05</td>\n",
       "      <td>2.199643e-05</td>\n",
       "      <td>0.000065</td>\n",
       "      <td>3.344604e-03</td>\n",
       "      <td>1.067395e-03</td>\n",
       "      <td>0.014136</td>\n",
       "      <td>1.320640e-04</td>\n",
       "      <td>2.207931e-05</td>\n",
       "      <td>2.201900e-05</td>\n",
       "      <td>0.000038</td>\n",
       "      <td>8.856642e-03</td>\n",
       "      <td>0.000888</td>\n",
       "      <td>0.697569</td>\n",
       "      <td>0.707965</td>\n",
       "      <td>0.000007</td>\n",
       "      <td>4.442247e-07</td>\n",
       "      <td>0.000014</td>\n",
       "      <td>3.946730e-07</td>\n",
       "    </tr>\n",
       "    <tr>\n",
       "      <th>std</th>\n",
       "      <td>1.888253e-03</td>\n",
       "      <td>7.003365e-04</td>\n",
       "      <td>4.113219e-04</td>\n",
       "      <td>0.000807</td>\n",
       "      <td>2.202977e-02</td>\n",
       "      <td>1.056880e-02</td>\n",
       "      <td>0.049879</td>\n",
       "      <td>1.563581e-03</td>\n",
       "      <td>4.133322e-04</td>\n",
       "      <td>4.112528e-04</td>\n",
       "      <td>0.000405</td>\n",
       "      <td>3.813497e-02</td>\n",
       "      <td>0.008559</td>\n",
       "      <td>0.064953</td>\n",
       "      <td>0.055243</td>\n",
       "      <td>0.000218</td>\n",
       "      <td>2.868221e-05</td>\n",
       "      <td>0.000198</td>\n",
       "      <td>4.188746e-05</td>\n",
       "    </tr>\n",
       "    <tr>\n",
       "      <th>min</th>\n",
       "      <td>7.319914e-07</td>\n",
       "      <td>3.407650e-07</td>\n",
       "      <td>3.407650e-07</td>\n",
       "      <td>0.000000</td>\n",
       "      <td>5.528577e-07</td>\n",
       "      <td>7.262047e-07</td>\n",
       "      <td>0.000000</td>\n",
       "      <td>5.987355e-07</td>\n",
       "      <td>3.407650e-07</td>\n",
       "      <td>3.407650e-07</td>\n",
       "      <td>0.000000</td>\n",
       "      <td>4.524008e-07</td>\n",
       "      <td>0.000000</td>\n",
       "      <td>-0.970353</td>\n",
       "      <td>-0.707107</td>\n",
       "      <td>0.000000</td>\n",
       "      <td>0.000000e+00</td>\n",
       "      <td>0.000000</td>\n",
       "      <td>0.000000e+00</td>\n",
       "    </tr>\n",
       "    <tr>\n",
       "      <th>25%</th>\n",
       "      <td>1.545568e-05</td>\n",
       "      <td>6.164258e-06</td>\n",
       "      <td>5.567537e-06</td>\n",
       "      <td>0.000018</td>\n",
       "      <td>8.122103e-04</td>\n",
       "      <td>3.558896e-05</td>\n",
       "      <td>0.003581</td>\n",
       "      <td>3.778339e-05</td>\n",
       "      <td>5.567538e-06</td>\n",
       "      <td>5.567538e-06</td>\n",
       "      <td>0.000012</td>\n",
       "      <td>6.512817e-04</td>\n",
       "      <td>0.000131</td>\n",
       "      <td>0.706977</td>\n",
       "      <td>0.706999</td>\n",
       "      <td>0.000000</td>\n",
       "      <td>0.000000e+00</td>\n",
       "      <td>0.000000</td>\n",
       "      <td>0.000000e+00</td>\n",
       "    </tr>\n",
       "    <tr>\n",
       "      <th>50%</th>\n",
       "      <td>2.570398e-05</td>\n",
       "      <td>1.063305e-05</td>\n",
       "      <td>8.838377e-06</td>\n",
       "      <td>0.000028</td>\n",
       "      <td>1.425573e-03</td>\n",
       "      <td>2.286502e-04</td>\n",
       "      <td>0.007448</td>\n",
       "      <td>5.878211e-05</td>\n",
       "      <td>8.838388e-06</td>\n",
       "      <td>8.838381e-06</td>\n",
       "      <td>0.000019</td>\n",
       "      <td>3.326583e-03</td>\n",
       "      <td>0.000327</td>\n",
       "      <td>0.707067</td>\n",
       "      <td>0.707072</td>\n",
       "      <td>0.000000</td>\n",
       "      <td>0.000000e+00</td>\n",
       "      <td>0.000005</td>\n",
       "      <td>0.000000e+00</td>\n",
       "    </tr>\n",
       "    <tr>\n",
       "      <th>75%</th>\n",
       "      <td>4.419414e-05</td>\n",
       "      <td>1.963975e-05</td>\n",
       "      <td>1.510492e-05</td>\n",
       "      <td>0.000047</td>\n",
       "      <td>2.580530e-03</td>\n",
       "      <td>7.592265e-04</td>\n",
       "      <td>0.013539</td>\n",
       "      <td>9.706633e-05</td>\n",
       "      <td>1.510539e-05</td>\n",
       "      <td>1.510531e-05</td>\n",
       "      <td>0.000031</td>\n",
       "      <td>8.345852e-03</td>\n",
       "      <td>0.000689</td>\n",
       "      <td>0.707094</td>\n",
       "      <td>0.707096</td>\n",
       "      <td>0.000006</td>\n",
       "      <td>0.000000e+00</td>\n",
       "      <td>0.000011</td>\n",
       "      <td>0.000000e+00</td>\n",
       "    </tr>\n",
       "    <tr>\n",
       "      <th>max</th>\n",
       "      <td>7.474351e-01</td>\n",
       "      <td>2.621112e-01</td>\n",
       "      <td>1.747408e-01</td>\n",
       "      <td>0.246632</td>\n",
       "      <td>9.998752e-01</td>\n",
       "      <td>9.730085e-01</td>\n",
       "      <td>0.999985</td>\n",
       "      <td>4.439373e-01</td>\n",
       "      <td>1.747408e-01</td>\n",
       "      <td>1.747408e-01</td>\n",
       "      <td>0.167248</td>\n",
       "      <td>9.996247e-01</td>\n",
       "      <td>0.979535</td>\n",
       "      <td>0.992709</td>\n",
       "      <td>0.999999</td>\n",
       "      <td>0.087370</td>\n",
       "      <td>9.256879e-03</td>\n",
       "      <td>0.083624</td>\n",
       "      <td>1.986929e-02</td>\n",
       "    </tr>\n",
       "  </tbody>\n",
       "</table>\n",
       "</div>"
      ],
      "text/plain": [
       "         Num_People      Lot_Size   Has_Bathtub   Num_Bedrooms  \\\n",
       "count  4.077000e+05  4.077000e+05  4.077000e+05  407700.000000   \n",
       "mean   6.627692e-05  2.944008e-05  2.199643e-05       0.000065   \n",
       "std    1.888253e-03  7.003365e-04  4.113219e-04       0.000807   \n",
       "min    7.319914e-07  3.407650e-07  3.407650e-07       0.000000   \n",
       "25%    1.545568e-05  6.164258e-06  5.567537e-06       0.000018   \n",
       "50%    2.570398e-05  1.063305e-05  8.838377e-06       0.000028   \n",
       "75%    4.419414e-05  1.963975e-05  1.510492e-05       0.000047   \n",
       "max    7.474351e-01  2.621112e-01  1.747408e-01       0.246632   \n",
       "\n",
       "       Monthly_Electric   Monthly_Gas  Yearly_Insurance_Cost     Num_Rooms  \\\n",
       "count      4.077000e+05  4.077000e+05          407700.000000  4.077000e+05   \n",
       "mean       3.344604e-03  1.067395e-03               0.014136  1.320640e-04   \n",
       "std        2.202977e-02  1.056880e-02               0.049879  1.563581e-03   \n",
       "min        5.528577e-07  7.262047e-07               0.000000  5.987355e-07   \n",
       "25%        8.122103e-04  3.558896e-05               0.003581  3.778339e-05   \n",
       "50%        1.425573e-03  2.286502e-04               0.007448  5.878211e-05   \n",
       "75%        2.580530e-03  7.592265e-04               0.013539  9.706633e-05   \n",
       "max        9.998752e-01  9.730085e-01               0.999985  4.439373e-01   \n",
       "\n",
       "       Has_Hot_Water      Has_Sink   Num_Vehicles  Yearly_Water  \\\n",
       "count   4.077000e+05  4.077000e+05  407700.000000  4.077000e+05   \n",
       "mean    2.207931e-05  2.201900e-05       0.000038  8.856642e-03   \n",
       "std     4.133322e-04  4.112528e-04       0.000405  3.813497e-02   \n",
       "min     3.407650e-07  3.407650e-07       0.000000  4.524008e-07   \n",
       "25%     5.567538e-06  5.567538e-06       0.000012  6.512817e-04   \n",
       "50%     8.838388e-06  8.838381e-06       0.000019  3.326583e-03   \n",
       "75%     1.510539e-05  1.510531e-05       0.000031  8.345852e-03   \n",
       "max     1.747408e-01  1.747408e-01       0.167248  9.996247e-01   \n",
       "\n",
       "                 Age  Family_Income  Household_Income             NY  \\\n",
       "count  407700.000000  407700.000000     407700.000000  407700.000000   \n",
       "mean        0.000888       0.697569          0.707965       0.000007   \n",
       "std         0.008559       0.064953          0.055243       0.000218   \n",
       "min         0.000000      -0.970353         -0.707107       0.000000   \n",
       "25%         0.000131       0.706977          0.706999       0.000000   \n",
       "50%         0.000327       0.707067          0.707072       0.000000   \n",
       "75%         0.000689       0.707094          0.707096       0.000006   \n",
       "max         0.979535       0.992709          0.999999       0.087370   \n",
       "\n",
       "                 ND             TX            WY  \n",
       "count  4.077000e+05  407700.000000  4.077000e+05  \n",
       "mean   4.442247e-07       0.000014  3.946730e-07  \n",
       "std    2.868221e-05       0.000198  4.188746e-05  \n",
       "min    0.000000e+00       0.000000  0.000000e+00  \n",
       "25%    0.000000e+00       0.000000  0.000000e+00  \n",
       "50%    0.000000e+00       0.000005  0.000000e+00  \n",
       "75%    0.000000e+00       0.000011  0.000000e+00  \n",
       "max    9.256879e-03       0.083624  1.986929e-02  "
      ]
     },
     "execution_count": 9,
     "metadata": {},
     "output_type": "execute_result"
    }
   ],
   "source": [
    "X = pd.DataFrame(preprocessing.normalize(X))\n",
    "X.columns = X_names\n",
    "X.describe()"
   ]
  },
  {
   "cell_type": "code",
   "execution_count": 10,
   "metadata": {
    "collapsed": false
   },
   "outputs": [],
   "source": [
    "Y.reset_index(inplace = True, drop = True)"
   ]
  },
  {
   "cell_type": "code",
   "execution_count": 11,
   "metadata": {
    "collapsed": false
   },
   "outputs": [
    {
     "data": {
      "text/plain": [
       "6108"
      ]
     },
     "execution_count": 11,
     "metadata": {},
     "output_type": "execute_result"
    }
   ],
   "source": [
    "sum(Y < 10000)"
   ]
  },
  {
   "cell_type": "markdown",
   "metadata": {},
   "source": [
    "### There are quite a few observations where the home is valued at less than $10,000. I first want to see if these have any predictive power or if they are errors. Since extremely low prices are quite low in proportion to the total dataset I am undersampling the larger class."
   ]
  },
  {
   "cell_type": "code",
   "execution_count": 12,
   "metadata": {
    "collapsed": false
   },
   "outputs": [
    {
     "name": "stdout",
     "output_type": "stream",
     "text": [
      "CPU times: user 670 ms, sys: 112 ms, total: 782 ms\n",
      "Wall time: 840 ms\n"
     ]
    }
   ],
   "source": [
    "%%time\n",
    "#split into test and train\n",
    "X_train, X_test, y_train, y_test = train_test_split(X, Y, test_size = 0.3, random_state = 4)\n",
    "#the random state here is chosen explicitly so that the code is reproducible"
   ]
  },
  {
   "cell_type": "code",
   "execution_count": 13,
   "metadata": {
    "collapsed": false
   },
   "outputs": [],
   "source": [
    "ythis = Y[Y < 10000].copy()\n",
    "ythis = pd.concat([ythis, y_train[y_train >= 10000].head(len(ythis)).copy()])\n",
    "ythis[ythis < 10000] = 1\n",
    "ythis[ythis > 1] = 0\n",
    "\n",
    "xthis = X.loc[ythis.index, :]"
   ]
  },
  {
   "cell_type": "code",
   "execution_count": 14,
   "metadata": {
    "collapsed": false
   },
   "outputs": [],
   "source": [
    "xtrainthis, xtestthis, ytrainthis, ytestthis= train_test_split(xthis,\n",
    "                                                               ythis,\n",
    "                                                               test_size = .3,\n",
    "                                                               random_state=4)"
   ]
  },
  {
   "cell_type": "code",
   "execution_count": 15,
   "metadata": {
    "collapsed": false
   },
   "outputs": [
    {
     "name": "stdout",
     "output_type": "stream",
     "text": [
      "CPU times: user 1.45 s, sys: 29.8 ms, total: 1.48 s\n",
      "Wall time: 894 ms\n"
     ]
    }
   ],
   "source": [
    "%%time\n",
    "\n",
    "clf = RandomForestClassifier(n_estimators = 50, n_jobs = -1)\n",
    "clf.fit(xtrainthis, ytrainthis)"
   ]
  },
  {
   "cell_type": "code",
   "execution_count": 16,
   "metadata": {
    "collapsed": false,
    "scrolled": false
   },
   "outputs": [
    {
     "name": "stdout",
     "output_type": "stream",
     "text": [
      "CPU times: user 65.8 ms, sys: 8.08 ms, total: 73.9 ms\n",
      "Wall time: 120 ms\n"
     ]
    },
    {
     "data": {
      "text/plain": [
       "0.90013642564802188"
      ]
     },
     "execution_count": 16,
     "metadata": {},
     "output_type": "execute_result"
    }
   ],
   "source": [
    "%%time\n",
    "clf.score(xtestthis, ytestthis)"
   ]
  },
  {
   "cell_type": "markdown",
   "metadata": {},
   "source": [
    "### Apparently there is a relatively large level of predictability with the extremely low priced homes. Let's look at how well we can predict low (<\\$100,000), medium (\\$100,000-\\$500,000), and high (>\\$500,000) priced homes."
   ]
  },
  {
   "cell_type": "code",
   "execution_count": 17,
   "metadata": {
    "collapsed": false
   },
   "outputs": [
    {
     "data": {
      "text/plain": [
       "0.28621535442727497"
      ]
     },
     "execution_count": 17,
     "metadata": {},
     "output_type": "execute_result"
    }
   ],
   "source": [
    "sum(Y < 100000)/len(Y)"
   ]
  },
  {
   "cell_type": "code",
   "execution_count": 18,
   "metadata": {
    "collapsed": false
   },
   "outputs": [],
   "source": [
    "ythis = Y[Y < 100000].copy()\n",
    "ythis = pd.concat([ythis, y_train[y_train >= 100000].head(len(ythis)).copy()])\n",
    "ythis[ythis < 100000] = 1\n",
    "ythis[ythis > 1] = 0\n",
    "\n",
    "xthis = X.loc[ythis.index, :]"
   ]
  },
  {
   "cell_type": "code",
   "execution_count": 19,
   "metadata": {
    "collapsed": false
   },
   "outputs": [],
   "source": [
    "xtrainthis, xtestthis, ytrainthis, ytestthis= train_test_split(xthis,\n",
    "                                                               ythis,\n",
    "                                                               test_size = .3,\n",
    "                                                               random_state=4)"
   ]
  },
  {
   "cell_type": "code",
   "execution_count": 20,
   "metadata": {
    "collapsed": false
   },
   "outputs": [
    {
     "name": "stdout",
     "output_type": "stream",
     "text": [
      "CPU times: user 57.7 s, sys: 898 ms, total: 58.6 s\n",
      "Wall time: 31.8 s\n"
     ]
    }
   ],
   "source": [
    "%%time\n",
    "\n",
    "clf = RandomForestClassifier(n_estimators = 50, n_jobs = -1)\n",
    "clf.fit(xtrainthis, ytrainthis)"
   ]
  },
  {
   "cell_type": "code",
   "execution_count": 21,
   "metadata": {
    "collapsed": false,
    "scrolled": true
   },
   "outputs": [
    {
     "name": "stdout",
     "output_type": "stream",
     "text": [
      "CPU times: user 1.84 s, sys: 116 ms, total: 1.95 s\n",
      "Wall time: 1.2 s\n"
     ]
    },
    {
     "data": {
      "text/plain": [
       "0.80998086097066302"
      ]
     },
     "execution_count": 21,
     "metadata": {},
     "output_type": "execute_result"
    }
   ],
   "source": [
    "%%time\n",
    "clf.score(xtestthis, ytestthis)"
   ]
  },
  {
   "cell_type": "markdown",
   "metadata": {},
   "source": [
    "The majority of the homes are between \\$100,000 and \\$500,000. We will not want to undersample here."
   ]
  },
  {
   "cell_type": "code",
   "execution_count": 22,
   "metadata": {
    "collapsed": false
   },
   "outputs": [
    {
     "data": {
      "text/plain": [
       "0.60302918812852591"
      ]
     },
     "execution_count": 22,
     "metadata": {},
     "output_type": "execute_result"
    }
   ],
   "source": [
    "sum((Y>=100000) & (Y<500000))/len(Y)"
   ]
  },
  {
   "cell_type": "code",
   "execution_count": 23,
   "metadata": {
    "collapsed": false
   },
   "outputs": [],
   "source": [
    "ythis = Y.copy()\n",
    "ythis[(ythis>=100000) & (ythis<500000)] = 1\n",
    "ythis[ythis > 1] = 0\n",
    "\n",
    "xthis = X.loc[ythis.index, :]"
   ]
  },
  {
   "cell_type": "code",
   "execution_count": 24,
   "metadata": {
    "collapsed": false
   },
   "outputs": [],
   "source": [
    "xtrainthis, xtestthis, ytrainthis, ytestthis= train_test_split(xthis,\n",
    "                                                               ythis,\n",
    "                                                               test_size = .3,\n",
    "                                                               random_state=4)"
   ]
  },
  {
   "cell_type": "code",
   "execution_count": 25,
   "metadata": {
    "collapsed": false
   },
   "outputs": [
    {
     "name": "stdout",
     "output_type": "stream",
     "text": [
      "CPU times: user 2min 27s, sys: 1.97 s, total: 2min 29s\n",
      "Wall time: 1min 20s\n"
     ]
    }
   ],
   "source": [
    "%%time\n",
    "\n",
    "clf = RandomForestClassifier(n_estimators = 50, n_jobs = -1)\n",
    "clf.fit(xtrainthis, ytrainthis)"
   ]
  },
  {
   "cell_type": "code",
   "execution_count": 26,
   "metadata": {
    "collapsed": false,
    "scrolled": false
   },
   "outputs": [
    {
     "name": "stdout",
     "output_type": "stream",
     "text": [
      "CPU times: user 5.1 s, sys: 231 ms, total: 5.33 s\n",
      "Wall time: 3.12 s\n"
     ]
    },
    {
     "data": {
      "text/plain": [
       "0.74539285422287627"
      ]
     },
     "execution_count": 26,
     "metadata": {},
     "output_type": "execute_result"
    }
   ],
   "source": [
    "%%time\n",
    "clf.score(xtestthis, ytestthis)"
   ]
  },
  {
   "cell_type": "code",
   "execution_count": 27,
   "metadata": {
    "collapsed": false
   },
   "outputs": [
    {
     "data": {
      "text/plain": [
       "0.11075545744419917"
      ]
     },
     "execution_count": 27,
     "metadata": {},
     "output_type": "execute_result"
    }
   ],
   "source": [
    "sum(Y >= 500000)/len(Y)"
   ]
  },
  {
   "cell_type": "code",
   "execution_count": 28,
   "metadata": {
    "collapsed": false
   },
   "outputs": [],
   "source": [
    "ythis = Y[Y >= 500000].copy()\n",
    "ythis = pd.concat([ythis, y_train[y_train < 500000].head(len(ythis)).copy()])\n",
    "ythis[ythis >= 500000] = 1\n",
    "ythis[ythis > 1] = 0\n",
    "\n",
    "xthis = X.loc[ythis.index, :]"
   ]
  },
  {
   "cell_type": "code",
   "execution_count": 29,
   "metadata": {
    "collapsed": false
   },
   "outputs": [],
   "source": [
    "xtrainthis, xtestthis, ytrainthis, ytestthis= train_test_split(xthis,\n",
    "                                                               ythis,\n",
    "                                                               test_size = .3,\n",
    "                                                               random_state=4)"
   ]
  },
  {
   "cell_type": "code",
   "execution_count": 30,
   "metadata": {
    "collapsed": false
   },
   "outputs": [
    {
     "name": "stdout",
     "output_type": "stream",
     "text": [
      "CPU times: user 17.3 s, sys: 419 ms, total: 17.7 s\n",
      "Wall time: 9.64 s\n"
     ]
    }
   ],
   "source": [
    "%%time\n",
    "\n",
    "clf = RandomForestClassifier(n_estimators = 50, n_jobs = -1)\n",
    "clf.fit(xtrainthis, ytrainthis)"
   ]
  },
  {
   "cell_type": "code",
   "execution_count": 31,
   "metadata": {
    "collapsed": false,
    "scrolled": false
   },
   "outputs": [
    {
     "name": "stdout",
     "output_type": "stream",
     "text": [
      "CPU times: user 579 ms, sys: 44.4 ms, total: 624 ms\n",
      "Wall time: 436 ms\n"
     ]
    },
    {
     "data": {
      "text/plain": [
       "0.83110028420625259"
      ]
     },
     "execution_count": 31,
     "metadata": {},
     "output_type": "execute_result"
    }
   ],
   "source": [
    "%%time\n",
    "clf.score(xtestthis, ytestthis)"
   ]
  },
  {
   "cell_type": "code",
   "execution_count": 32,
   "metadata": {
    "collapsed": true
   },
   "outputs": [],
   "source": [
    "from sklearn.ensemble import RandomForestRegressor"
   ]
  },
  {
   "cell_type": "code",
   "execution_count": 33,
   "metadata": {
    "collapsed": false
   },
   "outputs": [
    {
     "name": "stdout",
     "output_type": "stream",
     "text": [
      "CPU times: user 8min 37s, sys: 5.72 s, total: 8min 42s\n",
      "Wall time: 5min 33s\n"
     ]
    }
   ],
   "source": [
    "%%time\n",
    "\n",
    "reg = RandomForestRegressor(n_estimators=50, n_jobs = -1)\n",
    "reg.fit(X_train, y_train)"
   ]
  },
  {
   "cell_type": "code",
   "execution_count": 34,
   "metadata": {
    "collapsed": false
   },
   "outputs": [
    {
     "name": "stdout",
     "output_type": "stream",
     "text": [
      "Train score: 0.916940514293\n",
      "Test score: 0.402066828148\n",
      "CPU times: user 24.5 s, sys: 3.43 s, total: 27.9 s\n",
      "Wall time: 31.5 s\n"
     ]
    }
   ],
   "source": [
    "%%time\n",
    "print(\"Train score:\", reg.score(X_train, y_train))\n",
    "print(\"Test score:\", reg.score(X_test, y_test))"
   ]
  },
  {
   "cell_type": "markdown",
   "metadata": {},
   "source": [
    "### This regressor is incredibly overfit. Further work is necessary to get a less overfitted model."
   ]
  },
  {
   "cell_type": "code",
   "execution_count": null,
   "metadata": {
    "collapsed": true
   },
   "outputs": [],
   "source": []
  }
 ],
 "metadata": {
  "kernelspec": {
   "display_name": "Python [default]",
   "language": "python",
   "name": "python3"
  },
  "language_info": {
   "codemirror_mode": {
    "name": "ipython",
    "version": 3
   },
   "file_extension": ".py",
   "mimetype": "text/x-python",
   "name": "python",
   "nbconvert_exporter": "python",
   "pygments_lexer": "ipython3",
   "version": "3.6.0"
  }
 },
 "nbformat": 4,
 "nbformat_minor": 2
}
