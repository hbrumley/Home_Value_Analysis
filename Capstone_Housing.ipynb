{
 "cells": [
  {
   "cell_type": "markdown",
   "metadata": {},
   "source": [
    "# Introduction: PUMS home value analysis\n",
    "\n",
    "I am analyzing the 2011-2015 PUMS housing data, found [here](https://www.census.gov/programs-surveys/acs/data/pums.html). The data dictionary which explains the meaning of each column and the values contained within is available [here.](https://www.census.gov/programs-surveys/acs/technical-documentation/pums/documentation.2015.html) I want to find an algorithm that can predict the value of the home.\n",
    "\n",
    "## Part I: Importing the data\n",
    "\n",
    "We will start by importing some libraries very useful for machine learning including pandas and scikit-learn. It will be helpful to change the column names to be more readable. I have chosen to use data from two states with very low populations (North Dakota and Wyoming) and two states with very high populations (New York and Texas) to get a fairly diverse dataset."
   ]
  },
  {
   "cell_type": "code",
   "execution_count": 1,
   "metadata": {
    "collapsed": true
   },
   "outputs": [],
   "source": [
    "import pandas as pd\n",
    "import numpy as np\n",
    "import matplotlib.pyplot as plt\n",
    "from sklearn import preprocessing\n",
    "from sklearn import model_selection\n",
    "from sklearn import linear_model\n",
    "from sklearn.ensemble import RandomForestClassifier\n",
    "from sklearn.ensemble import RandomForestRegressor"
   ]
  },
  {
   "cell_type": "code",
   "execution_count": 2,
   "metadata": {
    "collapsed": false,
    "scrolled": true
   },
   "outputs": [],
   "source": [
    "dat = pd.concat([pd.read_csv('ss15hnd.csv'), pd.read_csv('ss15hny.csv'),\n",
    "                 pd.read_csv('ss15hwy.csv'),\n",
    "                 pd.read_csv('ss15htx.csv')], ignore_index = True)\n",
    "dat.rename(columns = {\"insp\": \"INSP\"}, inplace = True)"
   ]
  },
  {
   "cell_type": "code",
   "execution_count": 3,
   "metadata": {
    "collapsed": false,
    "scrolled": false
   },
   "outputs": [
    {
     "name": "stderr",
     "output_type": "stream",
     "text": [
      "/Users/hunter/anaconda/lib/python3.6/site-packages/ipykernel/__main__.py:12: SettingWithCopyWarning: \n",
      "A value is trying to be set on a copy of a slice from a DataFrame\n",
      "\n",
      "See the caveats in the documentation: http://pandas.pydata.org/pandas-docs/stable/indexing.html#indexing-view-versus-copy\n"
     ]
    },
    {
     "data": {
      "text/html": [
       "<div>\n",
       "<style scoped>\n",
       "    .dataframe tbody tr th:only-of-type {\n",
       "        vertical-align: middle;\n",
       "    }\n",
       "\n",
       "    .dataframe tbody tr th {\n",
       "        vertical-align: top;\n",
       "    }\n",
       "\n",
       "    .dataframe thead th {\n",
       "        text-align: right;\n",
       "    }\n",
       "</style>\n",
       "<table border=\"1\" class=\"dataframe\">\n",
       "  <thead>\n",
       "    <tr style=\"text-align: right;\">\n",
       "      <th></th>\n",
       "      <th>State</th>\n",
       "      <th>Num_People</th>\n",
       "      <th>Lot_Size</th>\n",
       "      <th>Has_Bathtub</th>\n",
       "      <th>Num_Bedrooms</th>\n",
       "      <th>Monthly_Electric</th>\n",
       "      <th>Monthly_Gas</th>\n",
       "      <th>Yearly_Insurance_Cost</th>\n",
       "      <th>Num_Rooms</th>\n",
       "      <th>Has_Hot_Water</th>\n",
       "      <th>Has_Sink</th>\n",
       "      <th>Price</th>\n",
       "      <th>Num_Vehicles</th>\n",
       "      <th>Yearly_Water</th>\n",
       "      <th>Year_Built</th>\n",
       "      <th>Household_Income</th>\n",
       "    </tr>\n",
       "  </thead>\n",
       "  <tbody>\n",
       "    <tr>\n",
       "      <th>count</th>\n",
       "      <td>533806.000000</td>\n",
       "      <td>533806.000000</td>\n",
       "      <td>533806.000000</td>\n",
       "      <td>533806.000000</td>\n",
       "      <td>533806.000000</td>\n",
       "      <td>533806.000000</td>\n",
       "      <td>533806.000000</td>\n",
       "      <td>533806.000000</td>\n",
       "      <td>533806.000000</td>\n",
       "      <td>533806.000000</td>\n",
       "      <td>533806.000000</td>\n",
       "      <td>5.338060e+05</td>\n",
       "      <td>533806.000000</td>\n",
       "      <td>533806.000000</td>\n",
       "      <td>533806.000000</td>\n",
       "      <td>5.338060e+05</td>\n",
       "    </tr>\n",
       "    <tr>\n",
       "      <th>mean</th>\n",
       "      <td>43.506506</td>\n",
       "      <td>2.642762</td>\n",
       "      <td>1.293528</td>\n",
       "      <td>1.001973</td>\n",
       "      <td>3.209711</td>\n",
       "      <td>173.745224</td>\n",
       "      <td>57.339342</td>\n",
       "      <td>1072.360419</td>\n",
       "      <td>6.774317</td>\n",
       "      <td>1.002823</td>\n",
       "      <td>1.001907</td>\n",
       "      <td>2.370636e+05</td>\n",
       "      <td>2.032564</td>\n",
       "      <td>526.212000</td>\n",
       "      <td>5.122936</td>\n",
       "      <td>9.340733e+04</td>\n",
       "    </tr>\n",
       "    <tr>\n",
       "      <th>std</th>\n",
       "      <td>5.993857</td>\n",
       "      <td>1.461454</td>\n",
       "      <td>0.566703</td>\n",
       "      <td>0.044370</td>\n",
       "      <td>0.940672</td>\n",
       "      <td>105.178184</td>\n",
       "      <td>81.880871</td>\n",
       "      <td>1030.062644</td>\n",
       "      <td>2.223480</td>\n",
       "      <td>0.053058</td>\n",
       "      <td>0.043628</td>\n",
       "      <td>3.416026e+05</td>\n",
       "      <td>1.005941</td>\n",
       "      <td>558.325665</td>\n",
       "      <td>3.057706</td>\n",
       "      <td>9.722710e+04</td>\n",
       "    </tr>\n",
       "    <tr>\n",
       "      <th>min</th>\n",
       "      <td>36.000000</td>\n",
       "      <td>1.000000</td>\n",
       "      <td>1.000000</td>\n",
       "      <td>1.000000</td>\n",
       "      <td>0.000000</td>\n",
       "      <td>1.000000</td>\n",
       "      <td>1.000000</td>\n",
       "      <td>0.000000</td>\n",
       "      <td>1.000000</td>\n",
       "      <td>1.000000</td>\n",
       "      <td>1.000000</td>\n",
       "      <td>1.000000e+02</td>\n",
       "      <td>0.000000</td>\n",
       "      <td>1.000000</td>\n",
       "      <td>1.000000</td>\n",
       "      <td>-1.680000e+04</td>\n",
       "    </tr>\n",
       "    <tr>\n",
       "      <th>25%</th>\n",
       "      <td>36.000000</td>\n",
       "      <td>2.000000</td>\n",
       "      <td>1.000000</td>\n",
       "      <td>1.000000</td>\n",
       "      <td>3.000000</td>\n",
       "      <td>100.000000</td>\n",
       "      <td>3.000000</td>\n",
       "      <td>450.000000</td>\n",
       "      <td>5.000000</td>\n",
       "      <td>1.000000</td>\n",
       "      <td>1.000000</td>\n",
       "      <td>8.000000e+04</td>\n",
       "      <td>1.000000</td>\n",
       "      <td>70.000000</td>\n",
       "      <td>3.000000</td>\n",
       "      <td>3.670000e+04</td>\n",
       "    </tr>\n",
       "    <tr>\n",
       "      <th>50%</th>\n",
       "      <td>48.000000</td>\n",
       "      <td>2.000000</td>\n",
       "      <td>1.000000</td>\n",
       "      <td>1.000000</td>\n",
       "      <td>3.000000</td>\n",
       "      <td>150.000000</td>\n",
       "      <td>30.000000</td>\n",
       "      <td>900.000000</td>\n",
       "      <td>6.000000</td>\n",
       "      <td>1.000000</td>\n",
       "      <td>1.000000</td>\n",
       "      <td>1.500000e+05</td>\n",
       "      <td>2.000000</td>\n",
       "      <td>400.000000</td>\n",
       "      <td>5.000000</td>\n",
       "      <td>6.900000e+04</td>\n",
       "    </tr>\n",
       "    <tr>\n",
       "      <th>75%</th>\n",
       "      <td>48.000000</td>\n",
       "      <td>4.000000</td>\n",
       "      <td>1.000000</td>\n",
       "      <td>1.000000</td>\n",
       "      <td>4.000000</td>\n",
       "      <td>230.000000</td>\n",
       "      <td>80.000000</td>\n",
       "      <td>1400.000000</td>\n",
       "      <td>8.000000</td>\n",
       "      <td>1.000000</td>\n",
       "      <td>1.000000</td>\n",
       "      <td>2.800000e+05</td>\n",
       "      <td>3.000000</td>\n",
       "      <td>800.000000</td>\n",
       "      <td>7.000000</td>\n",
       "      <td>1.150200e+05</td>\n",
       "    </tr>\n",
       "    <tr>\n",
       "      <th>max</th>\n",
       "      <td>56.000000</td>\n",
       "      <td>20.000000</td>\n",
       "      <td>3.000000</td>\n",
       "      <td>2.000000</td>\n",
       "      <td>12.000000</td>\n",
       "      <td>650.000000</td>\n",
       "      <td>570.000000</td>\n",
       "      <td>8100.000000</td>\n",
       "      <td>22.000000</td>\n",
       "      <td>2.000000</td>\n",
       "      <td>2.000000</td>\n",
       "      <td>5.216000e+06</td>\n",
       "      <td>6.000000</td>\n",
       "      <td>3600.000000</td>\n",
       "      <td>19.000000</td>\n",
       "      <td>2.090000e+06</td>\n",
       "    </tr>\n",
       "  </tbody>\n",
       "</table>\n",
       "</div>"
      ],
      "text/plain": [
       "               State     Num_People       Lot_Size    Has_Bathtub  \\\n",
       "count  533806.000000  533806.000000  533806.000000  533806.000000   \n",
       "mean       43.506506       2.642762       1.293528       1.001973   \n",
       "std         5.993857       1.461454       0.566703       0.044370   \n",
       "min        36.000000       1.000000       1.000000       1.000000   \n",
       "25%        36.000000       2.000000       1.000000       1.000000   \n",
       "50%        48.000000       2.000000       1.000000       1.000000   \n",
       "75%        48.000000       4.000000       1.000000       1.000000   \n",
       "max        56.000000      20.000000       3.000000       2.000000   \n",
       "\n",
       "        Num_Bedrooms  Monthly_Electric    Monthly_Gas  Yearly_Insurance_Cost  \\\n",
       "count  533806.000000     533806.000000  533806.000000          533806.000000   \n",
       "mean        3.209711        173.745224      57.339342            1072.360419   \n",
       "std         0.940672        105.178184      81.880871            1030.062644   \n",
       "min         0.000000          1.000000       1.000000               0.000000   \n",
       "25%         3.000000        100.000000       3.000000             450.000000   \n",
       "50%         3.000000        150.000000      30.000000             900.000000   \n",
       "75%         4.000000        230.000000      80.000000            1400.000000   \n",
       "max        12.000000        650.000000     570.000000            8100.000000   \n",
       "\n",
       "           Num_Rooms  Has_Hot_Water       Has_Sink         Price  \\\n",
       "count  533806.000000  533806.000000  533806.000000  5.338060e+05   \n",
       "mean        6.774317       1.002823       1.001907  2.370636e+05   \n",
       "std         2.223480       0.053058       0.043628  3.416026e+05   \n",
       "min         1.000000       1.000000       1.000000  1.000000e+02   \n",
       "25%         5.000000       1.000000       1.000000  8.000000e+04   \n",
       "50%         6.000000       1.000000       1.000000  1.500000e+05   \n",
       "75%         8.000000       1.000000       1.000000  2.800000e+05   \n",
       "max        22.000000       2.000000       2.000000  5.216000e+06   \n",
       "\n",
       "        Num_Vehicles   Yearly_Water     Year_Built  Household_Income  \n",
       "count  533806.000000  533806.000000  533806.000000      5.338060e+05  \n",
       "mean        2.032564     526.212000       5.122936      9.340733e+04  \n",
       "std         1.005941     558.325665       3.057706      9.722710e+04  \n",
       "min         0.000000       1.000000       1.000000     -1.680000e+04  \n",
       "25%         1.000000      70.000000       3.000000      3.670000e+04  \n",
       "50%         2.000000     400.000000       5.000000      6.900000e+04  \n",
       "75%         3.000000     800.000000       7.000000      1.150200e+05  \n",
       "max         6.000000    3600.000000      19.000000      2.090000e+06  "
      ]
     },
     "execution_count": 3,
     "metadata": {},
     "output_type": "execute_result"
    }
   ],
   "source": [
    "colnames = [\"ST\", \"NP\", \"ACR\", \"BATH\", \"BDSP\", \"ELEP\", \"GASP\", \"INSP\",\n",
    "              \"RMSP\", \"RWAT\", \"SINK\", \"VALP\", \"VEH\", \"WATP\", \"YBL\", \"HINCP\"]\n",
    "readable_names = [\"State\", \"Num_People\", \"Lot_Size\", \"Has_Bathtub\", \"Num_Bedrooms\",\n",
    "                  \"Monthly_Electric\", \"Monthly_Gas\", \"Yearly_Insurance_Cost\", \"Num_Rooms\",\n",
    "                  \"Has_Hot_Water\", \"Has_Sink\", \"Price\", \"Num_Vehicles\",\n",
    "                  \"Yearly_Water\", \"Year_Built\", \"Household_Income\"]\n",
    "\n",
    "cols = dat[colnames]\n",
    "\n",
    "cols.columns = readable_names\n",
    "\n",
    "cols.dropna(inplace = True)\n",
    "cols.describe()"
   ]
  },
  {
   "cell_type": "markdown",
   "metadata": {},
   "source": [
    "## Part II: Data Wrangling\n",
    "\n",
    "We now have 16 features and a target column (\"Price\") with just over 400,000 observations. We will need to clean the data a little further. The next cell will separate the state column into four columns representing each state a method for representing categorical variables known as one-hot encoding."
   ]
  },
  {
   "cell_type": "code",
   "execution_count": 4,
   "metadata": {
    "collapsed": false
   },
   "outputs": [],
   "source": [
    "cols = pd.get_dummies(cols, columns = [\"State\"])\n",
    "readable_names = readable_names[1:]\n",
    "states =[\"NY\", \"ND\", \"TX\", \"WY\"]\n",
    "readable_names.extend(states)\n",
    "cols.columns = readable_names"
   ]
  },
  {
   "cell_type": "markdown",
   "metadata": {},
   "source": [
    "The documentation tells us that some of the values in the year built column correspond to a year and some of them a range of years. We want to change it to the age of the house in years since it is a more reasonable range to work with. For values corresponding to a range I have put the age in the midpoint of the range."
   ]
  },
  {
   "cell_type": "code",
   "execution_count": 5,
   "metadata": {
    "collapsed": false,
    "scrolled": true
   },
   "outputs": [
    {
     "name": "stderr",
     "output_type": "stream",
     "text": [
      "/Users/hunter/anaconda/lib/python3.6/site-packages/pandas/core/indexing.py:194: SettingWithCopyWarning: \n",
      "A value is trying to be set on a copy of a slice from a DataFrame\n",
      "\n",
      "See the caveats in the documentation: http://pandas.pydata.org/pandas-docs/stable/indexing.html#indexing-view-versus-copy\n",
      "  self._setitem_with_indexer(indexer, value)\n"
     ]
    },
    {
     "data": {
      "text/plain": [
       "0     60.0\n",
       "5     40.0\n",
       "12    60.0\n",
       "13    30.0\n",
       "15    90.0\n",
       "Name: Year_Built, dtype: float64"
      ]
     },
     "execution_count": 5,
     "metadata": {},
     "output_type": "execute_result"
    }
   ],
   "source": [
    "ybl = cols.Year_Built\n",
    "\n",
    "ybl.loc[ybl == 1.0] = 90\n",
    "ybl.loc[ybl == 2.0] = 70\n",
    "ybl.loc[ybl == 3.0] = 60\n",
    "ybl.loc[ybl == 4.0] = 50\n",
    "ybl.loc[ybl == 5.0] = 40\n",
    "ybl.loc[ybl == 6.0] = 30\n",
    "ybl.loc[ybl == 7.0] = 20\n",
    "ybl.loc[ybl == 8.0] = 13\n",
    "ybl.loc[ybl == 9.0] = 10\n",
    "ybl.loc[ybl == 10.0] = 9\n",
    "ybl.loc[ybl == 11.0] = 8\n",
    "ybl.loc[ybl == 12.0] = 7\n",
    "ybl.loc[ybl == 13.0] = 6\n",
    "ybl.loc[ybl == 14.0] = 5\n",
    "ybl.loc[ybl == 15.0] = 4\n",
    "ybl.loc[ybl == 16.0] = 3\n",
    "ybl.loc[ybl == 17.0] = 2\n",
    "ybl.loc[ybl == 18.0] = 1\n",
    "ybl.loc[ybl == 19.0] = 0\n",
    "ybl.head()"
   ]
  },
  {
   "cell_type": "code",
   "execution_count": 6,
   "metadata": {
    "collapsed": false
   },
   "outputs": [],
   "source": [
    "cols.rename(columns={\"Year_Built\":\"Age\"}, inplace = True)"
   ]
  },
  {
   "cell_type": "markdown",
   "metadata": {},
   "source": [
    "The columns 'ADJHSG' and 'ADJINC' in the original dataset adjust monetary values in each record for inflation. We will want to adjust the data accordingly so that each record is given in 2015 dollars."
   ]
  },
  {
   "cell_type": "code",
   "execution_count": 7,
   "metadata": {
    "collapsed": false
   },
   "outputs": [],
   "source": [
    "for col in [\"Monthly_Electric\", \"Monthly_Gas\", \"Yearly_Insurance_Cost\", \"Yearly_Water\"]:\n",
    "    cols.loc[:,col] *= dat.loc[cols.index, 'ADJHSG'] * 10**-6\n",
    "    \n",
    "cols.Household_Income *= dat.loc[cols.index, 'ADJINC'] * 10**-6"
   ]
  },
  {
   "cell_type": "markdown",
   "metadata": {},
   "source": [
    "Next we will add a column to flag whether or not the home is a mobile home."
   ]
  },
  {
   "cell_type": "code",
   "execution_count": 8,
   "metadata": {
    "collapsed": true
   },
   "outputs": [],
   "source": [
    "cols['Mobile_Home'] = pd.Series(dat.BLD == 1, dtype = 'int')"
   ]
  },
  {
   "cell_type": "markdown",
   "metadata": {},
   "source": [
    "## Part III: Exploratory Analysis and Regression Pass 1\n",
    "\n",
    "Many machine learning algorithms are improved by normalizing the input data. scikit-learn has a handy function to do this. First we will want to separate the features from our target column."
   ]
  },
  {
   "cell_type": "code",
   "execution_count": 9,
   "metadata": {
    "collapsed": false
   },
   "outputs": [],
   "source": [
    "cols.reset_index(drop=True, inplace=True)\n",
    "Y = cols.Price\n",
    "X_names = [c for c in cols.columns if c != \"Price\"]\n",
    "X = cols[X_names]"
   ]
  },
  {
   "cell_type": "code",
   "execution_count": 10,
   "metadata": {
    "collapsed": false,
    "scrolled": true
   },
   "outputs": [
    {
     "data": {
      "text/html": [
       "<div>\n",
       "<style scoped>\n",
       "    .dataframe tbody tr th:only-of-type {\n",
       "        vertical-align: middle;\n",
       "    }\n",
       "\n",
       "    .dataframe tbody tr th {\n",
       "        vertical-align: top;\n",
       "    }\n",
       "\n",
       "    .dataframe thead th {\n",
       "        text-align: right;\n",
       "    }\n",
       "</style>\n",
       "<table border=\"1\" class=\"dataframe\">\n",
       "  <thead>\n",
       "    <tr style=\"text-align: right;\">\n",
       "      <th></th>\n",
       "      <th>Num_People</th>\n",
       "      <th>Lot_Size</th>\n",
       "      <th>Has_Bathtub</th>\n",
       "      <th>Num_Bedrooms</th>\n",
       "      <th>Monthly_Electric</th>\n",
       "      <th>Monthly_Gas</th>\n",
       "      <th>Yearly_Insurance_Cost</th>\n",
       "      <th>Num_Rooms</th>\n",
       "      <th>Has_Hot_Water</th>\n",
       "      <th>Has_Sink</th>\n",
       "      <th>Num_Vehicles</th>\n",
       "      <th>Yearly_Water</th>\n",
       "      <th>Age</th>\n",
       "      <th>Household_Income</th>\n",
       "      <th>NY</th>\n",
       "      <th>ND</th>\n",
       "      <th>TX</th>\n",
       "      <th>WY</th>\n",
       "      <th>Mobile_Home</th>\n",
       "    </tr>\n",
       "  </thead>\n",
       "  <tbody>\n",
       "    <tr>\n",
       "      <th>count</th>\n",
       "      <td>533806.000000</td>\n",
       "      <td>533806.000000</td>\n",
       "      <td>533806.000000</td>\n",
       "      <td>533806.000000</td>\n",
       "      <td>533806.000000</td>\n",
       "      <td>533806.000000</td>\n",
       "      <td>533806.000000</td>\n",
       "      <td>533806.000000</td>\n",
       "      <td>533806.000000</td>\n",
       "      <td>533806.000000</td>\n",
       "      <td>533806.000000</td>\n",
       "      <td>533806.000000</td>\n",
       "      <td>533806.000000</td>\n",
       "      <td>533806.000000</td>\n",
       "      <td>533806.000000</td>\n",
       "      <td>533806.000000</td>\n",
       "      <td>533806.000000</td>\n",
       "      <td>533806.000000</td>\n",
       "      <td>533806.000000</td>\n",
       "    </tr>\n",
       "    <tr>\n",
       "      <th>mean</th>\n",
       "      <td>0.086461</td>\n",
       "      <td>0.146764</td>\n",
       "      <td>0.001973</td>\n",
       "      <td>0.267476</td>\n",
       "      <td>0.271672</td>\n",
       "      <td>0.101124</td>\n",
       "      <td>0.134827</td>\n",
       "      <td>0.274967</td>\n",
       "      <td>0.002823</td>\n",
       "      <td>0.001907</td>\n",
       "      <td>0.338761</td>\n",
       "      <td>0.141327</td>\n",
       "      <td>0.477740</td>\n",
       "      <td>0.052461</td>\n",
       "      <td>0.367679</td>\n",
       "      <td>0.021238</td>\n",
       "      <td>0.594705</td>\n",
       "      <td>0.016379</td>\n",
       "      <td>0.067195</td>\n",
       "    </tr>\n",
       "    <tr>\n",
       "      <th>std</th>\n",
       "      <td>0.076919</td>\n",
       "      <td>0.283352</td>\n",
       "      <td>0.044370</td>\n",
       "      <td>0.078389</td>\n",
       "      <td>0.165372</td>\n",
       "      <td>0.146936</td>\n",
       "      <td>0.129204</td>\n",
       "      <td>0.105880</td>\n",
       "      <td>0.053058</td>\n",
       "      <td>0.043628</td>\n",
       "      <td>0.167657</td>\n",
       "      <td>0.150205</td>\n",
       "      <td>0.294280</td>\n",
       "      <td>0.046167</td>\n",
       "      <td>0.482174</td>\n",
       "      <td>0.144177</td>\n",
       "      <td>0.490950</td>\n",
       "      <td>0.126927</td>\n",
       "      <td>0.250359</td>\n",
       "    </tr>\n",
       "    <tr>\n",
       "      <th>min</th>\n",
       "      <td>0.000000</td>\n",
       "      <td>0.000000</td>\n",
       "      <td>0.000000</td>\n",
       "      <td>0.000000</td>\n",
       "      <td>0.000000</td>\n",
       "      <td>0.000000</td>\n",
       "      <td>0.000000</td>\n",
       "      <td>0.000000</td>\n",
       "      <td>0.000000</td>\n",
       "      <td>0.000000</td>\n",
       "      <td>0.000000</td>\n",
       "      <td>0.000000</td>\n",
       "      <td>0.000000</td>\n",
       "      <td>0.000000</td>\n",
       "      <td>0.000000</td>\n",
       "      <td>0.000000</td>\n",
       "      <td>0.000000</td>\n",
       "      <td>0.000000</td>\n",
       "      <td>0.000000</td>\n",
       "    </tr>\n",
       "    <tr>\n",
       "      <th>25%</th>\n",
       "      <td>0.052632</td>\n",
       "      <td>0.000000</td>\n",
       "      <td>0.000000</td>\n",
       "      <td>0.250000</td>\n",
       "      <td>0.152720</td>\n",
       "      <td>0.003607</td>\n",
       "      <td>0.056012</td>\n",
       "      <td>0.190476</td>\n",
       "      <td>0.000000</td>\n",
       "      <td>0.000000</td>\n",
       "      <td>0.166667</td>\n",
       "      <td>0.019186</td>\n",
       "      <td>0.222222</td>\n",
       "      <td>0.025497</td>\n",
       "      <td>0.000000</td>\n",
       "      <td>0.000000</td>\n",
       "      <td>0.000000</td>\n",
       "      <td>0.000000</td>\n",
       "      <td>0.000000</td>\n",
       "    </tr>\n",
       "    <tr>\n",
       "      <th>50%</th>\n",
       "      <td>0.052632</td>\n",
       "      <td>0.000000</td>\n",
       "      <td>0.000000</td>\n",
       "      <td>0.250000</td>\n",
       "      <td>0.233637</td>\n",
       "      <td>0.051027</td>\n",
       "      <td>0.112929</td>\n",
       "      <td>0.238095</td>\n",
       "      <td>0.000000</td>\n",
       "      <td>0.000000</td>\n",
       "      <td>0.333333</td>\n",
       "      <td>0.108603</td>\n",
       "      <td>0.444444</td>\n",
       "      <td>0.040725</td>\n",
       "      <td>0.000000</td>\n",
       "      <td>0.000000</td>\n",
       "      <td>1.000000</td>\n",
       "      <td>0.000000</td>\n",
       "      <td>0.000000</td>\n",
       "    </tr>\n",
       "    <tr>\n",
       "      <th>75%</th>\n",
       "      <td>0.157895</td>\n",
       "      <td>0.000000</td>\n",
       "      <td>0.000000</td>\n",
       "      <td>0.333333</td>\n",
       "      <td>0.353258</td>\n",
       "      <td>0.139002</td>\n",
       "      <td>0.178220</td>\n",
       "      <td>0.333333</td>\n",
       "      <td>0.000000</td>\n",
       "      <td>0.000000</td>\n",
       "      <td>0.500000</td>\n",
       "      <td>0.214352</td>\n",
       "      <td>0.666667</td>\n",
       "      <td>0.063016</td>\n",
       "      <td>1.000000</td>\n",
       "      <td>0.000000</td>\n",
       "      <td>1.000000</td>\n",
       "      <td>0.000000</td>\n",
       "      <td>0.000000</td>\n",
       "    </tr>\n",
       "    <tr>\n",
       "      <th>max</th>\n",
       "      <td>1.000000</td>\n",
       "      <td>1.000000</td>\n",
       "      <td>1.000000</td>\n",
       "      <td>1.000000</td>\n",
       "      <td>1.000000</td>\n",
       "      <td>1.000000</td>\n",
       "      <td>1.000000</td>\n",
       "      <td>1.000000</td>\n",
       "      <td>1.000000</td>\n",
       "      <td>1.000000</td>\n",
       "      <td>1.000000</td>\n",
       "      <td>1.000000</td>\n",
       "      <td>1.000000</td>\n",
       "      <td>1.000000</td>\n",
       "      <td>1.000000</td>\n",
       "      <td>1.000000</td>\n",
       "      <td>1.000000</td>\n",
       "      <td>1.000000</td>\n",
       "      <td>1.000000</td>\n",
       "    </tr>\n",
       "  </tbody>\n",
       "</table>\n",
       "</div>"
      ],
      "text/plain": [
       "          Num_People       Lot_Size    Has_Bathtub   Num_Bedrooms  \\\n",
       "count  533806.000000  533806.000000  533806.000000  533806.000000   \n",
       "mean        0.086461       0.146764       0.001973       0.267476   \n",
       "std         0.076919       0.283352       0.044370       0.078389   \n",
       "min         0.000000       0.000000       0.000000       0.000000   \n",
       "25%         0.052632       0.000000       0.000000       0.250000   \n",
       "50%         0.052632       0.000000       0.000000       0.250000   \n",
       "75%         0.157895       0.000000       0.000000       0.333333   \n",
       "max         1.000000       1.000000       1.000000       1.000000   \n",
       "\n",
       "       Monthly_Electric    Monthly_Gas  Yearly_Insurance_Cost      Num_Rooms  \\\n",
       "count     533806.000000  533806.000000          533806.000000  533806.000000   \n",
       "mean           0.271672       0.101124               0.134827       0.274967   \n",
       "std            0.165372       0.146936               0.129204       0.105880   \n",
       "min            0.000000       0.000000               0.000000       0.000000   \n",
       "25%            0.152720       0.003607               0.056012       0.190476   \n",
       "50%            0.233637       0.051027               0.112929       0.238095   \n",
       "75%            0.353258       0.139002               0.178220       0.333333   \n",
       "max            1.000000       1.000000               1.000000       1.000000   \n",
       "\n",
       "       Has_Hot_Water       Has_Sink   Num_Vehicles   Yearly_Water  \\\n",
       "count  533806.000000  533806.000000  533806.000000  533806.000000   \n",
       "mean        0.002823       0.001907       0.338761       0.141327   \n",
       "std         0.053058       0.043628       0.167657       0.150205   \n",
       "min         0.000000       0.000000       0.000000       0.000000   \n",
       "25%         0.000000       0.000000       0.166667       0.019186   \n",
       "50%         0.000000       0.000000       0.333333       0.108603   \n",
       "75%         0.000000       0.000000       0.500000       0.214352   \n",
       "max         1.000000       1.000000       1.000000       1.000000   \n",
       "\n",
       "                 Age  Household_Income             NY             ND  \\\n",
       "count  533806.000000     533806.000000  533806.000000  533806.000000   \n",
       "mean        0.477740          0.052461       0.367679       0.021238   \n",
       "std         0.294280          0.046167       0.482174       0.144177   \n",
       "min         0.000000          0.000000       0.000000       0.000000   \n",
       "25%         0.222222          0.025497       0.000000       0.000000   \n",
       "50%         0.444444          0.040725       0.000000       0.000000   \n",
       "75%         0.666667          0.063016       1.000000       0.000000   \n",
       "max         1.000000          1.000000       1.000000       1.000000   \n",
       "\n",
       "                  TX             WY    Mobile_Home  \n",
       "count  533806.000000  533806.000000  533806.000000  \n",
       "mean        0.594705       0.016379       0.067195  \n",
       "std         0.490950       0.126927       0.250359  \n",
       "min         0.000000       0.000000       0.000000  \n",
       "25%         0.000000       0.000000       0.000000  \n",
       "50%         1.000000       0.000000       0.000000  \n",
       "75%         1.000000       0.000000       0.000000  \n",
       "max         1.000000       1.000000       1.000000  "
      ]
     },
     "execution_count": 10,
     "metadata": {},
     "output_type": "execute_result"
    }
   ],
   "source": [
    "X = pd.DataFrame(preprocessing.minmax_scale(X))\n",
    "X.columns = X_names\n",
    "X.describe()"
   ]
  },
  {
   "cell_type": "markdown",
   "metadata": {},
   "source": [
    "Let's split the data into training and testing sets and see how a simple linear regression performs to get a sense of how difficult this problem might be."
   ]
  },
  {
   "cell_type": "code",
   "execution_count": 12,
   "metadata": {
    "collapsed": false
   },
   "outputs": [],
   "source": [
    "#split into test and train\n",
    "ttsplit = model_selection.train_test_split\n",
    "X_train, X_test, y_train, y_test = ttsplit(X, Y, test_size = 0.3, random_state = 4)\n",
    "#the random state here is chosen explicitly so that the code is reproducible"
   ]
  },
  {
   "cell_type": "code",
   "execution_count": 13,
   "metadata": {
    "collapsed": false
   },
   "outputs": [
    {
     "name": "stdout",
     "output_type": "stream",
     "text": [
      "CPU times: user 994 ms, sys: 143 ms, total: 1.14 s\n",
      "Wall time: 2.19 s\n"
     ]
    }
   ],
   "source": [
    "%%time\n",
    "\n",
    "lm = linear_model.LinearRegression()\n",
    "lm.fit(X_train, y_train)"
   ]
  },
  {
   "cell_type": "code",
   "execution_count": 14,
   "metadata": {
    "collapsed": false
   },
   "outputs": [
    {
     "name": "stdout",
     "output_type": "stream",
     "text": [
      "CPU times: user 59.5 ms, sys: 5.64 ms, total: 65.1 ms\n",
      "Wall time: 91.4 ms\n"
     ]
    },
    {
     "data": {
      "text/plain": [
       "0.38254921583202128"
      ]
     },
     "execution_count": 14,
     "metadata": {},
     "output_type": "execute_result"
    }
   ],
   "source": [
    "%%time\n",
    "\n",
    "lm.score(X_test, y_test)"
   ]
  },
  {
   "cell_type": "markdown",
   "metadata": {},
   "source": [
    "The linear classifier is performing poorly, at less than 40% accurate. In order to see where the problem is, I want to see if there is some group of observations with poor predictability. We will partition the homes by price into extremely low priced (< 10,000 USD), low priced (10,000-99,999 USD), medium priced (100,000-499,999 USD), and high priced (> 500,000 USD)."
   ]
  },
  {
   "cell_type": "code",
   "execution_count": 16,
   "metadata": {
    "collapsed": false
   },
   "outputs": [
    {
     "data": {
      "image/png": "[encoded data removed]",
      "text/plain": [
       "<matplotlib.figure.Figure at 0x1060f18d0>"
      ]
     },
     "metadata": {},
     "output_type": "display_data"
    }
   ],
   "source": [
    "%matplotlib inline\n",
    "\n",
    "plt.hist(Y, bins=[100,10000,100000,500000,max(Y)])\n",
    "plt.xlabel(\"Price\")\n",
    "plt.ylabel(\"Number of Homes\")\n",
    "plt.xscale('log')"
   ]
  },
  {
   "cell_type": "markdown",
   "metadata": {},
   "source": [
    "The number of homes priced at less than $10,000 is significant, at almost 2 percent of the data (see next cell). I first want to see if these homes have any predictability or if they are possibly reported erroneously. Since set of extremely low prices is quite small in proportion to the total dataset I am undersampling the larger class."
   ]
  },
  {
   "cell_type": "code",
   "execution_count": 18,
   "metadata": {
    "collapsed": false
   },
   "outputs": [
    {
     "data": {
      "text/plain": [
       "0.017779867592346284"
      ]
     },
     "execution_count": 18,
     "metadata": {},
     "output_type": "execute_result"
    }
   ],
   "source": [
    "sum(Y < 10000)/len(Y)"
   ]
  },
  {
   "cell_type": "code",
   "execution_count": 19,
   "metadata": {
    "collapsed": false
   },
   "outputs": [
    {
     "data": {
      "text/plain": [
       "0.91360842844600532"
      ]
     },
     "execution_count": 19,
     "metadata": {},
     "output_type": "execute_result"
    }
   ],
   "source": [
    "ythis = Y[Y < 10000].copy()\n",
    "ythis = pd.concat([ythis, y_train[y_train >= 10000].head(len(ythis)).copy()])\n",
    "ythis[ythis < 10000] = 1\n",
    "ythis[ythis > 1] = 0\n",
    "\n",
    "xthis = X.loc[ythis.index, :]\n",
    "\n",
    "#train/test split\n",
    "xtrainthis, xtestthis, ytrainthis, ytestthis= ttsplit(xthis,\n",
    "                                                      ythis,\n",
    "                                                      test_size = .3,\n",
    "                                                      random_state=4)\n",
    "clf = RandomForestClassifier(n_estimators = 50, n_jobs = -1)\n",
    "clf.fit(xtrainthis, ytrainthis)\n",
    "clf.score(xtestthis, ytestthis)"
   ]
  },
  {
   "cell_type": "code",
   "execution_count": 20,
   "metadata": {
    "collapsed": false
   },
   "outputs": [
    {
     "data": {
      "text/html": [
       "<div>\n",
       "<style scoped>\n",
       "    .dataframe tbody tr th:only-of-type {\n",
       "        vertical-align: middle;\n",
       "    }\n",
       "\n",
       "    .dataframe tbody tr th {\n",
       "        vertical-align: top;\n",
       "    }\n",
       "\n",
       "    .dataframe thead th {\n",
       "        text-align: right;\n",
       "    }\n",
       "</style>\n",
       "<table border=\"1\" class=\"dataframe\">\n",
       "  <thead>\n",
       "    <tr style=\"text-align: right;\">\n",
       "      <th></th>\n",
       "      <th>NY</th>\n",
       "      <th>ND</th>\n",
       "      <th>TX</th>\n",
       "      <th>WY</th>\n",
       "    </tr>\n",
       "  </thead>\n",
       "  <tbody>\n",
       "    <tr>\n",
       "      <th>count</th>\n",
       "      <td>9491.000000</td>\n",
       "      <td>9491.000000</td>\n",
       "      <td>9491.000000</td>\n",
       "      <td>9491.000000</td>\n",
       "    </tr>\n",
       "    <tr>\n",
       "      <th>mean</th>\n",
       "      <td>0.293014</td>\n",
       "      <td>0.036982</td>\n",
       "      <td>0.640080</td>\n",
       "      <td>0.029923</td>\n",
       "    </tr>\n",
       "    <tr>\n",
       "      <th>std</th>\n",
       "      <td>0.455169</td>\n",
       "      <td>0.188729</td>\n",
       "      <td>0.480002</td>\n",
       "      <td>0.170384</td>\n",
       "    </tr>\n",
       "    <tr>\n",
       "      <th>min</th>\n",
       "      <td>0.000000</td>\n",
       "      <td>0.000000</td>\n",
       "      <td>0.000000</td>\n",
       "      <td>0.000000</td>\n",
       "    </tr>\n",
       "    <tr>\n",
       "      <th>25%</th>\n",
       "      <td>0.000000</td>\n",
       "      <td>0.000000</td>\n",
       "      <td>0.000000</td>\n",
       "      <td>0.000000</td>\n",
       "    </tr>\n",
       "    <tr>\n",
       "      <th>50%</th>\n",
       "      <td>0.000000</td>\n",
       "      <td>0.000000</td>\n",
       "      <td>1.000000</td>\n",
       "      <td>0.000000</td>\n",
       "    </tr>\n",
       "    <tr>\n",
       "      <th>75%</th>\n",
       "      <td>1.000000</td>\n",
       "      <td>0.000000</td>\n",
       "      <td>1.000000</td>\n",
       "      <td>0.000000</td>\n",
       "    </tr>\n",
       "    <tr>\n",
       "      <th>max</th>\n",
       "      <td>1.000000</td>\n",
       "      <td>1.000000</td>\n",
       "      <td>1.000000</td>\n",
       "      <td>1.000000</td>\n",
       "    </tr>\n",
       "  </tbody>\n",
       "</table>\n",
       "</div>"
      ],
      "text/plain": [
       "                NY           ND           TX           WY\n",
       "count  9491.000000  9491.000000  9491.000000  9491.000000\n",
       "mean      0.293014     0.036982     0.640080     0.029923\n",
       "std       0.455169     0.188729     0.480002     0.170384\n",
       "min       0.000000     0.000000     0.000000     0.000000\n",
       "25%       0.000000     0.000000     0.000000     0.000000\n",
       "50%       0.000000     0.000000     1.000000     0.000000\n",
       "75%       1.000000     0.000000     1.000000     0.000000\n",
       "max       1.000000     1.000000     1.000000     1.000000"
      ]
     },
     "execution_count": 20,
     "metadata": {},
     "output_type": "execute_result"
    }
   ],
   "source": [
    "cols.loc[cols.Price < 10000, states].describe()"
   ]
  },
  {
   "cell_type": "markdown",
   "metadata": {},
   "source": [
    "Apparently there is a relatively large level of predictability with the extremely low priced homes, with a correct classification 91.4% of the time. The extremely low priced observations also do not appear to be concentrated in any one state. Compare the distribution of extremely low priced homes above with the next cell showing distribution of all records."
   ]
  },
  {
   "cell_type": "code",
   "execution_count": 21,
   "metadata": {
    "collapsed": false
   },
   "outputs": [
    {
     "data": {
      "text/html": [
       "<div>\n",
       "<style scoped>\n",
       "    .dataframe tbody tr th:only-of-type {\n",
       "        vertical-align: middle;\n",
       "    }\n",
       "\n",
       "    .dataframe tbody tr th {\n",
       "        vertical-align: top;\n",
       "    }\n",
       "\n",
       "    .dataframe thead th {\n",
       "        text-align: right;\n",
       "    }\n",
       "</style>\n",
       "<table border=\"1\" class=\"dataframe\">\n",
       "  <thead>\n",
       "    <tr style=\"text-align: right;\">\n",
       "      <th></th>\n",
       "      <th>NY</th>\n",
       "      <th>ND</th>\n",
       "      <th>TX</th>\n",
       "      <th>WY</th>\n",
       "    </tr>\n",
       "  </thead>\n",
       "  <tbody>\n",
       "    <tr>\n",
       "      <th>count</th>\n",
       "      <td>533806.000000</td>\n",
       "      <td>533806.000000</td>\n",
       "      <td>533806.000000</td>\n",
       "      <td>533806.000000</td>\n",
       "    </tr>\n",
       "    <tr>\n",
       "      <th>mean</th>\n",
       "      <td>0.367679</td>\n",
       "      <td>0.021238</td>\n",
       "      <td>0.594705</td>\n",
       "      <td>0.016379</td>\n",
       "    </tr>\n",
       "    <tr>\n",
       "      <th>std</th>\n",
       "      <td>0.482174</td>\n",
       "      <td>0.144177</td>\n",
       "      <td>0.490950</td>\n",
       "      <td>0.126927</td>\n",
       "    </tr>\n",
       "    <tr>\n",
       "      <th>min</th>\n",
       "      <td>0.000000</td>\n",
       "      <td>0.000000</td>\n",
       "      <td>0.000000</td>\n",
       "      <td>0.000000</td>\n",
       "    </tr>\n",
       "    <tr>\n",
       "      <th>25%</th>\n",
       "      <td>0.000000</td>\n",
       "      <td>0.000000</td>\n",
       "      <td>0.000000</td>\n",
       "      <td>0.000000</td>\n",
       "    </tr>\n",
       "    <tr>\n",
       "      <th>50%</th>\n",
       "      <td>0.000000</td>\n",
       "      <td>0.000000</td>\n",
       "      <td>1.000000</td>\n",
       "      <td>0.000000</td>\n",
       "    </tr>\n",
       "    <tr>\n",
       "      <th>75%</th>\n",
       "      <td>1.000000</td>\n",
       "      <td>0.000000</td>\n",
       "      <td>1.000000</td>\n",
       "      <td>0.000000</td>\n",
       "    </tr>\n",
       "    <tr>\n",
       "      <th>max</th>\n",
       "      <td>1.000000</td>\n",
       "      <td>1.000000</td>\n",
       "      <td>1.000000</td>\n",
       "      <td>1.000000</td>\n",
       "    </tr>\n",
       "  </tbody>\n",
       "</table>\n",
       "</div>"
      ],
      "text/plain": [
       "                  NY             ND             TX             WY\n",
       "count  533806.000000  533806.000000  533806.000000  533806.000000\n",
       "mean        0.367679       0.021238       0.594705       0.016379\n",
       "std         0.482174       0.144177       0.490950       0.126927\n",
       "min         0.000000       0.000000       0.000000       0.000000\n",
       "25%         0.000000       0.000000       0.000000       0.000000\n",
       "50%         0.000000       0.000000       1.000000       0.000000\n",
       "75%         1.000000       0.000000       1.000000       0.000000\n",
       "max         1.000000       1.000000       1.000000       1.000000"
      ]
     },
     "execution_count": 21,
     "metadata": {},
     "output_type": "execute_result"
    }
   ],
   "source": [
    "cols.loc[:,states].describe()"
   ]
  },
  {
   "cell_type": "markdown",
   "metadata": {},
   "source": [
    "Let's look at how well we can predict low (< 100,000 USD), medium (100,000-500,000 USD), and high (> 500,000 USD) priced homes."
   ]
  },
  {
   "cell_type": "code",
   "execution_count": 22,
   "metadata": {
    "collapsed": false
   },
   "outputs": [
    {
     "data": {
      "text/plain": [
       "0.81759582738768888"
      ]
     },
     "execution_count": 22,
     "metadata": {},
     "output_type": "execute_result"
    }
   ],
   "source": [
    "ythis = Y[Y < 100000].copy()\n",
    "ythis = pd.concat([ythis, y_train[y_train >= 100000].head(len(ythis)).copy()])\n",
    "ythis[ythis < 100000] = 1\n",
    "ythis[ythis > 1] = 0\n",
    "\n",
    "xthis = X.loc[ythis.index, :]\n",
    "\n",
    "xtrainthis, xtestthis, ytrainthis, ytestthis= ttsplit(xthis,\n",
    "                                                      ythis,\n",
    "                                                      test_size = .3,\n",
    "                                                      random_state=4)\n",
    "clf = RandomForestClassifier(n_estimators = 50, n_jobs = -1)\n",
    "clf.fit(xtrainthis, ytrainthis)\n",
    "clf.score(xtestthis, ytestthis)"
   ]
  },
  {
   "cell_type": "markdown",
   "metadata": {},
   "source": [
    "The low priced homes are correctly classified approximately 81% of the time.\n",
    "\n",
    "The majority of the homes are between \\$100,000 and \\$500,000. We will not want to undersample here."
   ]
  },
  {
   "cell_type": "code",
   "execution_count": 23,
   "metadata": {
    "collapsed": false
   },
   "outputs": [
    {
     "data": {
      "text/plain": [
       "0.76064228367528997"
      ]
     },
     "execution_count": 23,
     "metadata": {},
     "output_type": "execute_result"
    }
   ],
   "source": [
    "ythis = y_train.copy()\n",
    "ythis[(ythis>=100000) & (ythis<500000)] = 1\n",
    "ythis[ythis > 1] = 0\n",
    "\n",
    "xthis = X_train.loc[ythis.index, :]\n",
    "\n",
    "xtrainthis, xtestthis, ytrainthis, ytestthis= ttsplit(xthis,\n",
    "                                                      ythis,\n",
    "                                                      test_size = .3,\n",
    "                                                      random_state=4)\n",
    "clf = RandomForestClassifier(n_estimators = 50, n_jobs = -1)\n",
    "clf.fit(xtrainthis, ytrainthis)\n",
    "clf.score(xtestthis, ytestthis)"
   ]
  },
  {
   "cell_type": "markdown",
   "metadata": {},
   "source": [
    "Finally, we will want to test how well we can predict homes priced over $500,000."
   ]
  },
  {
   "cell_type": "code",
   "execution_count": 24,
   "metadata": {
    "collapsed": false
   },
   "outputs": [
    {
     "data": {
      "text/plain": [
       "0.83437836468427384"
      ]
     },
     "execution_count": 24,
     "metadata": {},
     "output_type": "execute_result"
    }
   ],
   "source": [
    "ythis = Y[Y >= 500000].copy()\n",
    "ythis = pd.concat([ythis, y_train[y_train < 500000].head(len(ythis)).copy()])\n",
    "ythis[ythis >= 500000] = 1\n",
    "ythis[ythis > 1] = 0\n",
    "\n",
    "xthis = X.loc[ythis.index, :]\n",
    "\n",
    "xtrainthis, xtestthis, ytrainthis, ytestthis= ttsplit(xthis,\n",
    "                                                      ythis,\n",
    "                                                      test_size = .3,\n",
    "                                                      random_state=4)\n",
    "\n",
    "clf = RandomForestClassifier(n_estimators = 50, n_jobs = -1)\n",
    "clf.fit(xtrainthis, ytrainthis)\n",
    "clf.score(xtestthis, ytestthis)"
   ]
  },
  {
   "cell_type": "markdown",
   "metadata": {},
   "source": [
    "Apparently all of our classes are fairly predictable, as the classifier was able to score all classes accurately.\n",
    "\n",
    "## Part IV: Regression Pass 2\n",
    "\n",
    "Now that we know each of our classes is relatively predictable we will see if possibly the problem is our algorithm. The linear regressor used above is relatively weak. Let's try a more robust regression algorithm."
   ]
  },
  {
   "cell_type": "code",
   "execution_count": 27,
   "metadata": {
    "collapsed": false,
    "scrolled": true
   },
   "outputs": [
    {
     "name": "stdout",
     "output_type": "stream",
     "text": [
      "CPU times: user 48min 13s, sys: 1min 4s, total: 49min 18s\n",
      "Wall time: 30min 2s\n"
     ]
    }
   ],
   "source": [
    "%%time\n",
    "\n",
    "RFreg = RandomForestRegressor(n_jobs = -1)\n",
    "params = {'n_estimators':[10,20,50,100]}\n",
    "gs = model_selection.GridSearchCV(estimator=RFreg, param_grid=params)\n",
    "gs.fit(X_train,y_train)\n",
    "RFreg = gs.best_estimator_"
   ]
  },
  {
   "cell_type": "code",
   "execution_count": 28,
   "metadata": {
    "collapsed": false
   },
   "outputs": [
    {
     "name": "stdout",
     "output_type": "stream",
     "text": [
      "Train score: 0.920597198615\n",
      "Test score: 0.4376745127\n",
      "CPU times: user 1min 4s, sys: 14.8 s, total: 1min 19s\n",
      "Wall time: 56.2 s\n"
     ]
    }
   ],
   "source": [
    "%%time\n",
    "print(\"Train score:\", RFreg.score(X_train, y_train))\n",
    "print(\"Test score:\", RFreg.score(X_test, y_test))"
   ]
  },
  {
   "cell_type": "markdown",
   "metadata": {},
   "source": [
    "This regressor is incredibly overfit, as the test score is nearly 50% lower than the train score. Further work is necessary to get a less overfitted model. First I want to see if there are any differences in the class balance in the testing and training sets."
   ]
  },
  {
   "cell_type": "code",
   "execution_count": 29,
   "metadata": {
    "collapsed": false,
    "scrolled": true
   },
   "outputs": [
    {
     "name": "stdout",
     "output_type": "stream",
     "text": [
      "Training set extreme lows: 6710\n",
      "Expected test set extreme lows: 2875.714285714286\n",
      "Actual test set extreme lows: 2781\n",
      "Training set lows: 118778\n",
      "Expected test set lows: 50904.857142857145\n",
      "Actual test set lows: 50579\n",
      "Training set medium: 330224\n",
      "Expected test set medium: 141524.57142857142\n",
      "Actual test set medium: 141461\n",
      "Training set high: 36730\n",
      "Expected test set high: 15741.42857142857\n",
      "Actual test set high: 15900\n"
     ]
    }
   ],
   "source": [
    "print(\"Training set extreme lows:\", sum(y_train < 10000))\n",
    "print(\"Expected test set extreme lows:\", sum(y_train < 10000) * 3/7)\n",
    "print(\"Actual test set extreme lows:\", sum(y_test < 10000))\n",
    "print(\"Training set lows:\", sum(y_train < 100000))\n",
    "print(\"Expected test set lows:\", sum(y_train < 100000) * 3/7)\n",
    "print(\"Actual test set lows:\", sum(y_test < 100000))\n",
    "print(\"Training set medium:\", sum((y_train >= 10000) & (y_train < 500000)))\n",
    "print(\"Expected test set medium:\", sum((y_train >= 10000) & (y_train < 500000)) * 3/7)\n",
    "print(\"Actual test set medium:\", sum((y_test >= 10000) & (y_test < 500000)))\n",
    "print(\"Training set high:\", sum(y_train >= 500000))\n",
    "print(\"Expected test set high:\", sum(y_train >= 500000) * 3/7)\n",
    "print(\"Actual test set high:\", sum(y_test >= 500000))"
   ]
  },
  {
   "cell_type": "markdown",
   "metadata": {},
   "source": [
    "Apparently there is not a class imbalance in the training and test set. Next I want to see if another regressor will improve accuracy. Perhaps this problem is not appropriate for regression. Let's try a multiclass classifier to see how well it scores all of the extremely low, low, medium and high price homes."
   ]
  },
  {
   "cell_type": "code",
   "execution_count": 31,
   "metadata": {
    "collapsed": false
   },
   "outputs": [],
   "source": [
    "Yclass = np.zeros(len(Y))\n",
    "Yclass[Y < 10000] = 1\n",
    "Yclass[(Y>=10000) & (Y<100000)] = 2\n",
    "Yclass[(Y>=100000) & (Y<500000)] = 3\n",
    "Yclass[Y>=500000] = 4\n",
    "\n",
    "X_train, X_test, y_train, y_test = ttsplit(X, Yclass, test_size = 0.3, random_state = 4)"
   ]
  },
  {
   "cell_type": "code",
   "execution_count": 32,
   "metadata": {
    "collapsed": false
   },
   "outputs": [
    {
     "name": "stdout",
     "output_type": "stream",
     "text": [
      "CPU times: user 1min 49s, sys: 2.69 s, total: 1min 52s\n",
      "Wall time: 1min 6s\n"
     ]
    }
   ],
   "source": [
    "%%time\n",
    "\n",
    "clf = RandomForestClassifier(n_estimators = 50, n_jobs = -1)\n",
    "clf.fit(X_train, y_train)"
   ]
  },
  {
   "cell_type": "code",
   "execution_count": 33,
   "metadata": {
    "collapsed": false
   },
   "outputs": [
    {
     "name": "stdout",
     "output_type": "stream",
     "text": [
      "Train score: 0.999718998887\n",
      "Test score: 0.744039664797\n",
      "CPU times: user 25.5 s, sys: 1.96 s, total: 27.5 s\n",
      "Wall time: 18.5 s\n"
     ]
    }
   ],
   "source": [
    "%%time\n",
    "\n",
    "print(\"Train score:\", clf.score(X_train, y_train))\n",
    "print(\"Test score:\", clf.score(X_test, y_test))"
   ]
  },
  {
   "cell_type": "markdown",
   "metadata": {},
   "source": [
    "By changing the algorithm from a regressor to classifying homes into one of four groups, we have a different understanding of the problem and a fairly accurate classifier.\n",
    "\n",
    "## Part V: Feature Engineering\n",
    "I believe that we can add a few features that may improve the accuracy of our regression algorithm. The number of people per room in a home shows how crowded a home is. How crowded a home is may affect the price, so I will add the number of people per room as a feature label labeled \"Crowding.\""
   ]
  },
  {
   "cell_type": "code",
   "execution_count": 40,
   "metadata": {
    "collapsed": false
   },
   "outputs": [
    {
     "data": {
      "text/html": [
       "<div>\n",
       "<style scoped>\n",
       "    .dataframe tbody tr th:only-of-type {\n",
       "        vertical-align: middle;\n",
       "    }\n",
       "\n",
       "    .dataframe tbody tr th {\n",
       "        vertical-align: top;\n",
       "    }\n",
       "\n",
       "    .dataframe thead th {\n",
       "        text-align: right;\n",
       "    }\n",
       "</style>\n",
       "<table border=\"1\" class=\"dataframe\">\n",
       "  <thead>\n",
       "    <tr style=\"text-align: right;\">\n",
       "      <th></th>\n",
       "      <th>Num_People</th>\n",
       "      <th>Lot_Size</th>\n",
       "      <th>Has_Bathtub</th>\n",
       "      <th>Num_Bedrooms</th>\n",
       "      <th>Monthly_Electric</th>\n",
       "      <th>Monthly_Gas</th>\n",
       "      <th>Yearly_Insurance_Cost</th>\n",
       "      <th>Num_Rooms</th>\n",
       "      <th>Has_Hot_Water</th>\n",
       "      <th>Has_Sink</th>\n",
       "      <th>Num_Vehicles</th>\n",
       "      <th>Yearly_Water</th>\n",
       "      <th>Age</th>\n",
       "      <th>Household_Income</th>\n",
       "      <th>NY</th>\n",
       "      <th>ND</th>\n",
       "      <th>TX</th>\n",
       "      <th>WY</th>\n",
       "      <th>Mobile_Home</th>\n",
       "      <th>Crowding</th>\n",
       "    </tr>\n",
       "  </thead>\n",
       "  <tbody>\n",
       "    <tr>\n",
       "      <th>count</th>\n",
       "      <td>533806.000000</td>\n",
       "      <td>533806.000000</td>\n",
       "      <td>533806.000000</td>\n",
       "      <td>533806.000000</td>\n",
       "      <td>533806.000000</td>\n",
       "      <td>533806.000000</td>\n",
       "      <td>533806.000000</td>\n",
       "      <td>533806.000000</td>\n",
       "      <td>533806.000000</td>\n",
       "      <td>533806.000000</td>\n",
       "      <td>533806.000000</td>\n",
       "      <td>533806.000000</td>\n",
       "      <td>533806.000000</td>\n",
       "      <td>5.338060e+05</td>\n",
       "      <td>533806.000000</td>\n",
       "      <td>533806.000000</td>\n",
       "      <td>533806.000000</td>\n",
       "      <td>533806.000000</td>\n",
       "      <td>533806.000000</td>\n",
       "      <td>533806.000000</td>\n",
       "    </tr>\n",
       "    <tr>\n",
       "      <th>mean</th>\n",
       "      <td>2.642762</td>\n",
       "      <td>1.293528</td>\n",
       "      <td>1.001973</td>\n",
       "      <td>3.209711</td>\n",
       "      <td>177.314982</td>\n",
       "      <td>58.539719</td>\n",
       "      <td>1093.358478</td>\n",
       "      <td>6.774317</td>\n",
       "      <td>1.002823</td>\n",
       "      <td>1.001907</td>\n",
       "      <td>2.032564</td>\n",
       "      <td>537.047152</td>\n",
       "      <td>42.996645</td>\n",
       "      <td>9.608902e+04</td>\n",
       "      <td>0.367679</td>\n",
       "      <td>0.021238</td>\n",
       "      <td>0.594705</td>\n",
       "      <td>0.016379</td>\n",
       "      <td>0.067195</td>\n",
       "      <td>0.421761</td>\n",
       "    </tr>\n",
       "    <tr>\n",
       "      <th>std</th>\n",
       "      <td>1.461454</td>\n",
       "      <td>0.566703</td>\n",
       "      <td>0.044370</td>\n",
       "      <td>0.940672</td>\n",
       "      <td>107.326579</td>\n",
       "      <td>83.606656</td>\n",
       "      <td>1047.753963</td>\n",
       "      <td>2.223480</td>\n",
       "      <td>0.053058</td>\n",
       "      <td>0.043628</td>\n",
       "      <td>1.005941</td>\n",
       "      <td>569.720262</td>\n",
       "      <td>26.485214</td>\n",
       "      <td>9.971726e+04</td>\n",
       "      <td>0.482174</td>\n",
       "      <td>0.144177</td>\n",
       "      <td>0.490950</td>\n",
       "      <td>0.126927</td>\n",
       "      <td>0.250359</td>\n",
       "      <td>0.292771</td>\n",
       "    </tr>\n",
       "    <tr>\n",
       "      <th>min</th>\n",
       "      <td>1.000000</td>\n",
       "      <td>1.000000</td>\n",
       "      <td>1.000000</td>\n",
       "      <td>0.000000</td>\n",
       "      <td>1.000000</td>\n",
       "      <td>1.000000</td>\n",
       "      <td>0.000000</td>\n",
       "      <td>1.000000</td>\n",
       "      <td>1.000000</td>\n",
       "      <td>1.000000</td>\n",
       "      <td>0.000000</td>\n",
       "      <td>1.000000</td>\n",
       "      <td>0.000000</td>\n",
       "      <td>-1.722361e+04</td>\n",
       "      <td>0.000000</td>\n",
       "      <td>0.000000</td>\n",
       "      <td>0.000000</td>\n",
       "      <td>0.000000</td>\n",
       "      <td>0.000000</td>\n",
       "      <td>0.045455</td>\n",
       "    </tr>\n",
       "    <tr>\n",
       "      <th>25%</th>\n",
       "      <td>2.000000</td>\n",
       "      <td>1.000000</td>\n",
       "      <td>1.000000</td>\n",
       "      <td>3.000000</td>\n",
       "      <td>100.115000</td>\n",
       "      <td>3.052602</td>\n",
       "      <td>454.218600</td>\n",
       "      <td>5.000000</td>\n",
       "      <td>1.000000</td>\n",
       "      <td>1.000000</td>\n",
       "      <td>1.000000</td>\n",
       "      <td>73.771180</td>\n",
       "      <td>20.000000</td>\n",
       "      <td>3.784778e+04</td>\n",
       "      <td>0.000000</td>\n",
       "      <td>0.000000</td>\n",
       "      <td>0.000000</td>\n",
       "      <td>0.000000</td>\n",
       "      <td>0.000000</td>\n",
       "      <td>0.250000</td>\n",
       "    </tr>\n",
       "    <tr>\n",
       "      <th>50%</th>\n",
       "      <td>2.000000</td>\n",
       "      <td>1.000000</td>\n",
       "      <td>1.000000</td>\n",
       "      <td>3.000000</td>\n",
       "      <td>152.630100</td>\n",
       "      <td>30.034500</td>\n",
       "      <td>915.780600</td>\n",
       "      <td>6.000000</td>\n",
       "      <td>1.000000</td>\n",
       "      <td>1.000000</td>\n",
       "      <td>2.000000</td>\n",
       "      <td>412.926000</td>\n",
       "      <td>40.000000</td>\n",
       "      <td>7.073984e+04</td>\n",
       "      <td>0.000000</td>\n",
       "      <td>0.000000</td>\n",
       "      <td>1.000000</td>\n",
       "      <td>0.000000</td>\n",
       "      <td>0.000000</td>\n",
       "      <td>0.333333</td>\n",
       "    </tr>\n",
       "    <tr>\n",
       "      <th>75%</th>\n",
       "      <td>4.000000</td>\n",
       "      <td>1.000000</td>\n",
       "      <td>1.000000</td>\n",
       "      <td>4.000000</td>\n",
       "      <td>230.264500</td>\n",
       "      <td>80.092000</td>\n",
       "      <td>1445.241000</td>\n",
       "      <td>8.000000</td>\n",
       "      <td>1.000000</td>\n",
       "      <td>1.000000</td>\n",
       "      <td>3.000000</td>\n",
       "      <td>814.027200</td>\n",
       "      <td>60.000000</td>\n",
       "      <td>1.188851e+05</td>\n",
       "      <td>1.000000</td>\n",
       "      <td>0.000000</td>\n",
       "      <td>1.000000</td>\n",
       "      <td>0.000000</td>\n",
       "      <td>0.000000</td>\n",
       "      <td>0.500000</td>\n",
       "    </tr>\n",
       "    <tr>\n",
       "      <th>max</th>\n",
       "      <td>20.000000</td>\n",
       "      <td>3.000000</td>\n",
       "      <td>2.000000</td>\n",
       "      <td>12.000000</td>\n",
       "      <td>650.000000</td>\n",
       "      <td>570.000000</td>\n",
       "      <td>8109.315000</td>\n",
       "      <td>22.000000</td>\n",
       "      <td>2.000000</td>\n",
       "      <td>2.000000</td>\n",
       "      <td>6.000000</td>\n",
       "      <td>3793.946400</td>\n",
       "      <td>90.000000</td>\n",
       "      <td>2.142699e+06</td>\n",
       "      <td>1.000000</td>\n",
       "      <td>1.000000</td>\n",
       "      <td>1.000000</td>\n",
       "      <td>1.000000</td>\n",
       "      <td>1.000000</td>\n",
       "      <td>9.000000</td>\n",
       "    </tr>\n",
       "  </tbody>\n",
       "</table>\n",
       "</div>"
      ],
      "text/plain": [
       "          Num_People       Lot_Size    Has_Bathtub   Num_Bedrooms  \\\n",
       "count  533806.000000  533806.000000  533806.000000  533806.000000   \n",
       "mean        2.642762       1.293528       1.001973       3.209711   \n",
       "std         1.461454       0.566703       0.044370       0.940672   \n",
       "min         1.000000       1.000000       1.000000       0.000000   \n",
       "25%         2.000000       1.000000       1.000000       3.000000   \n",
       "50%         2.000000       1.000000       1.000000       3.000000   \n",
       "75%         4.000000       1.000000       1.000000       4.000000   \n",
       "max        20.000000       3.000000       2.000000      12.000000   \n",
       "\n",
       "       Monthly_Electric    Monthly_Gas  Yearly_Insurance_Cost      Num_Rooms  \\\n",
       "count     533806.000000  533806.000000          533806.000000  533806.000000   \n",
       "mean         177.314982      58.539719            1093.358478       6.774317   \n",
       "std          107.326579      83.606656            1047.753963       2.223480   \n",
       "min            1.000000       1.000000               0.000000       1.000000   \n",
       "25%          100.115000       3.052602             454.218600       5.000000   \n",
       "50%          152.630100      30.034500             915.780600       6.000000   \n",
       "75%          230.264500      80.092000            1445.241000       8.000000   \n",
       "max          650.000000     570.000000            8109.315000      22.000000   \n",
       "\n",
       "       Has_Hot_Water       Has_Sink   Num_Vehicles   Yearly_Water  \\\n",
       "count  533806.000000  533806.000000  533806.000000  533806.000000   \n",
       "mean        1.002823       1.001907       2.032564     537.047152   \n",
       "std         0.053058       0.043628       1.005941     569.720262   \n",
       "min         1.000000       1.000000       0.000000       1.000000   \n",
       "25%         1.000000       1.000000       1.000000      73.771180   \n",
       "50%         1.000000       1.000000       2.000000     412.926000   \n",
       "75%         1.000000       1.000000       3.000000     814.027200   \n",
       "max         2.000000       2.000000       6.000000    3793.946400   \n",
       "\n",
       "                 Age  Household_Income             NY             ND  \\\n",
       "count  533806.000000      5.338060e+05  533806.000000  533806.000000   \n",
       "mean       42.996645      9.608902e+04       0.367679       0.021238   \n",
       "std        26.485214      9.971726e+04       0.482174       0.144177   \n",
       "min         0.000000     -1.722361e+04       0.000000       0.000000   \n",
       "25%        20.000000      3.784778e+04       0.000000       0.000000   \n",
       "50%        40.000000      7.073984e+04       0.000000       0.000000   \n",
       "75%        60.000000      1.188851e+05       1.000000       0.000000   \n",
       "max        90.000000      2.142699e+06       1.000000       1.000000   \n",
       "\n",
       "                  TX             WY    Mobile_Home       Crowding  \n",
       "count  533806.000000  533806.000000  533806.000000  533806.000000  \n",
       "mean        0.594705       0.016379       0.067195       0.421761  \n",
       "std         0.490950       0.126927       0.250359       0.292771  \n",
       "min         0.000000       0.000000       0.000000       0.045455  \n",
       "25%         0.000000       0.000000       0.000000       0.250000  \n",
       "50%         1.000000       0.000000       0.000000       0.333333  \n",
       "75%         1.000000       0.000000       0.000000       0.500000  \n",
       "max         1.000000       1.000000       1.000000       9.000000  "
      ]
     },
     "execution_count": 40,
     "metadata": {},
     "output_type": "execute_result"
    }
   ],
   "source": [
    "cols['Crowding'] = cols.Num_People / cols.Num_Rooms\n",
    "X = cols[[col for col in cols if col != 'Price']]\n",
    "X.describe()"
   ]
  },
  {
   "cell_type": "markdown",
   "metadata": {},
   "source": [
    "The number of rooms in the house is somewhat dependent on the number of bedrooms, so it might be best to alter the number of rooms to the number of non-bedroom rooms."
   ]
  },
  {
   "cell_type": "code",
   "execution_count": 49,
   "metadata": {
    "collapsed": false
   },
   "outputs": [
    {
     "name": "stderr",
     "output_type": "stream",
     "text": [
      "/Users/hunter/anaconda/lib/python3.6/site-packages/pandas/core/generic.py:3643: SettingWithCopyWarning: \n",
      "A value is trying to be set on a copy of a slice from a DataFrame.\n",
      "Try using .loc[row_indexer,col_indexer] = value instead\n",
      "\n",
      "See the caveats in the documentation: http://pandas.pydata.org/pandas-docs/stable/indexing.html#indexing-view-versus-copy\n",
      "  self[name] = value\n"
     ]
    }
   ],
   "source": [
    "X.Num_Rooms -= X.Num_Bedrooms"
   ]
  },
  {
   "cell_type": "markdown",
   "metadata": {},
   "source": [
    "## Part VI: Final Attempt at Regression and Classification\n",
    "\n",
    "Now that we have finished our feature engineering, let's see if we can get a better score on regression and also classification. We will also not scale the features since we are using random forest algorithm."
   ]
  },
  {
   "cell_type": "code",
   "execution_count": 50,
   "metadata": {
    "collapsed": false
   },
   "outputs": [],
   "source": [
    "#split into test and train\n",
    "X_train, X_test, y_train, y_test = ttsplit(X, Y, test_size = 0.3, random_state = 4)\n",
    "\n",
    "xcl_train, xcl_test, ycl_train, ycl_test = ttsplit(X, Yclass, test_size=0.3, random_state=4)"
   ]
  },
  {
   "cell_type": "code",
   "execution_count": 51,
   "metadata": {
    "collapsed": false
   },
   "outputs": [
    {
     "name": "stdout",
     "output_type": "stream",
     "text": [
      "0.440479943375\n",
      "CPU times: user 13min 32s, sys: 22.2 s, total: 13min 54s\n",
      "Wall time: 7min 55s\n"
     ]
    }
   ],
   "source": [
    "%%time\n",
    "RFreg.fit(X_train, y_train)\n",
    "print(RFreg.score(X_test, y_test))"
   ]
  },
  {
   "cell_type": "code",
   "execution_count": 52,
   "metadata": {
    "collapsed": false
   },
   "outputs": [
    {
     "name": "stdout",
     "output_type": "stream",
     "text": [
      "0.741929037979\n",
      "CPU times: user 2min 9s, sys: 5.17 s, total: 2min 14s\n",
      "Wall time: 1min 18s\n"
     ]
    }
   ],
   "source": [
    "%%time\n",
    "clf = RandomForestClassifier(n_estimators=50,n_jobs=-1)\n",
    "clf.fit(xcl_train,ycl_train)\n",
    "print(clf.score(xcl_test,ycl_test))"
   ]
  },
  {
   "cell_type": "markdown",
   "metadata": {},
   "source": [
    "Feature engineering has improved our regressor slightly!"
   ]
  },
  {
   "cell_type": "code",
   "execution_count": null,
   "metadata": {
    "collapsed": true
   },
   "outputs": [],
   "source": []
  }
 ],
 "metadata": {
  "kernelspec": {
   "display_name": "Python [default]",
   "language": "python",
   "name": "python3"
  },
  "language_info": {
   "codemirror_mode": {
    "name": "ipython",
    "version": 3
   },
   "file_extension": ".py",
   "mimetype": "text/x-python",
   "name": "python",
   "nbconvert_exporter": "python",
   "pygments_lexer": "ipython3",
   "version": "3.6.2"
  }
 },
 "nbformat": 4,
 "nbformat_minor": 2
}
