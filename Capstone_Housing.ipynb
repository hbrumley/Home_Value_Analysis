{
 "cells": [
  {
   "cell_type": "markdown",
   "metadata": {},
   "source": [
    "# Introduction: PUMS home value analysis\n",
    "\n",
    "I am analyzing the 2011-2015 PUMS housing data, found [here](https://www.census.gov/programs-surveys/acs/data/pums.html). The data dictionary which explains the meaning of each column and the values contained within is available [here.](https://www.census.gov/programs-surveys/acs/technical-documentation/pums/documentation.2015.html) I want to find an algorithm that can predict the value of the home.\n",
    "\n",
    "## Part I: Importing the data\n",
    "\n",
    "We will start by importing some libraries very useful for machine learning including pandas and scikit-learn. It will be helpful to change the column names to be more readable. I have chosen to use data from two states with very low populations (North Dakota and Wyoming) and two states with very high populations (New York and Texas) to get a fairly diverse dataset."
   ]
  },
  {
   "cell_type": "code",
   "execution_count": 1,
   "metadata": {
    "collapsed": false
   },
   "outputs": [],
   "source": [
    "import pandas as pd\n",
    "import numpy as np\n",
    "import matplotlib.pyplot as plt\n",
    "from sklearn import preprocessing\n",
    "from sklearn import model_selection\n",
    "from sklearn import linear_model\n",
    "from sklearn.ensemble import RandomForestClassifier\n",
    "from sklearn.ensemble import RandomForestRegressor"
   ]
  },
  {
   "cell_type": "code",
   "execution_count": 2,
   "metadata": {
    "collapsed": false,
    "scrolled": true
   },
   "outputs": [],
   "source": [
    "dat = pd.concat([pd.read_csv('ss15hnd.csv'), pd.read_csv('ss15hny.csv'),\n",
    "                 pd.read_csv('ss15hwy.csv'),\n",
    "                 pd.read_csv('ss15htx.csv')], ignore_index = True)\n",
    "dat.rename(columns = {\"insp\": \"INSP\"}, inplace = True)"
   ]
  },
  {
   "cell_type": "code",
   "execution_count": 3,
   "metadata": {
    "collapsed": false,
    "scrolled": false
   },
   "outputs": [
    {
     "name": "stderr",
     "output_type": "stream",
     "text": [
      "/Users/hunter/anaconda/lib/python3.6/site-packages/ipykernel/__main__.py:12: SettingWithCopyWarning: \n",
      "A value is trying to be set on a copy of a slice from a DataFrame\n",
      "\n",
      "See the caveats in the documentation: http://pandas.pydata.org/pandas-docs/stable/indexing.html#indexing-view-versus-copy\n"
     ]
    },
    {
     "data": {
      "text/html": [
       "<div>\n",
       "<style scoped>\n",
       "    .dataframe tbody tr th:only-of-type {\n",
       "        vertical-align: middle;\n",
       "    }\n",
       "\n",
       "    .dataframe tbody tr th {\n",
       "        vertical-align: top;\n",
       "    }\n",
       "\n",
       "    .dataframe thead th {\n",
       "        text-align: right;\n",
       "    }\n",
       "</style>\n",
       "<table border=\"1\" class=\"dataframe\">\n",
       "  <thead>\n",
       "    <tr style=\"text-align: right;\">\n",
       "      <th></th>\n",
       "      <th>State</th>\n",
       "      <th>Num_People</th>\n",
       "      <th>Lot_Size</th>\n",
       "      <th>Has_Bathtub</th>\n",
       "      <th>Num_Bedrooms</th>\n",
       "      <th>Monthly_Electric</th>\n",
       "      <th>Monthly_Gas</th>\n",
       "      <th>Yearly_Insurance_Cost</th>\n",
       "      <th>Num_Rooms</th>\n",
       "      <th>Has_Hot_Water</th>\n",
       "      <th>Has_Sink</th>\n",
       "      <th>Price</th>\n",
       "      <th>Num_Vehicles</th>\n",
       "      <th>Yearly_Water</th>\n",
       "      <th>Year_Built</th>\n",
       "      <th>Household_Income</th>\n",
       "    </tr>\n",
       "  </thead>\n",
       "  <tbody>\n",
       "    <tr>\n",
       "      <th>count</th>\n",
       "      <td>533806.000000</td>\n",
       "      <td>533806.000000</td>\n",
       "      <td>533806.000000</td>\n",
       "      <td>533806.000000</td>\n",
       "      <td>533806.000000</td>\n",
       "      <td>533806.000000</td>\n",
       "      <td>533806.000000</td>\n",
       "      <td>533806.000000</td>\n",
       "      <td>533806.000000</td>\n",
       "      <td>533806.000000</td>\n",
       "      <td>533806.000000</td>\n",
       "      <td>5.338060e+05</td>\n",
       "      <td>533806.000000</td>\n",
       "      <td>533806.000000</td>\n",
       "      <td>533806.000000</td>\n",
       "      <td>5.338060e+05</td>\n",
       "    </tr>\n",
       "    <tr>\n",
       "      <th>mean</th>\n",
       "      <td>43.506506</td>\n",
       "      <td>2.642762</td>\n",
       "      <td>1.293528</td>\n",
       "      <td>1.001973</td>\n",
       "      <td>3.209711</td>\n",
       "      <td>173.745224</td>\n",
       "      <td>57.339342</td>\n",
       "      <td>1072.360419</td>\n",
       "      <td>6.774317</td>\n",
       "      <td>1.002823</td>\n",
       "      <td>1.001907</td>\n",
       "      <td>2.370636e+05</td>\n",
       "      <td>2.032564</td>\n",
       "      <td>526.212000</td>\n",
       "      <td>5.122936</td>\n",
       "      <td>9.340733e+04</td>\n",
       "    </tr>\n",
       "    <tr>\n",
       "      <th>std</th>\n",
       "      <td>5.993857</td>\n",
       "      <td>1.461454</td>\n",
       "      <td>0.566703</td>\n",
       "      <td>0.044370</td>\n",
       "      <td>0.940672</td>\n",
       "      <td>105.178184</td>\n",
       "      <td>81.880871</td>\n",
       "      <td>1030.062644</td>\n",
       "      <td>2.223480</td>\n",
       "      <td>0.053058</td>\n",
       "      <td>0.043628</td>\n",
       "      <td>3.416026e+05</td>\n",
       "      <td>1.005941</td>\n",
       "      <td>558.325665</td>\n",
       "      <td>3.057706</td>\n",
       "      <td>9.722710e+04</td>\n",
       "    </tr>\n",
       "    <tr>\n",
       "      <th>min</th>\n",
       "      <td>36.000000</td>\n",
       "      <td>1.000000</td>\n",
       "      <td>1.000000</td>\n",
       "      <td>1.000000</td>\n",
       "      <td>0.000000</td>\n",
       "      <td>1.000000</td>\n",
       "      <td>1.000000</td>\n",
       "      <td>0.000000</td>\n",
       "      <td>1.000000</td>\n",
       "      <td>1.000000</td>\n",
       "      <td>1.000000</td>\n",
       "      <td>1.000000e+02</td>\n",
       "      <td>0.000000</td>\n",
       "      <td>1.000000</td>\n",
       "      <td>1.000000</td>\n",
       "      <td>-1.680000e+04</td>\n",
       "    </tr>\n",
       "    <tr>\n",
       "      <th>25%</th>\n",
       "      <td>36.000000</td>\n",
       "      <td>2.000000</td>\n",
       "      <td>1.000000</td>\n",
       "      <td>1.000000</td>\n",
       "      <td>3.000000</td>\n",
       "      <td>100.000000</td>\n",
       "      <td>3.000000</td>\n",
       "      <td>450.000000</td>\n",
       "      <td>5.000000</td>\n",
       "      <td>1.000000</td>\n",
       "      <td>1.000000</td>\n",
       "      <td>8.000000e+04</td>\n",
       "      <td>1.000000</td>\n",
       "      <td>70.000000</td>\n",
       "      <td>3.000000</td>\n",
       "      <td>3.670000e+04</td>\n",
       "    </tr>\n",
       "    <tr>\n",
       "      <th>50%</th>\n",
       "      <td>48.000000</td>\n",
       "      <td>2.000000</td>\n",
       "      <td>1.000000</td>\n",
       "      <td>1.000000</td>\n",
       "      <td>3.000000</td>\n",
       "      <td>150.000000</td>\n",
       "      <td>30.000000</td>\n",
       "      <td>900.000000</td>\n",
       "      <td>6.000000</td>\n",
       "      <td>1.000000</td>\n",
       "      <td>1.000000</td>\n",
       "      <td>1.500000e+05</td>\n",
       "      <td>2.000000</td>\n",
       "      <td>400.000000</td>\n",
       "      <td>5.000000</td>\n",
       "      <td>6.900000e+04</td>\n",
       "    </tr>\n",
       "    <tr>\n",
       "      <th>75%</th>\n",
       "      <td>48.000000</td>\n",
       "      <td>4.000000</td>\n",
       "      <td>1.000000</td>\n",
       "      <td>1.000000</td>\n",
       "      <td>4.000000</td>\n",
       "      <td>230.000000</td>\n",
       "      <td>80.000000</td>\n",
       "      <td>1400.000000</td>\n",
       "      <td>8.000000</td>\n",
       "      <td>1.000000</td>\n",
       "      <td>1.000000</td>\n",
       "      <td>2.800000e+05</td>\n",
       "      <td>3.000000</td>\n",
       "      <td>800.000000</td>\n",
       "      <td>7.000000</td>\n",
       "      <td>1.150200e+05</td>\n",
       "    </tr>\n",
       "    <tr>\n",
       "      <th>max</th>\n",
       "      <td>56.000000</td>\n",
       "      <td>20.000000</td>\n",
       "      <td>3.000000</td>\n",
       "      <td>2.000000</td>\n",
       "      <td>12.000000</td>\n",
       "      <td>650.000000</td>\n",
       "      <td>570.000000</td>\n",
       "      <td>8100.000000</td>\n",
       "      <td>22.000000</td>\n",
       "      <td>2.000000</td>\n",
       "      <td>2.000000</td>\n",
       "      <td>5.216000e+06</td>\n",
       "      <td>6.000000</td>\n",
       "      <td>3600.000000</td>\n",
       "      <td>19.000000</td>\n",
       "      <td>2.090000e+06</td>\n",
       "    </tr>\n",
       "  </tbody>\n",
       "</table>\n",
       "</div>"
      ],
      "text/plain": [
       "               State     Num_People       Lot_Size    Has_Bathtub  \\\n",
       "count  533806.000000  533806.000000  533806.000000  533806.000000   \n",
       "mean       43.506506       2.642762       1.293528       1.001973   \n",
       "std         5.993857       1.461454       0.566703       0.044370   \n",
       "min        36.000000       1.000000       1.000000       1.000000   \n",
       "25%        36.000000       2.000000       1.000000       1.000000   \n",
       "50%        48.000000       2.000000       1.000000       1.000000   \n",
       "75%        48.000000       4.000000       1.000000       1.000000   \n",
       "max        56.000000      20.000000       3.000000       2.000000   \n",
       "\n",
       "        Num_Bedrooms  Monthly_Electric    Monthly_Gas  Yearly_Insurance_Cost  \\\n",
       "count  533806.000000     533806.000000  533806.000000          533806.000000   \n",
       "mean        3.209711        173.745224      57.339342            1072.360419   \n",
       "std         0.940672        105.178184      81.880871            1030.062644   \n",
       "min         0.000000          1.000000       1.000000               0.000000   \n",
       "25%         3.000000        100.000000       3.000000             450.000000   \n",
       "50%         3.000000        150.000000      30.000000             900.000000   \n",
       "75%         4.000000        230.000000      80.000000            1400.000000   \n",
       "max        12.000000        650.000000     570.000000            8100.000000   \n",
       "\n",
       "           Num_Rooms  Has_Hot_Water       Has_Sink         Price  \\\n",
       "count  533806.000000  533806.000000  533806.000000  5.338060e+05   \n",
       "mean        6.774317       1.002823       1.001907  2.370636e+05   \n",
       "std         2.223480       0.053058       0.043628  3.416026e+05   \n",
       "min         1.000000       1.000000       1.000000  1.000000e+02   \n",
       "25%         5.000000       1.000000       1.000000  8.000000e+04   \n",
       "50%         6.000000       1.000000       1.000000  1.500000e+05   \n",
       "75%         8.000000       1.000000       1.000000  2.800000e+05   \n",
       "max        22.000000       2.000000       2.000000  5.216000e+06   \n",
       "\n",
       "        Num_Vehicles   Yearly_Water     Year_Built  Household_Income  \n",
       "count  533806.000000  533806.000000  533806.000000      5.338060e+05  \n",
       "mean        2.032564     526.212000       5.122936      9.340733e+04  \n",
       "std         1.005941     558.325665       3.057706      9.722710e+04  \n",
       "min         0.000000       1.000000       1.000000     -1.680000e+04  \n",
       "25%         1.000000      70.000000       3.000000      3.670000e+04  \n",
       "50%         2.000000     400.000000       5.000000      6.900000e+04  \n",
       "75%         3.000000     800.000000       7.000000      1.150200e+05  \n",
       "max         6.000000    3600.000000      19.000000      2.090000e+06  "
      ]
     },
     "execution_count": 3,
     "metadata": {},
     "output_type": "execute_result"
    }
   ],
   "source": [
    "colnames = [\"ST\", \"NP\", \"ACR\", \"BATH\", \"BDSP\", \"ELEP\", \"GASP\", \"INSP\",\n",
    "              \"RMSP\", \"RWAT\", \"SINK\", \"VALP\", \"VEH\", \"WATP\", \"YBL\", \"HINCP\"]\n",
    "readable_names = [\"State\", \"Num_People\", \"Lot_Size\", \"Has_Bathtub\", \"Num_Bedrooms\",\n",
    "                  \"Monthly_Electric\", \"Monthly_Gas\", \"Yearly_Insurance_Cost\", \"Num_Rooms\",\n",
    "                  \"Has_Hot_Water\", \"Has_Sink\", \"Price\", \"Num_Vehicles\",\n",
    "                  \"Yearly_Water\", \"Year_Built\", \"Household_Income\"]\n",
    "\n",
    "cols = dat[colnames]\n",
    "\n",
    "cols.columns = readable_names\n",
    "\n",
    "cols.dropna(inplace = True)\n",
    "cols.describe()"
   ]
  },
  {
   "cell_type": "markdown",
   "metadata": {},
   "source": [
    "## Part II: Data Wrangling & Feature Engineering\n",
    "\n",
    "We now have 16 features and a target column (\"Price\") with just over 400,000 observations. We will need to clean the data a little further. The next cell will separate the state column into four columns representing each state a method for representing categorical variables known as one-hot encoding."
   ]
  },
  {
   "cell_type": "code",
   "execution_count": 4,
   "metadata": {
    "collapsed": false
   },
   "outputs": [],
   "source": [
    "cols = pd.get_dummies(cols, columns = [\"State\"])\n",
    "readable_names = readable_names[1:]\n",
    "states =[\"NY\", \"ND\", \"TX\", \"WY\"]\n",
    "readable_names.extend(states)\n",
    "cols.columns = readable_names"
   ]
  },
  {
   "cell_type": "markdown",
   "metadata": {},
   "source": [
    "The documentation tells us that some of the values in the year built column correspond to a year and some of them a range of years. We want to change it to the age of the house in years since it is a more reasonable range to work with. For values corresponding to a range I have put the age in the midpoint of the range."
   ]
  },
  {
   "cell_type": "code",
   "execution_count": 5,
   "metadata": {
    "collapsed": false,
    "scrolled": true
   },
   "outputs": [
    {
     "name": "stderr",
     "output_type": "stream",
     "text": [
      "/Users/hunter/anaconda/lib/python3.6/site-packages/pandas/core/indexing.py:194: SettingWithCopyWarning: \n",
      "A value is trying to be set on a copy of a slice from a DataFrame\n",
      "\n",
      "See the caveats in the documentation: http://pandas.pydata.org/pandas-docs/stable/indexing.html#indexing-view-versus-copy\n",
      "  self._setitem_with_indexer(indexer, value)\n"
     ]
    },
    {
     "data": {
      "text/plain": [
       "0     60.0\n",
       "5     40.0\n",
       "12    60.0\n",
       "13    30.0\n",
       "15    90.0\n",
       "Name: Year_Built, dtype: float64"
      ]
     },
     "execution_count": 5,
     "metadata": {},
     "output_type": "execute_result"
    }
   ],
   "source": [
    "ybl = cols.Year_Built\n",
    "\n",
    "ybl.loc[ybl == 1.0] = 90\n",
    "ybl.loc[ybl == 2.0] = 70\n",
    "ybl.loc[ybl == 3.0] = 60\n",
    "ybl.loc[ybl == 4.0] = 50\n",
    "ybl.loc[ybl == 5.0] = 40\n",
    "ybl.loc[ybl == 6.0] = 30\n",
    "ybl.loc[ybl == 7.0] = 20\n",
    "ybl.loc[ybl == 8.0] = 13\n",
    "ybl.loc[ybl == 9.0] = 10\n",
    "ybl.loc[ybl == 10.0] = 9\n",
    "ybl.loc[ybl == 11.0] = 8\n",
    "ybl.loc[ybl == 12.0] = 7\n",
    "ybl.loc[ybl == 13.0] = 6\n",
    "ybl.loc[ybl == 14.0] = 5\n",
    "ybl.loc[ybl == 15.0] = 4\n",
    "ybl.loc[ybl == 16.0] = 3\n",
    "ybl.loc[ybl == 17.0] = 2\n",
    "ybl.loc[ybl == 18.0] = 1\n",
    "ybl.loc[ybl == 19.0] = 0\n",
    "ybl.head()"
   ]
  },
  {
   "cell_type": "code",
   "execution_count": 6,
   "metadata": {
    "collapsed": false
   },
   "outputs": [],
   "source": [
    "cols.rename(columns={\"Year_Built\":\"Age\"}, inplace = True)"
   ]
  },
  {
   "cell_type": "markdown",
   "metadata": {},
   "source": [
    "The columns 'ADJHSG' and 'ADJINC' in the original dataset adjust monetary values in each record for inflation. We will want to adjust the data accordingly so that each record is given in 2015 dollars."
   ]
  },
  {
   "cell_type": "code",
   "execution_count": 7,
   "metadata": {
    "collapsed": false
   },
   "outputs": [],
   "source": [
    "for col in [\"Monthly_Electric\", \"Monthly_Gas\", \"Yearly_Insurance_Cost\", \"Yearly_Water\"]:\n",
    "    cols.loc[:,col] *= dat.loc[cols.index, 'ADJHSG'] * 10**-6\n",
    "    \n",
    "cols.Household_Income *= dat.loc[cols.index, 'ADJINC'] * 10**-6"
<<<<<<< HEAD
=======
   ]
  },
  {
   "cell_type": "markdown",
   "metadata": {},
   "source": [
    "Next we will add a column to flag whether or not the home is a mobile home."
   ]
  },
  {
   "cell_type": "code",
   "execution_count": 8,
   "metadata": {
    "collapsed": true
   },
   "outputs": [],
   "source": [
    "cols['Mobile_Home'] = pd.Series(dat.BLD == 1, dtype = 'int')"
>>>>>>> c5801553cbb0e3befb17afcfc7f78cd82ded8382
   ]
  },
  {
   "cell_type": "markdown",
   "metadata": {},
   "source": [
<<<<<<< HEAD
    "Next we will add a column to flag whether or not the home is a mobile home."
=======
    "## Part III: Exploratory Analysis and Regression Pass 1\n",
    "\n",
    "Many machine learning algorithms are improved by normalizing the input data. scikit-learn has a handy function to do this. First we will want to separate the features from our target column."
>>>>>>> c5801553cbb0e3befb17afcfc7f78cd82ded8382
   ]
  },
  {
   "cell_type": "code",
   "execution_count": 9,
   "metadata": {
    "collapsed": true
   },
   "outputs": [],
   "source": [
    "cols['Mobile_Home'] = pd.Series(dat.BLD == 1, dtype = 'int')"
   ]
  },
  {
   "cell_type": "markdown",
   "metadata": {},
   "source": [
    "I believe that we can add a few features that may improve the accuracy of our classification algorithm. The number of people per room in a home shows how crowded a home is. How crowded a home is may affect the price, so I will add the number of people per room as a feature label labeled \"Crowding.\""
   ]
  },
  {
   "cell_type": "code",
   "execution_count": 10,
   "metadata": {
    "collapsed": false,
    "scrolled": true
   },
<<<<<<< HEAD
   "outputs": [],
   "source": [
    "cols['Crowding'] = cols.Num_People / cols.Num_Rooms"
   ]
  },
  {
   "cell_type": "markdown",
   "metadata": {},
   "source": [
    "The number of rooms in the house is somewhat dependent on the number of bedrooms, so it might be best to re-define the number of rooms to be the number of non-bedroom rooms."
   ]
  },
  {
   "cell_type": "code",
   "execution_count": 10,
   "metadata": {
    "collapsed": false
   },
   "outputs": [],
   "source": [
    "cols.Num_Rooms -= cols.Num_Bedrooms"
   ]
  },
  {
   "cell_type": "markdown",
   "metadata": {},
   "source": [
    "## Part III: Exploratory Analysis and Regression\n",
    "\n",
    "Many machine learning algorithms are improved by normalizing the input data. scikit-learn has a handy function to do this. First we will want to separate the features from our target column, and then split the data into training and testing sets and see how a simple linear regression performs to get a sense of how difficult this problem might be. I am reserving 30% of the data as a test set as this is generally accepted in the data science community to be an appropriate split size."
   ]
  },
  {
   "cell_type": "markdown",
   "metadata": {},
   "source": [
    "Let's "
=======
   "outputs": [
    {
     "data": {
      "text/html": [
       "<div>\n",
       "<style scoped>\n",
       "    .dataframe tbody tr th:only-of-type {\n",
       "        vertical-align: middle;\n",
       "    }\n",
       "\n",
       "    .dataframe tbody tr th {\n",
       "        vertical-align: top;\n",
       "    }\n",
       "\n",
       "    .dataframe thead th {\n",
       "        text-align: right;\n",
       "    }\n",
       "</style>\n",
       "<table border=\"1\" class=\"dataframe\">\n",
       "  <thead>\n",
       "    <tr style=\"text-align: right;\">\n",
       "      <th></th>\n",
       "      <th>Num_People</th>\n",
       "      <th>Lot_Size</th>\n",
       "      <th>Has_Bathtub</th>\n",
       "      <th>Num_Bedrooms</th>\n",
       "      <th>Monthly_Electric</th>\n",
       "      <th>Monthly_Gas</th>\n",
       "      <th>Yearly_Insurance_Cost</th>\n",
       "      <th>Num_Rooms</th>\n",
       "      <th>Has_Hot_Water</th>\n",
       "      <th>Has_Sink</th>\n",
       "      <th>Num_Vehicles</th>\n",
       "      <th>Yearly_Water</th>\n",
       "      <th>Age</th>\n",
       "      <th>Household_Income</th>\n",
       "      <th>NY</th>\n",
       "      <th>ND</th>\n",
       "      <th>TX</th>\n",
       "      <th>WY</th>\n",
       "      <th>Mobile_Home</th>\n",
       "    </tr>\n",
       "  </thead>\n",
       "  <tbody>\n",
       "    <tr>\n",
       "      <th>count</th>\n",
       "      <td>533806.000000</td>\n",
       "      <td>533806.000000</td>\n",
       "      <td>533806.000000</td>\n",
       "      <td>533806.000000</td>\n",
       "      <td>533806.000000</td>\n",
       "      <td>533806.000000</td>\n",
       "      <td>533806.000000</td>\n",
       "      <td>533806.000000</td>\n",
       "      <td>533806.000000</td>\n",
       "      <td>533806.000000</td>\n",
       "      <td>533806.000000</td>\n",
       "      <td>533806.000000</td>\n",
       "      <td>533806.000000</td>\n",
       "      <td>533806.000000</td>\n",
       "      <td>533806.000000</td>\n",
       "      <td>533806.000000</td>\n",
       "      <td>533806.000000</td>\n",
       "      <td>533806.000000</td>\n",
       "      <td>533806.000000</td>\n",
       "    </tr>\n",
       "    <tr>\n",
       "      <th>mean</th>\n",
       "      <td>0.086461</td>\n",
       "      <td>0.146764</td>\n",
       "      <td>0.001973</td>\n",
       "      <td>0.267476</td>\n",
       "      <td>0.271672</td>\n",
       "      <td>0.101124</td>\n",
       "      <td>0.134827</td>\n",
       "      <td>0.274967</td>\n",
       "      <td>0.002823</td>\n",
       "      <td>0.001907</td>\n",
       "      <td>0.338761</td>\n",
       "      <td>0.141327</td>\n",
       "      <td>0.477740</td>\n",
       "      <td>0.052461</td>\n",
       "      <td>0.367679</td>\n",
       "      <td>0.021238</td>\n",
       "      <td>0.594705</td>\n",
       "      <td>0.016379</td>\n",
       "      <td>0.067195</td>\n",
       "    </tr>\n",
       "    <tr>\n",
       "      <th>std</th>\n",
       "      <td>0.076919</td>\n",
       "      <td>0.283352</td>\n",
       "      <td>0.044370</td>\n",
       "      <td>0.078389</td>\n",
       "      <td>0.165372</td>\n",
       "      <td>0.146936</td>\n",
       "      <td>0.129204</td>\n",
       "      <td>0.105880</td>\n",
       "      <td>0.053058</td>\n",
       "      <td>0.043628</td>\n",
       "      <td>0.167657</td>\n",
       "      <td>0.150205</td>\n",
       "      <td>0.294280</td>\n",
       "      <td>0.046167</td>\n",
       "      <td>0.482174</td>\n",
       "      <td>0.144177</td>\n",
       "      <td>0.490950</td>\n",
       "      <td>0.126927</td>\n",
       "      <td>0.250359</td>\n",
       "    </tr>\n",
       "    <tr>\n",
       "      <th>min</th>\n",
       "      <td>0.000000</td>\n",
       "      <td>0.000000</td>\n",
       "      <td>0.000000</td>\n",
       "      <td>0.000000</td>\n",
       "      <td>0.000000</td>\n",
       "      <td>0.000000</td>\n",
       "      <td>0.000000</td>\n",
       "      <td>0.000000</td>\n",
       "      <td>0.000000</td>\n",
       "      <td>0.000000</td>\n",
       "      <td>0.000000</td>\n",
       "      <td>0.000000</td>\n",
       "      <td>0.000000</td>\n",
       "      <td>0.000000</td>\n",
       "      <td>0.000000</td>\n",
       "      <td>0.000000</td>\n",
       "      <td>0.000000</td>\n",
       "      <td>0.000000</td>\n",
       "      <td>0.000000</td>\n",
       "    </tr>\n",
       "    <tr>\n",
       "      <th>25%</th>\n",
       "      <td>0.052632</td>\n",
       "      <td>0.000000</td>\n",
       "      <td>0.000000</td>\n",
       "      <td>0.250000</td>\n",
       "      <td>0.152720</td>\n",
       "      <td>0.003607</td>\n",
       "      <td>0.056012</td>\n",
       "      <td>0.190476</td>\n",
       "      <td>0.000000</td>\n",
       "      <td>0.000000</td>\n",
       "      <td>0.166667</td>\n",
       "      <td>0.019186</td>\n",
       "      <td>0.222222</td>\n",
       "      <td>0.025497</td>\n",
       "      <td>0.000000</td>\n",
       "      <td>0.000000</td>\n",
       "      <td>0.000000</td>\n",
       "      <td>0.000000</td>\n",
       "      <td>0.000000</td>\n",
       "    </tr>\n",
       "    <tr>\n",
       "      <th>50%</th>\n",
       "      <td>0.052632</td>\n",
       "      <td>0.000000</td>\n",
       "      <td>0.000000</td>\n",
       "      <td>0.250000</td>\n",
       "      <td>0.233637</td>\n",
       "      <td>0.051027</td>\n",
       "      <td>0.112929</td>\n",
       "      <td>0.238095</td>\n",
       "      <td>0.000000</td>\n",
       "      <td>0.000000</td>\n",
       "      <td>0.333333</td>\n",
       "      <td>0.108603</td>\n",
       "      <td>0.444444</td>\n",
       "      <td>0.040725</td>\n",
       "      <td>0.000000</td>\n",
       "      <td>0.000000</td>\n",
       "      <td>1.000000</td>\n",
       "      <td>0.000000</td>\n",
       "      <td>0.000000</td>\n",
       "    </tr>\n",
       "    <tr>\n",
       "      <th>75%</th>\n",
       "      <td>0.157895</td>\n",
       "      <td>0.000000</td>\n",
       "      <td>0.000000</td>\n",
       "      <td>0.333333</td>\n",
       "      <td>0.353258</td>\n",
       "      <td>0.139002</td>\n",
       "      <td>0.178220</td>\n",
       "      <td>0.333333</td>\n",
       "      <td>0.000000</td>\n",
       "      <td>0.000000</td>\n",
       "      <td>0.500000</td>\n",
       "      <td>0.214352</td>\n",
       "      <td>0.666667</td>\n",
       "      <td>0.063016</td>\n",
       "      <td>1.000000</td>\n",
       "      <td>0.000000</td>\n",
       "      <td>1.000000</td>\n",
       "      <td>0.000000</td>\n",
       "      <td>0.000000</td>\n",
       "    </tr>\n",
       "    <tr>\n",
       "      <th>max</th>\n",
       "      <td>1.000000</td>\n",
       "      <td>1.000000</td>\n",
       "      <td>1.000000</td>\n",
       "      <td>1.000000</td>\n",
       "      <td>1.000000</td>\n",
       "      <td>1.000000</td>\n",
       "      <td>1.000000</td>\n",
       "      <td>1.000000</td>\n",
       "      <td>1.000000</td>\n",
       "      <td>1.000000</td>\n",
       "      <td>1.000000</td>\n",
       "      <td>1.000000</td>\n",
       "      <td>1.000000</td>\n",
       "      <td>1.000000</td>\n",
       "      <td>1.000000</td>\n",
       "      <td>1.000000</td>\n",
       "      <td>1.000000</td>\n",
       "      <td>1.000000</td>\n",
       "      <td>1.000000</td>\n",
       "    </tr>\n",
       "  </tbody>\n",
       "</table>\n",
       "</div>"
      ],
      "text/plain": [
       "          Num_People       Lot_Size    Has_Bathtub   Num_Bedrooms  \\\n",
       "count  533806.000000  533806.000000  533806.000000  533806.000000   \n",
       "mean        0.086461       0.146764       0.001973       0.267476   \n",
       "std         0.076919       0.283352       0.044370       0.078389   \n",
       "min         0.000000       0.000000       0.000000       0.000000   \n",
       "25%         0.052632       0.000000       0.000000       0.250000   \n",
       "50%         0.052632       0.000000       0.000000       0.250000   \n",
       "75%         0.157895       0.000000       0.000000       0.333333   \n",
       "max         1.000000       1.000000       1.000000       1.000000   \n",
       "\n",
       "       Monthly_Electric    Monthly_Gas  Yearly_Insurance_Cost      Num_Rooms  \\\n",
       "count     533806.000000  533806.000000          533806.000000  533806.000000   \n",
       "mean           0.271672       0.101124               0.134827       0.274967   \n",
       "std            0.165372       0.146936               0.129204       0.105880   \n",
       "min            0.000000       0.000000               0.000000       0.000000   \n",
       "25%            0.152720       0.003607               0.056012       0.190476   \n",
       "50%            0.233637       0.051027               0.112929       0.238095   \n",
       "75%            0.353258       0.139002               0.178220       0.333333   \n",
       "max            1.000000       1.000000               1.000000       1.000000   \n",
       "\n",
       "       Has_Hot_Water       Has_Sink   Num_Vehicles   Yearly_Water  \\\n",
       "count  533806.000000  533806.000000  533806.000000  533806.000000   \n",
       "mean        0.002823       0.001907       0.338761       0.141327   \n",
       "std         0.053058       0.043628       0.167657       0.150205   \n",
       "min         0.000000       0.000000       0.000000       0.000000   \n",
       "25%         0.000000       0.000000       0.166667       0.019186   \n",
       "50%         0.000000       0.000000       0.333333       0.108603   \n",
       "75%         0.000000       0.000000       0.500000       0.214352   \n",
       "max         1.000000       1.000000       1.000000       1.000000   \n",
       "\n",
       "                 Age  Household_Income             NY             ND  \\\n",
       "count  533806.000000     533806.000000  533806.000000  533806.000000   \n",
       "mean        0.477740          0.052461       0.367679       0.021238   \n",
       "std         0.294280          0.046167       0.482174       0.144177   \n",
       "min         0.000000          0.000000       0.000000       0.000000   \n",
       "25%         0.222222          0.025497       0.000000       0.000000   \n",
       "50%         0.444444          0.040725       0.000000       0.000000   \n",
       "75%         0.666667          0.063016       1.000000       0.000000   \n",
       "max         1.000000          1.000000       1.000000       1.000000   \n",
       "\n",
       "                  TX             WY    Mobile_Home  \n",
       "count  533806.000000  533806.000000  533806.000000  \n",
       "mean        0.594705       0.016379       0.067195  \n",
       "std         0.490950       0.126927       0.250359  \n",
       "min         0.000000       0.000000       0.000000  \n",
       "25%         0.000000       0.000000       0.000000  \n",
       "50%         1.000000       0.000000       0.000000  \n",
       "75%         1.000000       0.000000       0.000000  \n",
       "max         1.000000       1.000000       1.000000  "
      ]
     },
     "execution_count": 10,
     "metadata": {},
     "output_type": "execute_result"
    }
   ],
   "source": [
    "X = pd.DataFrame(preprocessing.minmax_scale(X))\n",
    "X.columns = X_names\n",
    "X.describe()"
   ]
  },
  {
   "cell_type": "markdown",
   "metadata": {},
   "source": [
    "Let's split the data into training and testing sets and see how a simple linear regression performs to get a sense of how difficult this problem might be."
>>>>>>> c5801553cbb0e3befb17afcfc7f78cd82ded8382
   ]
  },
  {
   "cell_type": "code",
   "execution_count": 11,
   "metadata": {
    "collapsed": false
   },
   "outputs": [],
   "source": [
    "X = cols[[col for col in cols if col != 'Price']]\n",
    "Y = cols.Price\n",
    "#split into test and train\n",
    "ttsplit = model_selection.train_test_split\n",
    "X_train, X_test, y_train, y_test = ttsplit(X, Y, test_size = 0.3, random_state = 4)\n",
    "#the random state here is chosen explicitly so that the code is reproducible"
   ]
  },
  {
   "cell_type": "code",
   "execution_count": 12,
   "metadata": {
    "collapsed": false
   },
   "outputs": [
    {
     "name": "stdout",
     "output_type": "stream",
     "text": [
<<<<<<< HEAD
      "CPU times: user 1.02 s, sys: 212 ms, total: 1.23 s\n",
      "Wall time: 1.08 s\n"
=======
      "CPU times: user 994 ms, sys: 143 ms, total: 1.14 s\n",
      "Wall time: 2.19 s\n"
>>>>>>> c5801553cbb0e3befb17afcfc7f78cd82ded8382
     ]
    }
   ],
   "source": [
    "%%time\n",
    "\n",
    "lm = linear_model.LinearRegression()\n",
    "lm.fit(X_train, y_train)"
   ]
  },
  {
   "cell_type": "code",
   "execution_count": 13,
   "metadata": {
    "collapsed": false
   },
   "outputs": [
    {
     "name": "stdout",
     "output_type": "stream",
     "text": [
<<<<<<< HEAD
      "CPU times: user 63.1 ms, sys: 34 ms, total: 97.1 ms\n",
      "Wall time: 106 ms\n"
=======
      "CPU times: user 59.5 ms, sys: 5.64 ms, total: 65.1 ms\n",
      "Wall time: 91.4 ms\n"
>>>>>>> c5801553cbb0e3befb17afcfc7f78cd82ded8382
     ]
    },
    {
     "data": {
      "text/plain": [
<<<<<<< HEAD
       "0.38382622989476545"
=======
       "0.38254921583202128"
>>>>>>> c5801553cbb0e3befb17afcfc7f78cd82ded8382
      ]
     },
     "execution_count": 13,
     "metadata": {},
     "output_type": "execute_result"
    }
   ],
   "source": [
    "%%time\n",
    "\n",
    "lm.score(X_test, y_test)"
   ]
  },
  {
   "cell_type": "markdown",
   "metadata": {},
   "source": [
<<<<<<< HEAD
    "The linear classifier is performing poorly, at less than 40% accuracy. It may be enlightening to see the distribution of homes partitioned into extremely low priced (< 10,000 USD), low priced (10,000-99,999 USD), medium priced (100,000-499,999 USD), and high priced (> 500,000 USD)."
=======
    "The linear classifier is performing poorly, at less than 40% accurate. In order to see where the problem is, I want to see if there is some group of observations with poor predictability. We will partition the homes by price into extremely low priced (< 10,000 USD), low priced (10,000-99,999 USD), medium priced (100,000-499,999 USD), and high priced (> 500,000 USD)."
   ]
  },
  {
   "cell_type": "code",
   "execution_count": 16,
   "metadata": {
    "collapsed": false
   },
   "outputs": [
    {
     "data": {
      "image/png": "iVBORw0KGgoAAAANSUhEUgAAAZsAAAEOCAYAAABfM7oIAAAABHNCSVQICAgIfAhkiAAAAAlwSFlz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\nG0lSd4aNJKk7w0aS1J1hI0nq7v8D9n2gyldTUzoAAAAASUVORK5CYII=\n",
      "text/plain": [
       "<matplotlib.figure.Figure at 0x1060f18d0>"
      ]
     },
     "metadata": {},
     "output_type": "display_data"
    }
   ],
   "source": [
    "%matplotlib inline\n",
    "\n",
    "plt.hist(Y, bins=[100,10000,100000,500000,max(Y)])\n",
    "plt.xlabel(\"Price\")\n",
    "plt.ylabel(\"Number of Homes\")\n",
    "plt.xscale('log')"
   ]
  },
  {
   "cell_type": "markdown",
   "metadata": {},
   "source": [
    "The number of homes priced at less than $10,000 is significant, at almost 2 percent of the data (see next cell). I first want to see if these homes have any predictability or if they are possibly reported erroneously. Since set of extremely low prices is quite small in proportion to the total dataset I am undersampling the larger class."
   ]
  },
  {
   "cell_type": "code",
   "execution_count": 18,
   "metadata": {
    "collapsed": false
   },
   "outputs": [
    {
     "data": {
      "text/plain": [
       "0.017779867592346284"
      ]
     },
     "execution_count": 18,
     "metadata": {},
     "output_type": "execute_result"
    }
   ],
   "source": [
    "sum(Y < 10000)/len(Y)"
>>>>>>> c5801553cbb0e3befb17afcfc7f78cd82ded8382
   ]
  },
  {
   "cell_type": "code",
<<<<<<< HEAD
   "execution_count": 14,
=======
   "execution_count": 19,
>>>>>>> c5801553cbb0e3befb17afcfc7f78cd82ded8382
   "metadata": {
    "collapsed": false
   },
   "outputs": [
    {
     "data": {
      "text/plain": [
<<<<<<< HEAD
       "<matplotlib.text.Text at 0x1a12ecb518>"
      ]
     },
     "execution_count": 14,
=======
       "0.91360842844600532"
      ]
     },
     "execution_count": 19,
>>>>>>> c5801553cbb0e3befb17afcfc7f78cd82ded8382
     "metadata": {},
     "output_type": "execute_result"
    },
    {
     "data": {
      "image/png": "iVBORw0KGgoAAAANSUhEUgAAAZsAAAEWCAYAAACwtjr+AAAABHNCSVQICAgIfAhkiAAAAAlwSFlz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\nMTOz0jnZmJlZ6f4X7BMpjRy43h4AAAAASUVORK5CYII=\n",
      "text/plain": [
       "<matplotlib.figure.Figure at 0x110a1ef60>"
      ]
     },
     "metadata": {},
     "output_type": "display_data"
    }
   ],
   "source": [
    "%matplotlib inline\n",
    "\n",
    "cat_counts = [sum((Y>=a)&(Y<b)) for a,b in [(0,20000),\n",
    "                                            (20000,100000),\n",
    "                                            (100000,500000),\n",
    "                                            (500000,10**20)]]\n",
    "\n",
    "plt.bar(range(4),cat_counts)\n",
    "plt.xlabel(\"Category\")\n",
    "plt.ylabel(\"Number of Homes\")\n",
    "plt.xticks(range(4),[\"Extremely Low\", \"Low\", \"Medium\", \"High\"])\n",
    "plt.title('Number of houses in each price range')"
   ]
  },
  {
   "cell_type": "markdown",
   "metadata": {},
   "source": [
    "Perhaps there are unnecessary features in the dataset. I would like to see if the Crowding feature I added above is actually helping in prediction. The boxplots below show that the median values are fairly close for each category but the extreme values for the Crowding variable give us some information on the price of the home.\n",
    "\n",
    "It appears that higher priced homes tend to not be overcrowded as often as lower priced homes."
   ]
  },
  {
   "cell_type": "code",
<<<<<<< HEAD
   "execution_count": 26,
=======
   "execution_count": 20,
>>>>>>> c5801553cbb0e3befb17afcfc7f78cd82ded8382
   "metadata": {
    "collapsed": false
   },
   "outputs": [
    {
     "data": {
<<<<<<< HEAD
      "text/plain": [
       "<matplotlib.text.Text at 0x1a2aac8cc0>"
      ]
     },
     "execution_count": 26,
=======
      "text/html": [
       "<div>\n",
       "<style scoped>\n",
       "    .dataframe tbody tr th:only-of-type {\n",
       "        vertical-align: middle;\n",
       "    }\n",
       "\n",
       "    .dataframe tbody tr th {\n",
       "        vertical-align: top;\n",
       "    }\n",
       "\n",
       "    .dataframe thead th {\n",
       "        text-align: right;\n",
       "    }\n",
       "</style>\n",
       "<table border=\"1\" class=\"dataframe\">\n",
       "  <thead>\n",
       "    <tr style=\"text-align: right;\">\n",
       "      <th></th>\n",
       "      <th>NY</th>\n",
       "      <th>ND</th>\n",
       "      <th>TX</th>\n",
       "      <th>WY</th>\n",
       "    </tr>\n",
       "  </thead>\n",
       "  <tbody>\n",
       "    <tr>\n",
       "      <th>count</th>\n",
       "      <td>9491.000000</td>\n",
       "      <td>9491.000000</td>\n",
       "      <td>9491.000000</td>\n",
       "      <td>9491.000000</td>\n",
       "    </tr>\n",
       "    <tr>\n",
       "      <th>mean</th>\n",
       "      <td>0.293014</td>\n",
       "      <td>0.036982</td>\n",
       "      <td>0.640080</td>\n",
       "      <td>0.029923</td>\n",
       "    </tr>\n",
       "    <tr>\n",
       "      <th>std</th>\n",
       "      <td>0.455169</td>\n",
       "      <td>0.188729</td>\n",
       "      <td>0.480002</td>\n",
       "      <td>0.170384</td>\n",
       "    </tr>\n",
       "    <tr>\n",
       "      <th>min</th>\n",
       "      <td>0.000000</td>\n",
       "      <td>0.000000</td>\n",
       "      <td>0.000000</td>\n",
       "      <td>0.000000</td>\n",
       "    </tr>\n",
       "    <tr>\n",
       "      <th>25%</th>\n",
       "      <td>0.000000</td>\n",
       "      <td>0.000000</td>\n",
       "      <td>0.000000</td>\n",
       "      <td>0.000000</td>\n",
       "    </tr>\n",
       "    <tr>\n",
       "      <th>50%</th>\n",
       "      <td>0.000000</td>\n",
       "      <td>0.000000</td>\n",
       "      <td>1.000000</td>\n",
       "      <td>0.000000</td>\n",
       "    </tr>\n",
       "    <tr>\n",
       "      <th>75%</th>\n",
       "      <td>1.000000</td>\n",
       "      <td>0.000000</td>\n",
       "      <td>1.000000</td>\n",
       "      <td>0.000000</td>\n",
       "    </tr>\n",
       "    <tr>\n",
       "      <th>max</th>\n",
       "      <td>1.000000</td>\n",
       "      <td>1.000000</td>\n",
       "      <td>1.000000</td>\n",
       "      <td>1.000000</td>\n",
       "    </tr>\n",
       "  </tbody>\n",
       "</table>\n",
       "</div>"
      ],
      "text/plain": [
       "                NY           ND           TX           WY\n",
       "count  9491.000000  9491.000000  9491.000000  9491.000000\n",
       "mean      0.293014     0.036982     0.640080     0.029923\n",
       "std       0.455169     0.188729     0.480002     0.170384\n",
       "min       0.000000     0.000000     0.000000     0.000000\n",
       "25%       0.000000     0.000000     0.000000     0.000000\n",
       "50%       0.000000     0.000000     1.000000     0.000000\n",
       "75%       1.000000     0.000000     1.000000     0.000000\n",
       "max       1.000000     1.000000     1.000000     1.000000"
      ]
     },
     "execution_count": 20,
>>>>>>> c5801553cbb0e3befb17afcfc7f78cd82ded8382
     "metadata": {},
     "output_type": "execute_result"
    },
    {
     "data": {
      "image/png": "iVBORw0KGgoAAAANSUhEUgAAAY4AAAD8CAYAAABgmUMCAAAABHNCSVQICAgIfAhkiAAAAAlwSFlz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\n",
      "text/plain": [
       "<matplotlib.figure.Figure at 0x1a12c254a8>"
      ]
     },
     "metadata": {},
     "output_type": "display_data"
    }
   ],
   "source": [
    "extreme_lows = X[Y<10000]\n",
    "lows = X[(Y>=10000) & (Y<100000)]\n",
    "mediums = X[(Y>=100000) & (Y<500000)]\n",
    "highs = X[Y>=500000]\n",
    "\n",
    "plt.boxplot([extreme_lows.Crowding, lows.Crowding, mediums.Crowding, highs.Crowding], whis=[0.1, 99.9])\n",
    "plt.yscale('log')\n",
    "plt.xticks(range(1,5), ['Extreme Low', 'Low', 'Medium', 'High'])\n",
    "plt.ylabel(\"Number of people per room\")"
   ]
  },
  {
   "cell_type": "markdown",
   "metadata": {},
   "source": [
<<<<<<< HEAD
    "The linear regressor used above is relatively weak. Let's try a more robust regression algorithm. An ensemble approach such as random forest can increase accuracy while still not being prone to overfitting. As we will see, it performs slower than linear regression, but is still faster than other algorithms such as SVM. We will use scikit-learn's [GridSearchCV](http://scikit-learn.org/stable/modules/generated/sklearn.model_selection.GridSearchCV.html) to tune random forest's hyperparameters."
   ]
  },
  {
   "cell_type": "code",
   "execution_count": 15,
   "metadata": {
    "collapsed": false,
    "scrolled": true
   },
   "outputs": [
    {
     "data": {
      "text/plain": [
       "GridSearchCV(cv=None, error_score='raise',\n",
       "       estimator=RandomForestRegressor(bootstrap=True, criterion='mse', max_depth=None,\n",
       "           max_features='auto', max_leaf_nodes=None,\n",
       "           min_impurity_decrease=0.0, min_impurity_split=None,\n",
       "           min_samples_leaf=1, min_samples_split=2,\n",
       "           min_weight_fraction_leaf=0.0, n_estimators=250, n_jobs=1,\n",
       "           oob_score=False, random_state=None, verbose=0, warm_start=False),\n",
       "       fit_params=None, iid=True, n_jobs=-1,\n",
       "       param_grid={'max_features': [3, 4, 5]}, pre_dispatch='2*n_jobs',\n",
       "       refit=True, return_train_score='warn', scoring=None, verbose=0)"
      ]
     },
     "execution_count": 15,
     "metadata": {},
     "output_type": "execute_result"
    }
   ],
   "source": [
    "reg = RandomForestRegressor(n_estimators=250)\n",
    "params = {'max_features':[3,4,5]}\n",
    "gs = model_selection.GridSearchCV(estimator=reg, param_grid=params, n_jobs=-1)\n",
    "gs.fit(X_train,y_train)"
=======
    "Apparently there is a relatively large level of predictability with the extremely low priced homes, with a correct classification 91.4% of the time. The extremely low priced observations also do not appear to be concentrated in any one state. Compare the distribution of extremely low priced homes above with the next cell showing distribution of all records."
>>>>>>> c5801553cbb0e3befb17afcfc7f78cd82ded8382
   ]
  },
  {
   "cell_type": "code",
   "execution_count": 21,
   "metadata": {
    "collapsed": false
   },
   "outputs": [
    {
<<<<<<< HEAD
     "name": "stdout",
     "output_type": "stream",
     "text": [
      "CPU times: user 6min 40s, sys: 11.5 s, total: 6min 51s\n",
      "Wall time: 6min 53s\n"
     ]
=======
     "data": {
      "text/html": [
       "<div>\n",
       "<style scoped>\n",
       "    .dataframe tbody tr th:only-of-type {\n",
       "        vertical-align: middle;\n",
       "    }\n",
       "\n",
       "    .dataframe tbody tr th {\n",
       "        vertical-align: top;\n",
       "    }\n",
       "\n",
       "    .dataframe thead th {\n",
       "        text-align: right;\n",
       "    }\n",
       "</style>\n",
       "<table border=\"1\" class=\"dataframe\">\n",
       "  <thead>\n",
       "    <tr style=\"text-align: right;\">\n",
       "      <th></th>\n",
       "      <th>NY</th>\n",
       "      <th>ND</th>\n",
       "      <th>TX</th>\n",
       "      <th>WY</th>\n",
       "    </tr>\n",
       "  </thead>\n",
       "  <tbody>\n",
       "    <tr>\n",
       "      <th>count</th>\n",
       "      <td>533806.000000</td>\n",
       "      <td>533806.000000</td>\n",
       "      <td>533806.000000</td>\n",
       "      <td>533806.000000</td>\n",
       "    </tr>\n",
       "    <tr>\n",
       "      <th>mean</th>\n",
       "      <td>0.367679</td>\n",
       "      <td>0.021238</td>\n",
       "      <td>0.594705</td>\n",
       "      <td>0.016379</td>\n",
       "    </tr>\n",
       "    <tr>\n",
       "      <th>std</th>\n",
       "      <td>0.482174</td>\n",
       "      <td>0.144177</td>\n",
       "      <td>0.490950</td>\n",
       "      <td>0.126927</td>\n",
       "    </tr>\n",
       "    <tr>\n",
       "      <th>min</th>\n",
       "      <td>0.000000</td>\n",
       "      <td>0.000000</td>\n",
       "      <td>0.000000</td>\n",
       "      <td>0.000000</td>\n",
       "    </tr>\n",
       "    <tr>\n",
       "      <th>25%</th>\n",
       "      <td>0.000000</td>\n",
       "      <td>0.000000</td>\n",
       "      <td>0.000000</td>\n",
       "      <td>0.000000</td>\n",
       "    </tr>\n",
       "    <tr>\n",
       "      <th>50%</th>\n",
       "      <td>0.000000</td>\n",
       "      <td>0.000000</td>\n",
       "      <td>1.000000</td>\n",
       "      <td>0.000000</td>\n",
       "    </tr>\n",
       "    <tr>\n",
       "      <th>75%</th>\n",
       "      <td>1.000000</td>\n",
       "      <td>0.000000</td>\n",
       "      <td>1.000000</td>\n",
       "      <td>0.000000</td>\n",
       "    </tr>\n",
       "    <tr>\n",
       "      <th>max</th>\n",
       "      <td>1.000000</td>\n",
       "      <td>1.000000</td>\n",
       "      <td>1.000000</td>\n",
       "      <td>1.000000</td>\n",
       "    </tr>\n",
       "  </tbody>\n",
       "</table>\n",
       "</div>"
      ],
      "text/plain": [
       "                  NY             ND             TX             WY\n",
       "count  533806.000000  533806.000000  533806.000000  533806.000000\n",
       "mean        0.367679       0.021238       0.594705       0.016379\n",
       "std         0.482174       0.144177       0.490950       0.126927\n",
       "min         0.000000       0.000000       0.000000       0.000000\n",
       "25%         0.000000       0.000000       0.000000       0.000000\n",
       "50%         0.000000       0.000000       1.000000       0.000000\n",
       "75%         1.000000       0.000000       1.000000       0.000000\n",
       "max         1.000000       1.000000       1.000000       1.000000"
      ]
     },
     "execution_count": 21,
     "metadata": {},
     "output_type": "execute_result"
>>>>>>> c5801553cbb0e3befb17afcfc7f78cd82ded8382
    }
   ],
   "source": [
    "%%time\n",
    "reg = gs.best_estimator_\n",
    "reg.fit(X_train,y_train)"
   ]
  },
  {
   "cell_type": "code",
<<<<<<< HEAD
   "execution_count": 18,
   "metadata": {
    "collapsed": false
   },
   "outputs": [
    {
     "name": "stdout",
     "output_type": "stream",
     "text": [
      "Train score: 0.926431639955\n",
      "Test score: 0.47078361361\n",
      "CPU times: user 2min 4s, sys: 32.8 s, total: 2min 37s\n",
      "Wall time: 2min 45s\n"
     ]
    }
   ],
   "source": [
    "%%time\n",
    "print(\"Train score:\", reg.score(X_train, y_train))\n",
    "print(\"Test score:\", reg.score(X_test, y_test))"
   ]
  },
  {
   "cell_type": "markdown",
   "metadata": {},
   "source": [
    "This regressor is incredibly overfit, as the test score is over 45% lower than the train score. I want to see if there are any differences in the class balance in the testing and training sets."
   ]
  },
  {
   "cell_type": "code",
   "execution_count": 19,
=======
   "execution_count": 22,
>>>>>>> c5801553cbb0e3befb17afcfc7f78cd82ded8382
   "metadata": {
    "collapsed": false,
    "scrolled": true
   },
   "outputs": [
    {
<<<<<<< HEAD
     "name": "stdout",
     "output_type": "stream",
     "text": [
      "Training set extreme lows: 6710\n",
      "Expected test set extreme lows: 2875.714285714286\n",
      "Actual test set extreme lows: 2781\n",
      "Training set lows: 118778\n",
      "Expected test set lows: 50904.857142857145\n",
      "Actual test set lows: 50579\n",
      "Training set medium: 330224\n",
      "Expected test set medium: 141524.57142857142\n",
      "Actual test set medium: 141461\n",
      "Training set high: 36730\n",
      "Expected test set high: 15741.42857142857\n",
      "Actual test set high: 15900\n"
     ]
=======
     "data": {
      "text/plain": [
       "0.81759582738768888"
      ]
     },
     "execution_count": 22,
     "metadata": {},
     "output_type": "execute_result"
>>>>>>> c5801553cbb0e3befb17afcfc7f78cd82ded8382
    }
   ],
   "source": [
    "print(\"Training set extreme lows:\", sum(y_train < 10000))\n",
    "print(\"Expected test set extreme lows:\", sum(y_train < 10000) * 3/7)\n",
    "print(\"Actual test set extreme lows:\", sum(y_test < 10000))\n",
    "print(\"Training set lows:\", sum(y_train < 100000))\n",
    "print(\"Expected test set lows:\", sum(y_train < 100000) * 3/7)\n",
    "print(\"Actual test set lows:\", sum(y_test < 100000))\n",
    "print(\"Training set medium:\", sum((y_train >= 10000) & (y_train < 500000)))\n",
    "print(\"Expected test set medium:\", sum((y_train >= 10000) & (y_train < 500000)) * 3/7)\n",
    "print(\"Actual test set medium:\", sum((y_test >= 10000) & (y_test < 500000)))\n",
    "print(\"Training set high:\", sum(y_train >= 500000))\n",
    "print(\"Expected test set high:\", sum(y_train >= 500000) * 3/7)\n",
    "print(\"Actual test set high:\", sum(y_test >= 500000))"
   ]
  },
  {
   "cell_type": "markdown",
   "metadata": {},
   "source": [
<<<<<<< HEAD
    "# Part IV: A Different Approach\n",
    "\n",
    "Apparently there is not a class imbalance in the training and test set. Perhaps regression is not the appropriate approach to this problem. We do not need the granularity of regression here. Let's assign a class to our homes assigning each one to a group given above."
=======
    "The low priced homes are correctly classified approximately 81% of the time.\n",
    "\n",
    "The majority of the homes are between \\$100,000 and \\$500,000. We will not want to undersample here."
>>>>>>> c5801553cbb0e3befb17afcfc7f78cd82ded8382
   ]
  },
  {
   "cell_type": "code",
<<<<<<< HEAD
   "execution_count": 27,
   "metadata": {
    "collapsed": false
   },
   "outputs": [],
   "source": [
    "Yclass = np.zeros(len(Y))\n",
    "Yclass[Y < 10000] = 1\n",
    "Yclass[(Y>=10000) & (Y<100000)] = 2\n",
    "Yclass[(Y>=100000) & (Y<500000)] = 3\n",
    "Yclass[Y>=500000] = 4\n",
    "\n",
    "X_train, X_test, y_train, y_test = ttsplit(X, Yclass, test_size = 0.3, random_state = 4)"
=======
   "execution_count": 23,
   "metadata": {
    "collapsed": false
   },
   "outputs": [
    {
     "data": {
      "text/plain": [
       "0.76064228367528997"
      ]
     },
     "execution_count": 23,
     "metadata": {},
     "output_type": "execute_result"
    }
   ],
   "source": [
    "ythis = y_train.copy()\n",
    "ythis[(ythis>=100000) & (ythis<500000)] = 1\n",
    "ythis[ythis > 1] = 0\n",
    "\n",
    "xthis = X_train.loc[ythis.index, :]\n",
    "\n",
    "xtrainthis, xtestthis, ytrainthis, ytestthis= ttsplit(xthis,\n",
    "                                                      ythis,\n",
    "                                                      test_size = .3,\n",
    "                                                      random_state=4)\n",
    "clf = RandomForestClassifier(n_estimators = 50, n_jobs = -1)\n",
    "clf.fit(xtrainthis, ytrainthis)\n",
    "clf.score(xtestthis, ytestthis)"
>>>>>>> c5801553cbb0e3befb17afcfc7f78cd82ded8382
   ]
  },
  {
   "cell_type": "markdown",
   "metadata": {},
   "source": [
<<<<<<< HEAD
    "Now that we have a class distribution, let's run a multiclass classifier to see how well it scores all of the extremely low, low, medium and high price homes."
=======
    "Finally, we will want to test how well we can predict homes priced over $500,000."
>>>>>>> c5801553cbb0e3befb17afcfc7f78cd82ded8382
   ]
  },
  {
   "cell_type": "code",
<<<<<<< HEAD
   "execution_count": 28,
   "metadata": {
    "collapsed": false,
    "scrolled": false
=======
   "execution_count": 24,
   "metadata": {
    "collapsed": false
>>>>>>> c5801553cbb0e3befb17afcfc7f78cd82ded8382
   },
   "outputs": [
    {
     "data": {
      "text/plain": [
<<<<<<< HEAD
       "RandomForestClassifier(bootstrap=True, class_weight=None, criterion='gini',\n",
       "            max_depth=None, max_features=4, max_leaf_nodes=None,\n",
       "            min_impurity_decrease=0.0, min_impurity_split=None,\n",
       "            min_samples_leaf=1, min_samples_split=2,\n",
       "            min_weight_fraction_leaf=0.0, n_estimators=250, n_jobs=1,\n",
       "            oob_score=False, random_state=None, verbose=0,\n",
       "            warm_start=False)"
      ]
     },
     "execution_count": 28,
=======
       "0.83437836468427384"
      ]
     },
     "execution_count": 24,
>>>>>>> c5801553cbb0e3befb17afcfc7f78cd82ded8382
     "metadata": {},
     "output_type": "execute_result"
    }
   ],
<<<<<<< HEAD
   "source": [
    "params = reg.get_params()\n",
    "params['criterion']='gini'\n",
    "clf = RandomForestClassifier()\n",
    "clf.set_params(**params)"
=======
   "source": [
    "ythis = Y[Y >= 500000].copy()\n",
    "ythis = pd.concat([ythis, y_train[y_train < 500000].head(len(ythis)).copy()])\n",
    "ythis[ythis >= 500000] = 1\n",
    "ythis[ythis > 1] = 0\n",
    "\n",
    "xthis = X.loc[ythis.index, :]\n",
    "\n",
    "xtrainthis, xtestthis, ytrainthis, ytestthis= ttsplit(xthis,\n",
    "                                                      ythis,\n",
    "                                                      test_size = .3,\n",
    "                                                      random_state=4)\n",
    "\n",
    "clf = RandomForestClassifier(n_estimators = 50, n_jobs = -1)\n",
    "clf.fit(xtrainthis, ytrainthis)\n",
    "clf.score(xtestthis, ytestthis)"
   ]
  },
  {
   "cell_type": "markdown",
   "metadata": {},
   "source": [
    "Apparently all of our classes are fairly predictable, as the classifier was able to score all classes accurately.\n",
    "\n",
    "## Part IV: Regression Pass 2\n",
    "\n",
    "Now that we know each of our classes is relatively predictable we will see if possibly the problem is our algorithm. The linear regressor used above is relatively weak. Let's try a more robust regression algorithm."
   ]
  },
  {
   "cell_type": "code",
   "execution_count": 27,
   "metadata": {
    "collapsed": false,
    "scrolled": true
   },
   "outputs": [
    {
     "name": "stdout",
     "output_type": "stream",
     "text": [
      "CPU times: user 48min 13s, sys: 1min 4s, total: 49min 18s\n",
      "Wall time: 30min 2s\n"
     ]
    }
   ],
   "source": [
    "%%time\n",
    "\n",
    "RFreg = RandomForestRegressor(n_jobs = -1)\n",
    "params = {'n_estimators':[10,20,50,100]}\n",
    "gs = model_selection.GridSearchCV(estimator=RFreg, param_grid=params)\n",
    "gs.fit(X_train,y_train)\n",
    "RFreg = gs.best_estimator_"
>>>>>>> c5801553cbb0e3befb17afcfc7f78cd82ded8382
   ]
  },
  {
   "cell_type": "code",
<<<<<<< HEAD
   "execution_count": 29,
=======
   "execution_count": 28,
>>>>>>> c5801553cbb0e3befb17afcfc7f78cd82ded8382
   "metadata": {
    "collapsed": false
   },
   "outputs": [
    {
     "name": "stdout",
     "output_type": "stream",
     "text": [
<<<<<<< HEAD
      "CPU times: user 8min 27s, sys: 12.7 s, total: 8min 40s\n",
      "Wall time: 10min 20s\n"
     ]
    },
    {
     "data": {
      "text/plain": [
       "RandomForestClassifier(bootstrap=True, class_weight=None, criterion='gini',\n",
       "            max_depth=None, max_features=4, max_leaf_nodes=None,\n",
       "            min_impurity_decrease=0.0, min_impurity_split=None,\n",
       "            min_samples_leaf=1, min_samples_split=2,\n",
       "            min_weight_fraction_leaf=0.0, n_estimators=250, n_jobs=1,\n",
       "            oob_score=False, random_state=None, verbose=0,\n",
       "            warm_start=False)"
      ]
     },
     "execution_count": 29,
     "metadata": {},
     "output_type": "execute_result"
    }
   ],
   "source": [
    "%%time\n",
    "\n",
=======
      "Train score: 0.920597198615\n",
      "Test score: 0.4376745127\n",
      "CPU times: user 1min 4s, sys: 14.8 s, total: 1min 19s\n",
      "Wall time: 56.2 s\n"
     ]
    }
   ],
   "source": [
    "%%time\n",
    "print(\"Train score:\", RFreg.score(X_train, y_train))\n",
    "print(\"Test score:\", RFreg.score(X_test, y_test))"
   ]
  },
  {
   "cell_type": "markdown",
   "metadata": {},
   "source": [
    "This regressor is incredibly overfit, as the test score is nearly 50% lower than the train score. Further work is necessary to get a less overfitted model. First I want to see if there are any differences in the class balance in the testing and training sets."
   ]
  },
  {
   "cell_type": "code",
   "execution_count": 29,
   "metadata": {
    "collapsed": false,
    "scrolled": true
   },
   "outputs": [
    {
     "name": "stdout",
     "output_type": "stream",
     "text": [
      "Training set extreme lows: 6710\n",
      "Expected test set extreme lows: 2875.714285714286\n",
      "Actual test set extreme lows: 2781\n",
      "Training set lows: 118778\n",
      "Expected test set lows: 50904.857142857145\n",
      "Actual test set lows: 50579\n",
      "Training set medium: 330224\n",
      "Expected test set medium: 141524.57142857142\n",
      "Actual test set medium: 141461\n",
      "Training set high: 36730\n",
      "Expected test set high: 15741.42857142857\n",
      "Actual test set high: 15900\n"
     ]
    }
   ],
   "source": [
    "print(\"Training set extreme lows:\", sum(y_train < 10000))\n",
    "print(\"Expected test set extreme lows:\", sum(y_train < 10000) * 3/7)\n",
    "print(\"Actual test set extreme lows:\", sum(y_test < 10000))\n",
    "print(\"Training set lows:\", sum(y_train < 100000))\n",
    "print(\"Expected test set lows:\", sum(y_train < 100000) * 3/7)\n",
    "print(\"Actual test set lows:\", sum(y_test < 100000))\n",
    "print(\"Training set medium:\", sum((y_train >= 10000) & (y_train < 500000)))\n",
    "print(\"Expected test set medium:\", sum((y_train >= 10000) & (y_train < 500000)) * 3/7)\n",
    "print(\"Actual test set medium:\", sum((y_test >= 10000) & (y_test < 500000)))\n",
    "print(\"Training set high:\", sum(y_train >= 500000))\n",
    "print(\"Expected test set high:\", sum(y_train >= 500000) * 3/7)\n",
    "print(\"Actual test set high:\", sum(y_test >= 500000))"
   ]
  },
  {
   "cell_type": "markdown",
   "metadata": {},
   "source": [
    "Apparently there is not a class imbalance in the training and test set. Next I want to see if another regressor will improve accuracy. Perhaps this problem is not appropriate for regression. Let's try a multiclass classifier to see how well it scores all of the extremely low, low, medium and high price homes."
   ]
  },
  {
   "cell_type": "code",
   "execution_count": 31,
   "metadata": {
    "collapsed": false
   },
   "outputs": [],
   "source": [
    "Yclass = np.zeros(len(Y))\n",
    "Yclass[Y < 10000] = 1\n",
    "Yclass[(Y>=10000) & (Y<100000)] = 2\n",
    "Yclass[(Y>=100000) & (Y<500000)] = 3\n",
    "Yclass[Y>=500000] = 4\n",
    "\n",
    "X_train, X_test, y_train, y_test = ttsplit(X, Yclass, test_size = 0.3, random_state = 4)"
   ]
  },
  {
   "cell_type": "code",
   "execution_count": 32,
   "metadata": {
    "collapsed": false
   },
   "outputs": [
    {
     "name": "stdout",
     "output_type": "stream",
     "text": [
      "CPU times: user 1min 49s, sys: 2.69 s, total: 1min 52s\n",
      "Wall time: 1min 6s\n"
     ]
    }
   ],
   "source": [
    "%%time\n",
    "\n",
    "clf = RandomForestClassifier(n_estimators = 50, n_jobs = -1)\n",
>>>>>>> c5801553cbb0e3befb17afcfc7f78cd82ded8382
    "clf.fit(X_train, y_train)"
   ]
  },
  {
   "cell_type": "code",
   "execution_count": 33,
   "metadata": {
    "collapsed": false
   },
   "outputs": [
    {
     "name": "stdout",
     "output_type": "stream",
     "text": [
<<<<<<< HEAD
      "Train score: 1.0\n",
      "Test score: 0.746687315008\n",
      "CPU times: user 1min 45s, sys: 15.2 s, total: 2min\n",
      "Wall time: 2min 24s\n"
=======
      "Train score: 0.999718998887\n",
      "Test score: 0.744039664797\n",
      "CPU times: user 25.5 s, sys: 1.96 s, total: 27.5 s\n",
      "Wall time: 18.5 s\n"
>>>>>>> c5801553cbb0e3befb17afcfc7f78cd82ded8382
     ]
    }
   ],
   "source": [
    "%%time\n",
    "\n",
    "print(\"Train score:\", clf.score(X_train, y_train))\n",
    "print(\"Test score:\", clf.score(X_test, y_test))"
   ]
  },
  {
   "cell_type": "markdown",
   "metadata": {},
   "source": [
    "By changing the algorithm from a regressor to classifying homes into one of four groups, we have a different understanding of the problem and a fairly accurate classifier.\n",
    "\n",
<<<<<<< HEAD
    "I would like to see which features are most important. This can be enlightening to humans looking at the problem who may want to research further."
=======
    "## Part V: Feature Engineering\n",
    "I believe that we can add a few features that may improve the accuracy of our regression algorithm. The number of people per room in a home shows how crowded a home is. How crowded a home is may affect the price, so I will add the number of people per room as a feature label labeled \"Crowding.\""
>>>>>>> c5801553cbb0e3befb17afcfc7f78cd82ded8382
   ]
  },
  {
   "cell_type": "code",
   "execution_count": 40,
   "metadata": {
    "collapsed": false
   },
   "outputs": [
    {
     "data": {
<<<<<<< HEAD
      "text/plain": [
       "Yearly_Insurance_Cost    0.203696\n",
       "Household_Income         0.163863\n",
       "Yearly_Water             0.097785\n",
       "Monthly_Electric         0.097525\n",
       "Monthly_Gas              0.085016\n",
       "Age                      0.075950\n",
       "Crowding                 0.052854\n",
       "Num_Rooms                0.040166\n",
       "Mobile_Home              0.035405\n",
       "Num_Bedrooms             0.034132\n",
       "Num_Vehicles             0.032426\n",
       "Num_People               0.025507\n",
       "Lot_Size                 0.016986\n",
       "NY                       0.016698\n",
       "TX                       0.015856\n",
       "WY                       0.002520\n",
       "ND                       0.002254\n",
       "Has_Hot_Water            0.000574\n",
       "Has_Bathtub              0.000407\n",
       "Has_Sink                 0.000379\n",
       "dtype: float64"
      ]
     },
     "execution_count": 31,
=======
      "text/html": [
       "<div>\n",
       "<style scoped>\n",
       "    .dataframe tbody tr th:only-of-type {\n",
       "        vertical-align: middle;\n",
       "    }\n",
       "\n",
       "    .dataframe tbody tr th {\n",
       "        vertical-align: top;\n",
       "    }\n",
       "\n",
       "    .dataframe thead th {\n",
       "        text-align: right;\n",
       "    }\n",
       "</style>\n",
       "<table border=\"1\" class=\"dataframe\">\n",
       "  <thead>\n",
       "    <tr style=\"text-align: right;\">\n",
       "      <th></th>\n",
       "      <th>Num_People</th>\n",
       "      <th>Lot_Size</th>\n",
       "      <th>Has_Bathtub</th>\n",
       "      <th>Num_Bedrooms</th>\n",
       "      <th>Monthly_Electric</th>\n",
       "      <th>Monthly_Gas</th>\n",
       "      <th>Yearly_Insurance_Cost</th>\n",
       "      <th>Num_Rooms</th>\n",
       "      <th>Has_Hot_Water</th>\n",
       "      <th>Has_Sink</th>\n",
       "      <th>Num_Vehicles</th>\n",
       "      <th>Yearly_Water</th>\n",
       "      <th>Age</th>\n",
       "      <th>Household_Income</th>\n",
       "      <th>NY</th>\n",
       "      <th>ND</th>\n",
       "      <th>TX</th>\n",
       "      <th>WY</th>\n",
       "      <th>Mobile_Home</th>\n",
       "      <th>Crowding</th>\n",
       "    </tr>\n",
       "  </thead>\n",
       "  <tbody>\n",
       "    <tr>\n",
       "      <th>count</th>\n",
       "      <td>533806.000000</td>\n",
       "      <td>533806.000000</td>\n",
       "      <td>533806.000000</td>\n",
       "      <td>533806.000000</td>\n",
       "      <td>533806.000000</td>\n",
       "      <td>533806.000000</td>\n",
       "      <td>533806.000000</td>\n",
       "      <td>533806.000000</td>\n",
       "      <td>533806.000000</td>\n",
       "      <td>533806.000000</td>\n",
       "      <td>533806.000000</td>\n",
       "      <td>533806.000000</td>\n",
       "      <td>533806.000000</td>\n",
       "      <td>5.338060e+05</td>\n",
       "      <td>533806.000000</td>\n",
       "      <td>533806.000000</td>\n",
       "      <td>533806.000000</td>\n",
       "      <td>533806.000000</td>\n",
       "      <td>533806.000000</td>\n",
       "      <td>533806.000000</td>\n",
       "    </tr>\n",
       "    <tr>\n",
       "      <th>mean</th>\n",
       "      <td>2.642762</td>\n",
       "      <td>1.293528</td>\n",
       "      <td>1.001973</td>\n",
       "      <td>3.209711</td>\n",
       "      <td>177.314982</td>\n",
       "      <td>58.539719</td>\n",
       "      <td>1093.358478</td>\n",
       "      <td>6.774317</td>\n",
       "      <td>1.002823</td>\n",
       "      <td>1.001907</td>\n",
       "      <td>2.032564</td>\n",
       "      <td>537.047152</td>\n",
       "      <td>42.996645</td>\n",
       "      <td>9.608902e+04</td>\n",
       "      <td>0.367679</td>\n",
       "      <td>0.021238</td>\n",
       "      <td>0.594705</td>\n",
       "      <td>0.016379</td>\n",
       "      <td>0.067195</td>\n",
       "      <td>0.421761</td>\n",
       "    </tr>\n",
       "    <tr>\n",
       "      <th>std</th>\n",
       "      <td>1.461454</td>\n",
       "      <td>0.566703</td>\n",
       "      <td>0.044370</td>\n",
       "      <td>0.940672</td>\n",
       "      <td>107.326579</td>\n",
       "      <td>83.606656</td>\n",
       "      <td>1047.753963</td>\n",
       "      <td>2.223480</td>\n",
       "      <td>0.053058</td>\n",
       "      <td>0.043628</td>\n",
       "      <td>1.005941</td>\n",
       "      <td>569.720262</td>\n",
       "      <td>26.485214</td>\n",
       "      <td>9.971726e+04</td>\n",
       "      <td>0.482174</td>\n",
       "      <td>0.144177</td>\n",
       "      <td>0.490950</td>\n",
       "      <td>0.126927</td>\n",
       "      <td>0.250359</td>\n",
       "      <td>0.292771</td>\n",
       "    </tr>\n",
       "    <tr>\n",
       "      <th>min</th>\n",
       "      <td>1.000000</td>\n",
       "      <td>1.000000</td>\n",
       "      <td>1.000000</td>\n",
       "      <td>0.000000</td>\n",
       "      <td>1.000000</td>\n",
       "      <td>1.000000</td>\n",
       "      <td>0.000000</td>\n",
       "      <td>1.000000</td>\n",
       "      <td>1.000000</td>\n",
       "      <td>1.000000</td>\n",
       "      <td>0.000000</td>\n",
       "      <td>1.000000</td>\n",
       "      <td>0.000000</td>\n",
       "      <td>-1.722361e+04</td>\n",
       "      <td>0.000000</td>\n",
       "      <td>0.000000</td>\n",
       "      <td>0.000000</td>\n",
       "      <td>0.000000</td>\n",
       "      <td>0.000000</td>\n",
       "      <td>0.045455</td>\n",
       "    </tr>\n",
       "    <tr>\n",
       "      <th>25%</th>\n",
       "      <td>2.000000</td>\n",
       "      <td>1.000000</td>\n",
       "      <td>1.000000</td>\n",
       "      <td>3.000000</td>\n",
       "      <td>100.115000</td>\n",
       "      <td>3.052602</td>\n",
       "      <td>454.218600</td>\n",
       "      <td>5.000000</td>\n",
       "      <td>1.000000</td>\n",
       "      <td>1.000000</td>\n",
       "      <td>1.000000</td>\n",
       "      <td>73.771180</td>\n",
       "      <td>20.000000</td>\n",
       "      <td>3.784778e+04</td>\n",
       "      <td>0.000000</td>\n",
       "      <td>0.000000</td>\n",
       "      <td>0.000000</td>\n",
       "      <td>0.000000</td>\n",
       "      <td>0.000000</td>\n",
       "      <td>0.250000</td>\n",
       "    </tr>\n",
       "    <tr>\n",
       "      <th>50%</th>\n",
       "      <td>2.000000</td>\n",
       "      <td>1.000000</td>\n",
       "      <td>1.000000</td>\n",
       "      <td>3.000000</td>\n",
       "      <td>152.630100</td>\n",
       "      <td>30.034500</td>\n",
       "      <td>915.780600</td>\n",
       "      <td>6.000000</td>\n",
       "      <td>1.000000</td>\n",
       "      <td>1.000000</td>\n",
       "      <td>2.000000</td>\n",
       "      <td>412.926000</td>\n",
       "      <td>40.000000</td>\n",
       "      <td>7.073984e+04</td>\n",
       "      <td>0.000000</td>\n",
       "      <td>0.000000</td>\n",
       "      <td>1.000000</td>\n",
       "      <td>0.000000</td>\n",
       "      <td>0.000000</td>\n",
       "      <td>0.333333</td>\n",
       "    </tr>\n",
       "    <tr>\n",
       "      <th>75%</th>\n",
       "      <td>4.000000</td>\n",
       "      <td>1.000000</td>\n",
       "      <td>1.000000</td>\n",
       "      <td>4.000000</td>\n",
       "      <td>230.264500</td>\n",
       "      <td>80.092000</td>\n",
       "      <td>1445.241000</td>\n",
       "      <td>8.000000</td>\n",
       "      <td>1.000000</td>\n",
       "      <td>1.000000</td>\n",
       "      <td>3.000000</td>\n",
       "      <td>814.027200</td>\n",
       "      <td>60.000000</td>\n",
       "      <td>1.188851e+05</td>\n",
       "      <td>1.000000</td>\n",
       "      <td>0.000000</td>\n",
       "      <td>1.000000</td>\n",
       "      <td>0.000000</td>\n",
       "      <td>0.000000</td>\n",
       "      <td>0.500000</td>\n",
       "    </tr>\n",
       "    <tr>\n",
       "      <th>max</th>\n",
       "      <td>20.000000</td>\n",
       "      <td>3.000000</td>\n",
       "      <td>2.000000</td>\n",
       "      <td>12.000000</td>\n",
       "      <td>650.000000</td>\n",
       "      <td>570.000000</td>\n",
       "      <td>8109.315000</td>\n",
       "      <td>22.000000</td>\n",
       "      <td>2.000000</td>\n",
       "      <td>2.000000</td>\n",
       "      <td>6.000000</td>\n",
       "      <td>3793.946400</td>\n",
       "      <td>90.000000</td>\n",
       "      <td>2.142699e+06</td>\n",
       "      <td>1.000000</td>\n",
       "      <td>1.000000</td>\n",
       "      <td>1.000000</td>\n",
       "      <td>1.000000</td>\n",
       "      <td>1.000000</td>\n",
       "      <td>9.000000</td>\n",
       "    </tr>\n",
       "  </tbody>\n",
       "</table>\n",
       "</div>"
      ],
      "text/plain": [
       "          Num_People       Lot_Size    Has_Bathtub   Num_Bedrooms  \\\n",
       "count  533806.000000  533806.000000  533806.000000  533806.000000   \n",
       "mean        2.642762       1.293528       1.001973       3.209711   \n",
       "std         1.461454       0.566703       0.044370       0.940672   \n",
       "min         1.000000       1.000000       1.000000       0.000000   \n",
       "25%         2.000000       1.000000       1.000000       3.000000   \n",
       "50%         2.000000       1.000000       1.000000       3.000000   \n",
       "75%         4.000000       1.000000       1.000000       4.000000   \n",
       "max        20.000000       3.000000       2.000000      12.000000   \n",
       "\n",
       "       Monthly_Electric    Monthly_Gas  Yearly_Insurance_Cost      Num_Rooms  \\\n",
       "count     533806.000000  533806.000000          533806.000000  533806.000000   \n",
       "mean         177.314982      58.539719            1093.358478       6.774317   \n",
       "std          107.326579      83.606656            1047.753963       2.223480   \n",
       "min            1.000000       1.000000               0.000000       1.000000   \n",
       "25%          100.115000       3.052602             454.218600       5.000000   \n",
       "50%          152.630100      30.034500             915.780600       6.000000   \n",
       "75%          230.264500      80.092000            1445.241000       8.000000   \n",
       "max          650.000000     570.000000            8109.315000      22.000000   \n",
       "\n",
       "       Has_Hot_Water       Has_Sink   Num_Vehicles   Yearly_Water  \\\n",
       "count  533806.000000  533806.000000  533806.000000  533806.000000   \n",
       "mean        1.002823       1.001907       2.032564     537.047152   \n",
       "std         0.053058       0.043628       1.005941     569.720262   \n",
       "min         1.000000       1.000000       0.000000       1.000000   \n",
       "25%         1.000000       1.000000       1.000000      73.771180   \n",
       "50%         1.000000       1.000000       2.000000     412.926000   \n",
       "75%         1.000000       1.000000       3.000000     814.027200   \n",
       "max         2.000000       2.000000       6.000000    3793.946400   \n",
       "\n",
       "                 Age  Household_Income             NY             ND  \\\n",
       "count  533806.000000      5.338060e+05  533806.000000  533806.000000   \n",
       "mean       42.996645      9.608902e+04       0.367679       0.021238   \n",
       "std        26.485214      9.971726e+04       0.482174       0.144177   \n",
       "min         0.000000     -1.722361e+04       0.000000       0.000000   \n",
       "25%        20.000000      3.784778e+04       0.000000       0.000000   \n",
       "50%        40.000000      7.073984e+04       0.000000       0.000000   \n",
       "75%        60.000000      1.188851e+05       1.000000       0.000000   \n",
       "max        90.000000      2.142699e+06       1.000000       1.000000   \n",
       "\n",
       "                  TX             WY    Mobile_Home       Crowding  \n",
       "count  533806.000000  533806.000000  533806.000000  533806.000000  \n",
       "mean        0.594705       0.016379       0.067195       0.421761  \n",
       "std         0.490950       0.126927       0.250359       0.292771  \n",
       "min         0.000000       0.000000       0.000000       0.045455  \n",
       "25%         0.000000       0.000000       0.000000       0.250000  \n",
       "50%         1.000000       0.000000       0.000000       0.333333  \n",
       "75%         1.000000       0.000000       0.000000       0.500000  \n",
       "max         1.000000       1.000000       1.000000       9.000000  "
      ]
     },
     "execution_count": 40,
>>>>>>> c5801553cbb0e3befb17afcfc7f78cd82ded8382
     "metadata": {},
     "output_type": "execute_result"
    }
   ],
   "source": [
<<<<<<< HEAD
    "pd.Series(data= clf.feature_importances_, index=X.columns).sort_values(ascending = False)"
=======
    "cols['Crowding'] = cols.Num_People / cols.Num_Rooms\n",
    "X = cols[[col for col in cols if col != 'Price']]\n",
    "X.describe()"
>>>>>>> c5801553cbb0e3befb17afcfc7f78cd82ded8382
   ]
  },
  {
   "cell_type": "markdown",
   "metadata": {},
   "source": [
<<<<<<< HEAD
    "# Conclusion:\n",
    "\n",
    "We have retrieved our data from an outside source, cleaned the data and engineered new features, analyzed the data using the traditional method of regression, and then used a classification algorithm to improve our results. We have an algorithm that can classify a home's value as either less than $10,000, between $10,000 and $100,000, between $100,000 and $500,000, or greater than $500,000 with 74.6% accuracy."
   ]
  },
  {
=======
    "The number of rooms in the house is somewhat dependent on the number of bedrooms, so it might be best to alter the number of rooms to the number of non-bedroom rooms."
   ]
  },
  {
   "cell_type": "code",
   "execution_count": 49,
   "metadata": {
    "collapsed": false
   },
   "outputs": [
    {
     "name": "stderr",
     "output_type": "stream",
     "text": [
      "/Users/hunter/anaconda/lib/python3.6/site-packages/pandas/core/generic.py:3643: SettingWithCopyWarning: \n",
      "A value is trying to be set on a copy of a slice from a DataFrame.\n",
      "Try using .loc[row_indexer,col_indexer] = value instead\n",
      "\n",
      "See the caveats in the documentation: http://pandas.pydata.org/pandas-docs/stable/indexing.html#indexing-view-versus-copy\n",
      "  self[name] = value\n"
     ]
    }
   ],
   "source": [
    "X.Num_Rooms -= X.Num_Bedrooms"
   ]
  },
  {
   "cell_type": "markdown",
   "metadata": {},
   "source": [
    "## Part VI: Final Attempt at Regression and Classification\n",
    "\n",
    "Now that we have finished our feature engineering, let's see if we can get a better score on regression and also classification. We will also not scale the features since we are using random forest algorithm."
   ]
  },
  {
   "cell_type": "code",
   "execution_count": 50,
   "metadata": {
    "collapsed": false
   },
   "outputs": [],
   "source": [
    "#split into test and train\n",
    "X_train, X_test, y_train, y_test = ttsplit(X, Y, test_size = 0.3, random_state = 4)\n",
    "\n",
    "xcl_train, xcl_test, ycl_train, ycl_test = ttsplit(X, Yclass, test_size=0.3, random_state=4)"
   ]
  },
  {
   "cell_type": "code",
   "execution_count": 51,
   "metadata": {
    "collapsed": false
   },
   "outputs": [
    {
     "name": "stdout",
     "output_type": "stream",
     "text": [
      "0.440479943375\n",
      "CPU times: user 13min 32s, sys: 22.2 s, total: 13min 54s\n",
      "Wall time: 7min 55s\n"
     ]
    }
   ],
   "source": [
    "%%time\n",
    "RFreg.fit(X_train, y_train)\n",
    "print(RFreg.score(X_test, y_test))"
   ]
  },
  {
   "cell_type": "code",
   "execution_count": 52,
   "metadata": {
    "collapsed": false
   },
   "outputs": [
    {
     "name": "stdout",
     "output_type": "stream",
     "text": [
      "0.741929037979\n",
      "CPU times: user 2min 9s, sys: 5.17 s, total: 2min 14s\n",
      "Wall time: 1min 18s\n"
     ]
    }
   ],
   "source": [
    "%%time\n",
    "clf = RandomForestClassifier(n_estimators=50,n_jobs=-1)\n",
    "clf.fit(xcl_train,ycl_train)\n",
    "print(clf.score(xcl_test,ycl_test))"
   ]
  },
  {
   "cell_type": "markdown",
   "metadata": {},
   "source": [
    "Feature engineering has improved our regressor slightly!"
   ]
  },
  {
>>>>>>> c5801553cbb0e3befb17afcfc7f78cd82ded8382
   "cell_type": "code",
   "execution_count": null,
   "metadata": {
    "collapsed": true
   },
   "outputs": [],
   "source": []
  }
 ],
 "metadata": {
  "kernelspec": {
   "display_name": "Python [default]",
   "language": "python",
   "name": "python3"
  },
  "language_info": {
   "codemirror_mode": {
    "name": "ipython",
    "version": 3
   },
   "file_extension": ".py",
   "mimetype": "text/x-python",
   "name": "python",
   "nbconvert_exporter": "python",
   "pygments_lexer": "ipython3",
   "version": "3.6.2"
  }
 },
 "nbformat": 4,
 "nbformat_minor": 2
}
